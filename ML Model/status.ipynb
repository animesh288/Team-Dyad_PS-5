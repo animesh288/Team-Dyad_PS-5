{
 "cells": [
  {
   "cell_type": "code",
   "execution_count": 1,
   "metadata": {},
   "outputs": [],
   "source": [
    "import pandas as pd\n",
    "import numpy as np\n",
    "import seaborn as sns\n",
    "import datetime\n",
    "import matplotlib.pyplot as plt\n",
    "%matplotlib inline"
   ]
  },
  {
   "cell_type": "code",
   "execution_count": 2,
   "metadata": {},
   "outputs": [
    {
     "data": {
      "text/html": [
       "<div>\n",
       "<style scoped>\n",
       "    .dataframe tbody tr th:only-of-type {\n",
       "        vertical-align: middle;\n",
       "    }\n",
       "\n",
       "    .dataframe tbody tr th {\n",
       "        vertical-align: top;\n",
       "    }\n",
       "\n",
       "    .dataframe thead th {\n",
       "        text-align: right;\n",
       "    }\n",
       "</style>\n",
       "<table border=\"1\" class=\"dataframe\">\n",
       "  <thead>\n",
       "    <tr style=\"text-align: right;\">\n",
       "      <th></th>\n",
       "      <th>SEQN</th>\n",
       "      <th>depression</th>\n",
       "      <th>gender</th>\n",
       "      <th>age</th>\n",
       "      <th>race</th>\n",
       "      <th>citizenship</th>\n",
       "      <th>education_level</th>\n",
       "      <th>marital_status</th>\n",
       "      <th>household_size</th>\n",
       "      <th>pregnant</th>\n",
       "      <th>...</th>\n",
       "      <th>current_smoker</th>\n",
       "      <th>previous_cigarettes_per_day</th>\n",
       "      <th>current_cigarettes_per_day</th>\n",
       "      <th>days_quit_smoking</th>\n",
       "      <th>household_smokers</th>\n",
       "      <th>prescriptions_count</th>\n",
       "      <th>Health Score (more is good)</th>\n",
       "      <th>Addiction Score(Lesser is good)</th>\n",
       "      <th>Sleep &amp; Work Score (more is good)</th>\n",
       "      <th>depression percentage</th>\n",
       "    </tr>\n",
       "  </thead>\n",
       "  <tbody>\n",
       "    <tr>\n",
       "      <th>0</th>\n",
       "      <td>31131</td>\n",
       "      <td>Not Depressed</td>\n",
       "      <td>Female</td>\n",
       "      <td>44</td>\n",
       "      <td>Black</td>\n",
       "      <td>Citizen</td>\n",
       "      <td>4</td>\n",
       "      <td>Married</td>\n",
       "      <td>4</td>\n",
       "      <td>No</td>\n",
       "      <td>...</td>\n",
       "      <td>0</td>\n",
       "      <td>0</td>\n",
       "      <td>0</td>\n",
       "      <td>0</td>\n",
       "      <td>4</td>\n",
       "      <td>2</td>\n",
       "      <td>83.33</td>\n",
       "      <td>19.27</td>\n",
       "      <td>87.80</td>\n",
       "      <td>18.28</td>\n",
       "    </tr>\n",
       "    <tr>\n",
       "      <th>1</th>\n",
       "      <td>31132</td>\n",
       "      <td>Not Depressed</td>\n",
       "      <td>Male</td>\n",
       "      <td>70</td>\n",
       "      <td>White</td>\n",
       "      <td>Citizen</td>\n",
       "      <td>5</td>\n",
       "      <td>Married</td>\n",
       "      <td>2</td>\n",
       "      <td>Missing</td>\n",
       "      <td>...</td>\n",
       "      <td>0</td>\n",
       "      <td>0</td>\n",
       "      <td>0</td>\n",
       "      <td>0</td>\n",
       "      <td>4</td>\n",
       "      <td>4</td>\n",
       "      <td>87.50</td>\n",
       "      <td>19.51</td>\n",
       "      <td>92.68</td>\n",
       "      <td>14.45</td>\n",
       "    </tr>\n",
       "    <tr>\n",
       "      <th>2</th>\n",
       "      <td>31134</td>\n",
       "      <td>Not Depressed</td>\n",
       "      <td>Male</td>\n",
       "      <td>73</td>\n",
       "      <td>White</td>\n",
       "      <td>Citizen</td>\n",
       "      <td>3</td>\n",
       "      <td>Married</td>\n",
       "      <td>2</td>\n",
       "      <td>Missing</td>\n",
       "      <td>...</td>\n",
       "      <td>0</td>\n",
       "      <td>0</td>\n",
       "      <td>0</td>\n",
       "      <td>0</td>\n",
       "      <td>4</td>\n",
       "      <td>5</td>\n",
       "      <td>83.33</td>\n",
       "      <td>19.75</td>\n",
       "      <td>94.15</td>\n",
       "      <td>17.32</td>\n",
       "    </tr>\n",
       "    <tr>\n",
       "      <th>3</th>\n",
       "      <td>31139</td>\n",
       "      <td>Not Depressed</td>\n",
       "      <td>Female</td>\n",
       "      <td>18</td>\n",
       "      <td>Other Hispanic</td>\n",
       "      <td>Citizen</td>\n",
       "      <td>0</td>\n",
       "      <td>Never Married</td>\n",
       "      <td>3</td>\n",
       "      <td>No</td>\n",
       "      <td>...</td>\n",
       "      <td>0</td>\n",
       "      <td>0</td>\n",
       "      <td>0</td>\n",
       "      <td>0</td>\n",
       "      <td>1</td>\n",
       "      <td>0</td>\n",
       "      <td>91.67</td>\n",
       "      <td>19.27</td>\n",
       "      <td>93.41</td>\n",
       "      <td>11.19</td>\n",
       "    </tr>\n",
       "    <tr>\n",
       "      <th>4</th>\n",
       "      <td>31143</td>\n",
       "      <td>Not Depressed</td>\n",
       "      <td>Male</td>\n",
       "      <td>19</td>\n",
       "      <td>White</td>\n",
       "      <td>Citizen</td>\n",
       "      <td>0</td>\n",
       "      <td>Never Married</td>\n",
       "      <td>3</td>\n",
       "      <td>Missing</td>\n",
       "      <td>...</td>\n",
       "      <td>0</td>\n",
       "      <td>0</td>\n",
       "      <td>2</td>\n",
       "      <td>0</td>\n",
       "      <td>4</td>\n",
       "      <td>1</td>\n",
       "      <td>97.92</td>\n",
       "      <td>20.86</td>\n",
       "      <td>87.56</td>\n",
       "      <td>8.30</td>\n",
       "    </tr>\n",
       "  </tbody>\n",
       "</table>\n",
       "<p>5 rows × 116 columns</p>\n",
       "</div>"
      ],
      "text/plain": [
       "    SEQN     depression  gender  age            race citizenship  \\\n",
       "0  31131  Not Depressed  Female   44           Black     Citizen   \n",
       "1  31132  Not Depressed    Male   70           White     Citizen   \n",
       "2  31134  Not Depressed    Male   73           White     Citizen   \n",
       "3  31139  Not Depressed  Female   18  Other Hispanic     Citizen   \n",
       "4  31143  Not Depressed    Male   19           White     Citizen   \n",
       "\n",
       "   education_level marital_status  household_size pregnant  ...  \\\n",
       "0                4        Married               4       No  ...   \n",
       "1                5        Married               2  Missing  ...   \n",
       "2                3        Married               2  Missing  ...   \n",
       "3                0  Never Married               3       No  ...   \n",
       "4                0  Never Married               3  Missing  ...   \n",
       "\n",
       "  current_smoker previous_cigarettes_per_day  current_cigarettes_per_day  \\\n",
       "0              0                           0                           0   \n",
       "1              0                           0                           0   \n",
       "2              0                           0                           0   \n",
       "3              0                           0                           0   \n",
       "4              0                           0                           2   \n",
       "\n",
       "   days_quit_smoking  household_smokers  prescriptions_count  \\\n",
       "0                  0                  4                    2   \n",
       "1                  0                  4                    4   \n",
       "2                  0                  4                    5   \n",
       "3                  0                  1                    0   \n",
       "4                  0                  4                    1   \n",
       "\n",
       "   Health Score (more is good)  Addiction Score(Lesser is good)  \\\n",
       "0                        83.33                            19.27   \n",
       "1                        87.50                            19.51   \n",
       "2                        83.33                            19.75   \n",
       "3                        91.67                            19.27   \n",
       "4                        97.92                            20.86   \n",
       "\n",
       "   Sleep & Work Score (more is good)  depression percentage  \n",
       "0                              87.80                  18.28  \n",
       "1                              92.68                  14.45  \n",
       "2                              94.15                  17.32  \n",
       "3                              93.41                  11.19  \n",
       "4                              87.56                   8.30  \n",
       "\n",
       "[5 rows x 116 columns]"
      ]
     },
     "execution_count": 2,
     "metadata": {},
     "output_type": "execute_result"
    }
   ],
   "source": [
    "#Reading the file\n",
    "df = pd.read_csv(\"5outputdata.csv\")\n",
    "\n",
    "df.head()"
   ]
  },
  {
   "cell_type": "code",
   "execution_count": 3,
   "metadata": {},
   "outputs": [
    {
     "data": {
      "text/html": [
       "<div>\n",
       "<style scoped>\n",
       "    .dataframe tbody tr th:only-of-type {\n",
       "        vertical-align: middle;\n",
       "    }\n",
       "\n",
       "    .dataframe tbody tr th {\n",
       "        vertical-align: top;\n",
       "    }\n",
       "\n",
       "    .dataframe thead th {\n",
       "        text-align: right;\n",
       "    }\n",
       "</style>\n",
       "<table border=\"1\" class=\"dataframe\">\n",
       "  <thead>\n",
       "    <tr style=\"text-align: right;\">\n",
       "      <th></th>\n",
       "      <th>age</th>\n",
       "      <th>education_level</th>\n",
       "      <th>household_size</th>\n",
       "      <th>household_income</th>\n",
       "      <th>asthma</th>\n",
       "      <th>anemia</th>\n",
       "      <th>ever_overweight</th>\n",
       "      <th>blood_transfusion</th>\n",
       "      <th>heart_failure</th>\n",
       "      <th>heart_disease</th>\n",
       "      <th>...</th>\n",
       "      <th>current_smoker</th>\n",
       "      <th>previous_cigarettes_per_day</th>\n",
       "      <th>current_cigarettes_per_day</th>\n",
       "      <th>days_quit_smoking</th>\n",
       "      <th>household_smokers</th>\n",
       "      <th>prescriptions_count</th>\n",
       "      <th>Health Score (more is good)</th>\n",
       "      <th>Addiction Score(Lesser is good)</th>\n",
       "      <th>Sleep &amp; Work Score (more is good)</th>\n",
       "      <th>depression percentage</th>\n",
       "    </tr>\n",
       "  </thead>\n",
       "  <tbody>\n",
       "    <tr>\n",
       "      <th>count</th>\n",
       "      <td>36259.000000</td>\n",
       "      <td>36259.000000</td>\n",
       "      <td>36259.000000</td>\n",
       "      <td>36259.000000</td>\n",
       "      <td>36259.000000</td>\n",
       "      <td>36259.000000</td>\n",
       "      <td>36259.000000</td>\n",
       "      <td>36259.000000</td>\n",
       "      <td>36259.000000</td>\n",
       "      <td>36259.000000</td>\n",
       "      <td>...</td>\n",
       "      <td>36259.000000</td>\n",
       "      <td>36259.000000</td>\n",
       "      <td>36259.000000</td>\n",
       "      <td>36259.000000</td>\n",
       "      <td>36259.000000</td>\n",
       "      <td>36259.000000</td>\n",
       "      <td>36259.000000</td>\n",
       "      <td>36259.000000</td>\n",
       "      <td>36259.000000</td>\n",
       "      <td>36259.000000</td>\n",
       "    </tr>\n",
       "    <tr>\n",
       "      <th>mean</th>\n",
       "      <td>47.786260</td>\n",
       "      <td>3.209107</td>\n",
       "      <td>3.206349</td>\n",
       "      <td>6.919358</td>\n",
       "      <td>0.147743</td>\n",
       "      <td>0.042196</td>\n",
       "      <td>0.345211</td>\n",
       "      <td>0.116964</td>\n",
       "      <td>0.030586</td>\n",
       "      <td>0.038253</td>\n",
       "      <td>...</td>\n",
       "      <td>0.782178</td>\n",
       "      <td>3.487934</td>\n",
       "      <td>2.425770</td>\n",
       "      <td>1544.790838</td>\n",
       "      <td>2.265231</td>\n",
       "      <td>2.079566</td>\n",
       "      <td>85.549970</td>\n",
       "      <td>21.499624</td>\n",
       "      <td>74.527647</td>\n",
       "      <td>19.923273</td>\n",
       "    </tr>\n",
       "    <tr>\n",
       "      <th>std</th>\n",
       "      <td>18.763978</td>\n",
       "      <td>1.464932</td>\n",
       "      <td>1.677450</td>\n",
       "      <td>3.523153</td>\n",
       "      <td>0.354850</td>\n",
       "      <td>0.201040</td>\n",
       "      <td>0.475444</td>\n",
       "      <td>0.321382</td>\n",
       "      <td>0.172194</td>\n",
       "      <td>0.191808</td>\n",
       "      <td>...</td>\n",
       "      <td>1.095572</td>\n",
       "      <td>9.731544</td>\n",
       "      <td>6.641724</td>\n",
       "      <td>3828.916153</td>\n",
       "      <td>1.791525</td>\n",
       "      <td>2.888430</td>\n",
       "      <td>13.008381</td>\n",
       "      <td>7.050169</td>\n",
       "      <td>12.771491</td>\n",
       "      <td>10.414624</td>\n",
       "    </tr>\n",
       "    <tr>\n",
       "      <th>min</th>\n",
       "      <td>18.000000</td>\n",
       "      <td>0.000000</td>\n",
       "      <td>1.000000</td>\n",
       "      <td>0.000000</td>\n",
       "      <td>0.000000</td>\n",
       "      <td>0.000000</td>\n",
       "      <td>0.000000</td>\n",
       "      <td>0.000000</td>\n",
       "      <td>0.000000</td>\n",
       "      <td>0.000000</td>\n",
       "      <td>...</td>\n",
       "      <td>0.000000</td>\n",
       "      <td>0.000000</td>\n",
       "      <td>0.000000</td>\n",
       "      <td>0.000000</td>\n",
       "      <td>0.000000</td>\n",
       "      <td>0.000000</td>\n",
       "      <td>0.000000</td>\n",
       "      <td>0.000000</td>\n",
       "      <td>0.000000</td>\n",
       "      <td>0.000000</td>\n",
       "    </tr>\n",
       "    <tr>\n",
       "      <th>25%</th>\n",
       "      <td>31.000000</td>\n",
       "      <td>2.000000</td>\n",
       "      <td>2.000000</td>\n",
       "      <td>4.000000</td>\n",
       "      <td>0.000000</td>\n",
       "      <td>0.000000</td>\n",
       "      <td>0.000000</td>\n",
       "      <td>0.000000</td>\n",
       "      <td>0.000000</td>\n",
       "      <td>0.000000</td>\n",
       "      <td>...</td>\n",
       "      <td>0.000000</td>\n",
       "      <td>0.000000</td>\n",
       "      <td>0.000000</td>\n",
       "      <td>0.000000</td>\n",
       "      <td>0.000000</td>\n",
       "      <td>0.000000</td>\n",
       "      <td>79.170000</td>\n",
       "      <td>19.270000</td>\n",
       "      <td>65.850000</td>\n",
       "      <td>12.610000</td>\n",
       "    </tr>\n",
       "    <tr>\n",
       "      <th>50%</th>\n",
       "      <td>47.000000</td>\n",
       "      <td>3.000000</td>\n",
       "      <td>3.000000</td>\n",
       "      <td>7.000000</td>\n",
       "      <td>0.000000</td>\n",
       "      <td>0.000000</td>\n",
       "      <td>0.000000</td>\n",
       "      <td>0.000000</td>\n",
       "      <td>0.000000</td>\n",
       "      <td>0.000000</td>\n",
       "      <td>...</td>\n",
       "      <td>0.000000</td>\n",
       "      <td>0.000000</td>\n",
       "      <td>0.000000</td>\n",
       "      <td>0.000000</td>\n",
       "      <td>3.000000</td>\n",
       "      <td>1.000000</td>\n",
       "      <td>89.580000</td>\n",
       "      <td>19.590000</td>\n",
       "      <td>76.830000</td>\n",
       "      <td>17.170000</td>\n",
       "    </tr>\n",
       "    <tr>\n",
       "      <th>75%</th>\n",
       "      <td>63.000000</td>\n",
       "      <td>4.000000</td>\n",
       "      <td>4.000000</td>\n",
       "      <td>10.000000</td>\n",
       "      <td>0.000000</td>\n",
       "      <td>0.000000</td>\n",
       "      <td>1.000000</td>\n",
       "      <td>0.000000</td>\n",
       "      <td>0.000000</td>\n",
       "      <td>0.000000</td>\n",
       "      <td>...</td>\n",
       "      <td>1.000000</td>\n",
       "      <td>0.000000</td>\n",
       "      <td>0.000000</td>\n",
       "      <td>0.000000</td>\n",
       "      <td>4.000000</td>\n",
       "      <td>3.000000</td>\n",
       "      <td>93.750000</td>\n",
       "      <td>21.310000</td>\n",
       "      <td>84.150000</td>\n",
       "      <td>24.340000</td>\n",
       "    </tr>\n",
       "    <tr>\n",
       "      <th>max</th>\n",
       "      <td>85.000000</td>\n",
       "      <td>5.000000</td>\n",
       "      <td>7.000000</td>\n",
       "      <td>12.000000</td>\n",
       "      <td>1.000000</td>\n",
       "      <td>1.000000</td>\n",
       "      <td>1.000000</td>\n",
       "      <td>1.000000</td>\n",
       "      <td>1.000000</td>\n",
       "      <td>1.000000</td>\n",
       "      <td>...</td>\n",
       "      <td>3.000000</td>\n",
       "      <td>95.000000</td>\n",
       "      <td>95.000000</td>\n",
       "      <td>26280.000000</td>\n",
       "      <td>4.000000</td>\n",
       "      <td>23.000000</td>\n",
       "      <td>100.000000</td>\n",
       "      <td>100.000000</td>\n",
       "      <td>100.000000</td>\n",
       "      <td>100.000000</td>\n",
       "    </tr>\n",
       "  </tbody>\n",
       "</table>\n",
       "<p>8 rows × 97 columns</p>\n",
       "</div>"
      ],
      "text/plain": [
       "                age  education_level  household_size  household_income  \\\n",
       "count  36259.000000     36259.000000    36259.000000      36259.000000   \n",
       "mean      47.786260         3.209107        3.206349          6.919358   \n",
       "std       18.763978         1.464932        1.677450          3.523153   \n",
       "min       18.000000         0.000000        1.000000          0.000000   \n",
       "25%       31.000000         2.000000        2.000000          4.000000   \n",
       "50%       47.000000         3.000000        3.000000          7.000000   \n",
       "75%       63.000000         4.000000        4.000000         10.000000   \n",
       "max       85.000000         5.000000        7.000000         12.000000   \n",
       "\n",
       "             asthma        anemia  ever_overweight  blood_transfusion  \\\n",
       "count  36259.000000  36259.000000     36259.000000       36259.000000   \n",
       "mean       0.147743      0.042196         0.345211           0.116964   \n",
       "std        0.354850      0.201040         0.475444           0.321382   \n",
       "min        0.000000      0.000000         0.000000           0.000000   \n",
       "25%        0.000000      0.000000         0.000000           0.000000   \n",
       "50%        0.000000      0.000000         0.000000           0.000000   \n",
       "75%        0.000000      0.000000         1.000000           0.000000   \n",
       "max        1.000000      1.000000         1.000000           1.000000   \n",
       "\n",
       "       heart_failure  heart_disease  ...  current_smoker  \\\n",
       "count   36259.000000   36259.000000  ...    36259.000000   \n",
       "mean        0.030586       0.038253  ...        0.782178   \n",
       "std         0.172194       0.191808  ...        1.095572   \n",
       "min         0.000000       0.000000  ...        0.000000   \n",
       "25%         0.000000       0.000000  ...        0.000000   \n",
       "50%         0.000000       0.000000  ...        0.000000   \n",
       "75%         0.000000       0.000000  ...        1.000000   \n",
       "max         1.000000       1.000000  ...        3.000000   \n",
       "\n",
       "       previous_cigarettes_per_day  current_cigarettes_per_day  \\\n",
       "count                 36259.000000                36259.000000   \n",
       "mean                      3.487934                    2.425770   \n",
       "std                       9.731544                    6.641724   \n",
       "min                       0.000000                    0.000000   \n",
       "25%                       0.000000                    0.000000   \n",
       "50%                       0.000000                    0.000000   \n",
       "75%                       0.000000                    0.000000   \n",
       "max                      95.000000                   95.000000   \n",
       "\n",
       "       days_quit_smoking  household_smokers  prescriptions_count  \\\n",
       "count       36259.000000       36259.000000         36259.000000   \n",
       "mean         1544.790838           2.265231             2.079566   \n",
       "std          3828.916153           1.791525             2.888430   \n",
       "min             0.000000           0.000000             0.000000   \n",
       "25%             0.000000           0.000000             0.000000   \n",
       "50%             0.000000           3.000000             1.000000   \n",
       "75%             0.000000           4.000000             3.000000   \n",
       "max         26280.000000           4.000000            23.000000   \n",
       "\n",
       "       Health Score (more is good)  Addiction Score(Lesser is good)  \\\n",
       "count                 36259.000000                     36259.000000   \n",
       "mean                     85.549970                        21.499624   \n",
       "std                      13.008381                         7.050169   \n",
       "min                       0.000000                         0.000000   \n",
       "25%                      79.170000                        19.270000   \n",
       "50%                      89.580000                        19.590000   \n",
       "75%                      93.750000                        21.310000   \n",
       "max                     100.000000                       100.000000   \n",
       "\n",
       "       Sleep & Work Score (more is good)  depression percentage  \n",
       "count                       36259.000000           36259.000000  \n",
       "mean                           74.527647              19.923273  \n",
       "std                            12.771491              10.414624  \n",
       "min                             0.000000               0.000000  \n",
       "25%                            65.850000              12.610000  \n",
       "50%                            76.830000              17.170000  \n",
       "75%                            84.150000              24.340000  \n",
       "max                           100.000000             100.000000  \n",
       "\n",
       "[8 rows x 97 columns]"
      ]
     },
     "execution_count": 3,
     "metadata": {},
     "output_type": "execute_result"
    }
   ],
   "source": [
    "df = df.drop('SEQN', 1)\n",
    "df.describe()"
   ]
  },
  {
   "cell_type": "code",
   "execution_count": 4,
   "metadata": {},
   "outputs": [
    {
     "data": {
      "text/plain": [
       "depression                           0\n",
       "gender                               0\n",
       "age                                  0\n",
       "race                                 0\n",
       "citizenship                          0\n",
       "                                    ..\n",
       "prescriptions_count                  0\n",
       "Health Score (more is good)          0\n",
       "Addiction Score(Lesser is good)      0\n",
       "Sleep & Work Score (more is good)    0\n",
       "depression percentage                0\n",
       "Length: 115, dtype: int64"
      ]
     },
     "execution_count": 4,
     "metadata": {},
     "output_type": "execute_result"
    }
   ],
   "source": [
    "df.isnull().sum()"
   ]
  },
  {
   "cell_type": "code",
   "execution_count": 5,
   "metadata": {},
   "outputs": [
    {
     "name": "stdout",
     "output_type": "stream",
     "text": [
      "<class 'pandas.core.frame.DataFrame'>\n",
      "RangeIndex: 36259 entries, 0 to 36258\n",
      "Columns: 115 entries, depression to depression percentage\n",
      "dtypes: float64(6), int64(91), object(18)\n",
      "memory usage: 31.8+ MB\n"
     ]
    }
   ],
   "source": [
    "df.info()"
   ]
  },
  {
   "cell_type": "markdown",
   "metadata": {},
   "source": [
    "## Exploratory Data Analysis (EDA)"
   ]
  },
  {
   "cell_type": "code",
   "execution_count": 6,
   "metadata": {},
   "outputs": [
    {
     "name": "stdout",
     "output_type": "stream",
     "text": [
      "Not Depressed    33091\n",
      "Depressed         3168\n",
      "Name: depression, dtype: int64"
     ]
    },
    {
     "name": "stderr",
     "output_type": "stream",
     "text": [
      "C:\\Users\\krish\\pythonproj\\env\\lib\\site-packages\\seaborn\\_decorators.py:36: FutureWarning: Pass the following variable as a keyword arg: x. From version 0.12, the only valid positional argument will be `data`, and passing other arguments without an explicit keyword will result in an error or misinterpretation.\n",
      "  warnings.warn(\n"
     ]
    },
    {
     "name": "stdout",
     "output_type": "stream",
     "text": [
      "\n"
     ]
    },
    {
     "data": {
      "image/png": "[encoded data removed]",
      "text/plain": [
       "<Figure size 432x288 with 1 Axes>"
      ]
     },
     "metadata": {
      "needs_background": "light"
     },
     "output_type": "display_data"
    }
   ],
   "source": [
    "y = df[\"depression\"]\n",
    "\n",
    "sns.countplot(y)\n",
    "\n",
    "\n",
    "target_temp = df.depression.value_counts()\n",
    "\n",
    "print(target_temp)"
   ]
  },
  {
   "cell_type": "code",
   "execution_count": 7,
   "metadata": {},
   "outputs": [
    {
     "data": {
      "text/plain": [
       "<matplotlib.collections.PathCollection at 0x115f45bdfd0>"
      ]
     },
     "execution_count": 7,
     "metadata": {},
     "output_type": "execute_result"
    },
    {
     "data": {
      "image/png": "[encoded data removed]",
      "text/plain": [
       "<Figure size 432x288 with 1 Axes>"
      ]
     },
     "metadata": {
      "needs_background": "light"
     },
     "output_type": "display_data"
    }
   ],
   "source": [
    "plt.scatter(x=df['Health Score (more is good)'],y=df['depression percentage'], color='green')"
   ]
  },
  {
   "cell_type": "code",
   "execution_count": 8,
   "metadata": {},
   "outputs": [
    {
     "name": "stdout",
     "output_type": "stream",
     "text": [
      "                                        age  education_level  household_size  \\\n",
      "age                                1.000000         0.126528       -0.379588   \n",
      "education_level                    0.126528         1.000000       -0.207495   \n",
      "household_size                    -0.379588        -0.207495        1.000000   \n",
      "household_income                  -0.058694         0.337183        0.103949   \n",
      "asthma                            -0.057311        -0.001601       -0.012668   \n",
      "...                                     ...              ...             ...   \n",
      "prescriptions_count                0.500400         0.027556       -0.255021   \n",
      "Health Score (more is good)       -0.516517        -0.015947        0.250182   \n",
      "Addiction Score(Lesser is good)   -0.199238        -0.077693        0.046763   \n",
      "Sleep & Work Score (more is good) -0.035662        -0.140686        0.115966   \n",
      "depression percentage              0.426626         0.025438       -0.241503   \n",
      "\n",
      "                                   household_income    asthma    anemia  \\\n",
      "age                                       -0.058694 -0.057311  0.048101   \n",
      "education_level                            0.337183 -0.001601 -0.006643   \n",
      "household_size                             0.103949 -0.012668 -0.015515   \n",
      "household_income                           1.000000 -0.032760 -0.041182   \n",
      "asthma                                    -0.032760  1.000000  0.051014   \n",
      "...                                             ...       ...       ...   \n",
      "prescriptions_count                       -0.092630  0.149713  0.145111   \n",
      "Health Score (more is good)                0.158343 -0.242299 -0.204681   \n",
      "Addiction Score(Lesser is good)           -0.112547  0.048833 -0.023255   \n",
      "Sleep & Work Score (more is good)         -0.084118 -0.064257 -0.038466   \n",
      "depression percentage                     -0.155030  0.247805  0.188991   \n",
      "\n",
      "                                   ever_overweight  blood_transfusion  \\\n",
      "age                                       0.109636           0.264255   \n",
      "education_level                           0.068490           0.015769   \n",
      "household_size                           -0.056883          -0.119515   \n",
      "household_income                          0.025610          -0.064549   \n",
      "asthma                                    0.096076           0.032993   \n",
      "...                                            ...                ...   \n",
      "prescriptions_count                       0.245239           0.256390   \n",
      "Health Score (more is good)              -0.377617          -0.341649   \n",
      "Addiction Score(Lesser is good)          -0.047768          -0.046186   \n",
      "Sleep & Work Score (more is good)        -0.106879          -0.050546   \n",
      "depression percentage                     0.355362           0.310504   \n",
      "\n",
      "                                   heart_failure  heart_disease  ...  \\\n",
      "age                                     0.177984       0.217022  ...   \n",
      "education_level                        -0.022075       0.000291  ...   \n",
      "household_size                         -0.071311      -0.094652  ...   \n",
      "household_income                       -0.069491      -0.037268  ...   \n",
      "asthma                                  0.049269       0.014621  ...   \n",
      "...                                          ...            ...  ...   \n",
      "prescriptions_count                     0.311349       0.299816  ...   \n",
      "Health Score (more is good)            -0.361479      -0.333677  ...   \n",
      "Addiction Score(Lesser is good)        -0.018465      -0.037942  ...   \n",
      "Sleep & Work Score (more is good)      -0.069038      -0.046928  ...   \n",
      "depression percentage                   0.339907       0.304587  ...   \n",
      "\n",
      "                                   current_smoker  \\\n",
      "age                                      0.035900   \n",
      "education_level                         -0.034910   \n",
      "household_size                          -0.050234   \n",
      "household_income                        -0.132253   \n",
      "asthma                                   0.046175   \n",
      "...                                           ...   \n",
      "prescriptions_count                      0.055504   \n",
      "Health Score (more is good)             -0.108563   \n",
      "Addiction Score(Lesser is good)          0.658079   \n",
      "Sleep & Work Score (more is good)       -0.001607   \n",
      "depression percentage                    0.271028   \n",
      "\n",
      "                                   previous_cigarettes_per_day  \\\n",
      "age                                                   0.272815   \n",
      "education_level                                       0.031760   \n",
      "household_size                                       -0.130380   \n",
      "household_income                                      0.003259   \n",
      "asthma                                                0.008858   \n",
      "...                                                        ...   \n",
      "prescriptions_count                                   0.221243   \n",
      "Health Score (more is good)                          -0.228902   \n",
      "Addiction Score(Lesser is good)                      -0.223093   \n",
      "Sleep & Work Score (more is good)                    -0.045136   \n",
      "depression percentage                                 0.160375   \n",
      "\n",
      "                                   current_cigarettes_per_day  \\\n",
      "age                                                 -0.044294   \n",
      "education_level                                     -0.069948   \n",
      "household_size                                      -0.018964   \n",
      "household_income                                    -0.112496   \n",
      "asthma                                               0.044552   \n",
      "...                                                       ...   \n",
      "prescriptions_count                                  0.010768   \n",
      "Health Score (more is good)                         -0.055581   \n",
      "Addiction Score(Lesser is good)                      0.914648   \n",
      "Sleep & Work Score (more is good)                    0.000080   \n",
      "depression percentage                                0.289340   \n",
      "\n",
      "                                   days_quit_smoking  household_smokers  \\\n",
      "age                                         0.383092          -0.036709   \n",
      "education_level                             0.056494          -0.055865   \n",
      "household_size                             -0.170732           0.033897   \n",
      "household_income                            0.024758          -0.046010   \n",
      "asthma                                     -0.010781          -0.021295   \n",
      "...                                              ...                ...   \n",
      "prescriptions_count                         0.218823          -0.040065   \n",
      "Health Score (more is good)                -0.215087           0.063120   \n",
      "Addiction Score(Lesser is good)            -0.483496          -0.039042   \n",
      "Sleep & Work Score (more is good)          -0.032157           0.180891   \n",
      "depression percentage                       0.076945          -0.107808   \n",
      "\n",
      "                                   prescriptions_count  \\\n",
      "age                                           0.500400   \n",
      "education_level                               0.027556   \n",
      "household_size                               -0.255021   \n",
      "household_income                             -0.092630   \n",
      "asthma                                        0.149713   \n",
      "...                                                ...   \n",
      "prescriptions_count                           1.000000   \n",
      "Health Score (more is good)                  -0.872877   \n",
      "Addiction Score(Lesser is good)              -0.076206   \n",
      "Sleep & Work Score (more is good)            -0.149244   \n",
      "depression percentage                         0.808666   \n",
      "\n",
      "                                   Health Score (more is good)  \\\n",
      "age                                                  -0.516517   \n",
      "education_level                                      -0.015947   \n",
      "household_size                                        0.250182   \n",
      "household_income                                      0.158343   \n",
      "asthma                                               -0.242299   \n",
      "...                                                        ...   \n",
      "prescriptions_count                                  -0.872877   \n",
      "Health Score (more is good)                           1.000000   \n",
      "Addiction Score(Lesser is good)                       0.030421   \n",
      "Sleep & Work Score (more is good)                     0.168348   \n",
      "depression percentage                                -0.940700   \n",
      "\n",
      "                                   Addiction Score(Lesser is good)  \\\n",
      "age                                                      -0.199238   \n",
      "education_level                                          -0.077693   \n",
      "household_size                                            0.046763   \n",
      "household_income                                         -0.112547   \n",
      "asthma                                                    0.048833   \n",
      "...                                                            ...   \n",
      "prescriptions_count                                      -0.076206   \n",
      "Health Score (more is good)                               0.030421   \n",
      "Addiction Score(Lesser is good)                           1.000000   \n",
      "Sleep & Work Score (more is good)                         0.011131   \n",
      "depression percentage                                     0.230792   \n",
      "\n",
      "                                   Sleep & Work Score (more is good)  \\\n",
      "age                                                        -0.035662   \n",
      "education_level                                            -0.140686   \n",
      "household_size                                              0.115966   \n",
      "household_income                                           -0.084118   \n",
      "asthma                                                     -0.064257   \n",
      "...                                                              ...   \n",
      "prescriptions_count                                        -0.149244   \n",
      "Health Score (more is good)                                 0.168348   \n",
      "Addiction Score(Lesser is good)                             0.011131   \n",
      "Sleep & Work Score (more is good)                           1.000000   \n",
      "depression percentage                                      -0.372151   \n",
      "\n",
      "                                   depression percentage  \n",
      "age                                             0.426626  \n",
      "education_level                                 0.025438  \n",
      "household_size                                 -0.241503  \n",
      "household_income                               -0.155030  \n",
      "asthma                                          0.247805  \n",
      "...                                                  ...  \n",
      "prescriptions_count                             0.808666  \n",
      "Health Score (more is good)                    -0.940700  \n",
      "Addiction Score(Lesser is good)                 0.230792  \n",
      "Sleep & Work Score (more is good)              -0.372151  \n",
      "depression percentage                           1.000000  \n",
      "\n",
      "[97 rows x 97 columns]\n"
     ]
    }
   ],
   "source": [
    "correlations = df.corr()\n",
    "print(correlations)"
   ]
  },
  {
   "cell_type": "code",
   "execution_count": 9,
   "metadata": {},
   "outputs": [
    {
     "name": "stdout",
     "output_type": "stream",
     "text": [
      "age                                 -0.199238\n",
      "education_level                     -0.077693\n",
      "household_size                       0.046763\n",
      "household_income                    -0.112547\n",
      "asthma                               0.048833\n",
      "                                       ...   \n",
      "prescriptions_count                 -0.076206\n",
      "Health Score (more is good)          0.030421\n",
      "Addiction Score(Lesser is good)      1.000000\n",
      "Sleep & Work Score (more is good)    0.011131\n",
      "depression percentage                0.230792\n",
      "Name: Addiction Score(Lesser is good), Length: 97, dtype: float64\n"
     ]
    }
   ],
   "source": [
    "print(correlations[\"Addiction Score(Lesser is good)\"])"
   ]
  },
  {
   "cell_type": "markdown",
   "metadata": {},
   "source": [
    "# sns.pairplot(df)"
   ]
  },
  {
   "cell_type": "code",
   "execution_count": 10,
   "metadata": {},
   "outputs": [
    {
     "data": {
      "text/html": [
       "<div>\n",
       "<style scoped>\n",
       "    .dataframe tbody tr th:only-of-type {\n",
       "        vertical-align: middle;\n",
       "    }\n",
       "\n",
       "    .dataframe tbody tr th {\n",
       "        vertical-align: top;\n",
       "    }\n",
       "\n",
       "    .dataframe thead th {\n",
       "        text-align: right;\n",
       "    }\n",
       "</style>\n",
       "<table border=\"1\" class=\"dataframe\">\n",
       "  <thead>\n",
       "    <tr style=\"text-align: right;\">\n",
       "      <th></th>\n",
       "      <th>age</th>\n",
       "      <th>education_level</th>\n",
       "      <th>household_size</th>\n",
       "      <th>household_income</th>\n",
       "      <th>asthma</th>\n",
       "      <th>anemia</th>\n",
       "      <th>ever_overweight</th>\n",
       "      <th>blood_transfusion</th>\n",
       "      <th>heart_failure</th>\n",
       "      <th>heart_disease</th>\n",
       "      <th>...</th>\n",
       "      <th>current_smoker</th>\n",
       "      <th>previous_cigarettes_per_day</th>\n",
       "      <th>current_cigarettes_per_day</th>\n",
       "      <th>days_quit_smoking</th>\n",
       "      <th>household_smokers</th>\n",
       "      <th>prescriptions_count</th>\n",
       "      <th>Health Score (more is good)</th>\n",
       "      <th>Addiction Score(Lesser is good)</th>\n",
       "      <th>Sleep &amp; Work Score (more is good)</th>\n",
       "      <th>depression percentage</th>\n",
       "    </tr>\n",
       "  </thead>\n",
       "  <tbody>\n",
       "    <tr>\n",
       "      <th>age</th>\n",
       "      <td>1.000000</td>\n",
       "      <td>0.126528</td>\n",
       "      <td>-0.379588</td>\n",
       "      <td>-0.058694</td>\n",
       "      <td>-0.057311</td>\n",
       "      <td>0.048101</td>\n",
       "      <td>0.109636</td>\n",
       "      <td>0.264255</td>\n",
       "      <td>0.177984</td>\n",
       "      <td>0.217022</td>\n",
       "      <td>...</td>\n",
       "      <td>0.035900</td>\n",
       "      <td>0.272815</td>\n",
       "      <td>-0.044294</td>\n",
       "      <td>0.383092</td>\n",
       "      <td>-0.036709</td>\n",
       "      <td>0.500400</td>\n",
       "      <td>-0.516517</td>\n",
       "      <td>-0.199238</td>\n",
       "      <td>-0.035662</td>\n",
       "      <td>0.426626</td>\n",
       "    </tr>\n",
       "    <tr>\n",
       "      <th>education_level</th>\n",
       "      <td>0.126528</td>\n",
       "      <td>1.000000</td>\n",
       "      <td>-0.207495</td>\n",
       "      <td>0.337183</td>\n",
       "      <td>-0.001601</td>\n",
       "      <td>-0.006643</td>\n",
       "      <td>0.068490</td>\n",
       "      <td>0.015769</td>\n",
       "      <td>-0.022075</td>\n",
       "      <td>0.000291</td>\n",
       "      <td>...</td>\n",
       "      <td>-0.034910</td>\n",
       "      <td>0.031760</td>\n",
       "      <td>-0.069948</td>\n",
       "      <td>0.056494</td>\n",
       "      <td>-0.055865</td>\n",
       "      <td>0.027556</td>\n",
       "      <td>-0.015947</td>\n",
       "      <td>-0.077693</td>\n",
       "      <td>-0.140686</td>\n",
       "      <td>0.025438</td>\n",
       "    </tr>\n",
       "    <tr>\n",
       "      <th>household_size</th>\n",
       "      <td>-0.379588</td>\n",
       "      <td>-0.207495</td>\n",
       "      <td>1.000000</td>\n",
       "      <td>0.103949</td>\n",
       "      <td>-0.012668</td>\n",
       "      <td>-0.015515</td>\n",
       "      <td>-0.056883</td>\n",
       "      <td>-0.119515</td>\n",
       "      <td>-0.071311</td>\n",
       "      <td>-0.094652</td>\n",
       "      <td>...</td>\n",
       "      <td>-0.050234</td>\n",
       "      <td>-0.130380</td>\n",
       "      <td>-0.018964</td>\n",
       "      <td>-0.170732</td>\n",
       "      <td>0.033897</td>\n",
       "      <td>-0.255021</td>\n",
       "      <td>0.250182</td>\n",
       "      <td>0.046763</td>\n",
       "      <td>0.115966</td>\n",
       "      <td>-0.241503</td>\n",
       "    </tr>\n",
       "    <tr>\n",
       "      <th>household_income</th>\n",
       "      <td>-0.058694</td>\n",
       "      <td>0.337183</td>\n",
       "      <td>0.103949</td>\n",
       "      <td>1.000000</td>\n",
       "      <td>-0.032760</td>\n",
       "      <td>-0.041182</td>\n",
       "      <td>0.025610</td>\n",
       "      <td>-0.064549</td>\n",
       "      <td>-0.069491</td>\n",
       "      <td>-0.037268</td>\n",
       "      <td>...</td>\n",
       "      <td>-0.132253</td>\n",
       "      <td>0.003259</td>\n",
       "      <td>-0.112496</td>\n",
       "      <td>0.024758</td>\n",
       "      <td>-0.046010</td>\n",
       "      <td>-0.092630</td>\n",
       "      <td>0.158343</td>\n",
       "      <td>-0.112547</td>\n",
       "      <td>-0.084118</td>\n",
       "      <td>-0.155030</td>\n",
       "    </tr>\n",
       "    <tr>\n",
       "      <th>asthma</th>\n",
       "      <td>-0.057311</td>\n",
       "      <td>-0.001601</td>\n",
       "      <td>-0.012668</td>\n",
       "      <td>-0.032760</td>\n",
       "      <td>1.000000</td>\n",
       "      <td>0.051014</td>\n",
       "      <td>0.096076</td>\n",
       "      <td>0.032993</td>\n",
       "      <td>0.049269</td>\n",
       "      <td>0.014621</td>\n",
       "      <td>...</td>\n",
       "      <td>0.046175</td>\n",
       "      <td>0.008858</td>\n",
       "      <td>0.044552</td>\n",
       "      <td>-0.010781</td>\n",
       "      <td>-0.021295</td>\n",
       "      <td>0.149713</td>\n",
       "      <td>-0.242299</td>\n",
       "      <td>0.048833</td>\n",
       "      <td>-0.064257</td>\n",
       "      <td>0.247805</td>\n",
       "    </tr>\n",
       "    <tr>\n",
       "      <th>...</th>\n",
       "      <td>...</td>\n",
       "      <td>...</td>\n",
       "      <td>...</td>\n",
       "      <td>...</td>\n",
       "      <td>...</td>\n",
       "      <td>...</td>\n",
       "      <td>...</td>\n",
       "      <td>...</td>\n",
       "      <td>...</td>\n",
       "      <td>...</td>\n",
       "      <td>...</td>\n",
       "      <td>...</td>\n",
       "      <td>...</td>\n",
       "      <td>...</td>\n",
       "      <td>...</td>\n",
       "      <td>...</td>\n",
       "      <td>...</td>\n",
       "      <td>...</td>\n",
       "      <td>...</td>\n",
       "      <td>...</td>\n",
       "      <td>...</td>\n",
       "    </tr>\n",
       "    <tr>\n",
       "      <th>prescriptions_count</th>\n",
       "      <td>0.500400</td>\n",
       "      <td>0.027556</td>\n",
       "      <td>-0.255021</td>\n",
       "      <td>-0.092630</td>\n",
       "      <td>0.149713</td>\n",
       "      <td>0.145111</td>\n",
       "      <td>0.245239</td>\n",
       "      <td>0.256390</td>\n",
       "      <td>0.311349</td>\n",
       "      <td>0.299816</td>\n",
       "      <td>...</td>\n",
       "      <td>0.055504</td>\n",
       "      <td>0.221243</td>\n",
       "      <td>0.010768</td>\n",
       "      <td>0.218823</td>\n",
       "      <td>-0.040065</td>\n",
       "      <td>1.000000</td>\n",
       "      <td>-0.872877</td>\n",
       "      <td>-0.076206</td>\n",
       "      <td>-0.149244</td>\n",
       "      <td>0.808666</td>\n",
       "    </tr>\n",
       "    <tr>\n",
       "      <th>Health Score (more is good)</th>\n",
       "      <td>-0.516517</td>\n",
       "      <td>-0.015947</td>\n",
       "      <td>0.250182</td>\n",
       "      <td>0.158343</td>\n",
       "      <td>-0.242299</td>\n",
       "      <td>-0.204681</td>\n",
       "      <td>-0.377617</td>\n",
       "      <td>-0.341649</td>\n",
       "      <td>-0.361479</td>\n",
       "      <td>-0.333677</td>\n",
       "      <td>...</td>\n",
       "      <td>-0.108563</td>\n",
       "      <td>-0.228902</td>\n",
       "      <td>-0.055581</td>\n",
       "      <td>-0.215087</td>\n",
       "      <td>0.063120</td>\n",
       "      <td>-0.872877</td>\n",
       "      <td>1.000000</td>\n",
       "      <td>0.030421</td>\n",
       "      <td>0.168348</td>\n",
       "      <td>-0.940700</td>\n",
       "    </tr>\n",
       "    <tr>\n",
       "      <th>Addiction Score(Lesser is good)</th>\n",
       "      <td>-0.199238</td>\n",
       "      <td>-0.077693</td>\n",
       "      <td>0.046763</td>\n",
       "      <td>-0.112547</td>\n",
       "      <td>0.048833</td>\n",
       "      <td>-0.023255</td>\n",
       "      <td>-0.047768</td>\n",
       "      <td>-0.046186</td>\n",
       "      <td>-0.018465</td>\n",
       "      <td>-0.037942</td>\n",
       "      <td>...</td>\n",
       "      <td>0.658079</td>\n",
       "      <td>-0.223093</td>\n",
       "      <td>0.914648</td>\n",
       "      <td>-0.483496</td>\n",
       "      <td>-0.039042</td>\n",
       "      <td>-0.076206</td>\n",
       "      <td>0.030421</td>\n",
       "      <td>1.000000</td>\n",
       "      <td>0.011131</td>\n",
       "      <td>0.230792</td>\n",
       "    </tr>\n",
       "    <tr>\n",
       "      <th>Sleep &amp; Work Score (more is good)</th>\n",
       "      <td>-0.035662</td>\n",
       "      <td>-0.140686</td>\n",
       "      <td>0.115966</td>\n",
       "      <td>-0.084118</td>\n",
       "      <td>-0.064257</td>\n",
       "      <td>-0.038466</td>\n",
       "      <td>-0.106879</td>\n",
       "      <td>-0.050546</td>\n",
       "      <td>-0.069038</td>\n",
       "      <td>-0.046928</td>\n",
       "      <td>...</td>\n",
       "      <td>-0.001607</td>\n",
       "      <td>-0.045136</td>\n",
       "      <td>0.000080</td>\n",
       "      <td>-0.032157</td>\n",
       "      <td>0.180891</td>\n",
       "      <td>-0.149244</td>\n",
       "      <td>0.168348</td>\n",
       "      <td>0.011131</td>\n",
       "      <td>1.000000</td>\n",
       "      <td>-0.372151</td>\n",
       "    </tr>\n",
       "    <tr>\n",
       "      <th>depression percentage</th>\n",
       "      <td>0.426626</td>\n",
       "      <td>0.025438</td>\n",
       "      <td>-0.241503</td>\n",
       "      <td>-0.155030</td>\n",
       "      <td>0.247805</td>\n",
       "      <td>0.188991</td>\n",
       "      <td>0.355362</td>\n",
       "      <td>0.310504</td>\n",
       "      <td>0.339907</td>\n",
       "      <td>0.304587</td>\n",
       "      <td>...</td>\n",
       "      <td>0.271028</td>\n",
       "      <td>0.160375</td>\n",
       "      <td>0.289340</td>\n",
       "      <td>0.076945</td>\n",
       "      <td>-0.107808</td>\n",
       "      <td>0.808666</td>\n",
       "      <td>-0.940700</td>\n",
       "      <td>0.230792</td>\n",
       "      <td>-0.372151</td>\n",
       "      <td>1.000000</td>\n",
       "    </tr>\n",
       "  </tbody>\n",
       "</table>\n",
       "<p>97 rows × 97 columns</p>\n",
       "</div>"
      ],
      "text/plain": [
       "                                        age  education_level  household_size  \\\n",
       "age                                1.000000         0.126528       -0.379588   \n",
       "education_level                    0.126528         1.000000       -0.207495   \n",
       "household_size                    -0.379588        -0.207495        1.000000   \n",
       "household_income                  -0.058694         0.337183        0.103949   \n",
       "asthma                            -0.057311        -0.001601       -0.012668   \n",
       "...                                     ...              ...             ...   \n",
       "prescriptions_count                0.500400         0.027556       -0.255021   \n",
       "Health Score (more is good)       -0.516517        -0.015947        0.250182   \n",
       "Addiction Score(Lesser is good)   -0.199238        -0.077693        0.046763   \n",
       "Sleep & Work Score (more is good) -0.035662        -0.140686        0.115966   \n",
       "depression percentage              0.426626         0.025438       -0.241503   \n",
       "\n",
       "                                   household_income    asthma    anemia  \\\n",
       "age                                       -0.058694 -0.057311  0.048101   \n",
       "education_level                            0.337183 -0.001601 -0.006643   \n",
       "household_size                             0.103949 -0.012668 -0.015515   \n",
       "household_income                           1.000000 -0.032760 -0.041182   \n",
       "asthma                                    -0.032760  1.000000  0.051014   \n",
       "...                                             ...       ...       ...   \n",
       "prescriptions_count                       -0.092630  0.149713  0.145111   \n",
       "Health Score (more is good)                0.158343 -0.242299 -0.204681   \n",
       "Addiction Score(Lesser is good)           -0.112547  0.048833 -0.023255   \n",
       "Sleep & Work Score (more is good)         -0.084118 -0.064257 -0.038466   \n",
       "depression percentage                     -0.155030  0.247805  0.188991   \n",
       "\n",
       "                                   ever_overweight  blood_transfusion  \\\n",
       "age                                       0.109636           0.264255   \n",
       "education_level                           0.068490           0.015769   \n",
       "household_size                           -0.056883          -0.119515   \n",
       "household_income                          0.025610          -0.064549   \n",
       "asthma                                    0.096076           0.032993   \n",
       "...                                            ...                ...   \n",
       "prescriptions_count                       0.245239           0.256390   \n",
       "Health Score (more is good)              -0.377617          -0.341649   \n",
       "Addiction Score(Lesser is good)          -0.047768          -0.046186   \n",
       "Sleep & Work Score (more is good)        -0.106879          -0.050546   \n",
       "depression percentage                     0.355362           0.310504   \n",
       "\n",
       "                                   heart_failure  heart_disease  ...  \\\n",
       "age                                     0.177984       0.217022  ...   \n",
       "education_level                        -0.022075       0.000291  ...   \n",
       "household_size                         -0.071311      -0.094652  ...   \n",
       "household_income                       -0.069491      -0.037268  ...   \n",
       "asthma                                  0.049269       0.014621  ...   \n",
       "...                                          ...            ...  ...   \n",
       "prescriptions_count                     0.311349       0.299816  ...   \n",
       "Health Score (more is good)            -0.361479      -0.333677  ...   \n",
       "Addiction Score(Lesser is good)        -0.018465      -0.037942  ...   \n",
       "Sleep & Work Score (more is good)      -0.069038      -0.046928  ...   \n",
       "depression percentage                   0.339907       0.304587  ...   \n",
       "\n",
       "                                   current_smoker  \\\n",
       "age                                      0.035900   \n",
       "education_level                         -0.034910   \n",
       "household_size                          -0.050234   \n",
       "household_income                        -0.132253   \n",
       "asthma                                   0.046175   \n",
       "...                                           ...   \n",
       "prescriptions_count                      0.055504   \n",
       "Health Score (more is good)             -0.108563   \n",
       "Addiction Score(Lesser is good)          0.658079   \n",
       "Sleep & Work Score (more is good)       -0.001607   \n",
       "depression percentage                    0.271028   \n",
       "\n",
       "                                   previous_cigarettes_per_day  \\\n",
       "age                                                   0.272815   \n",
       "education_level                                       0.031760   \n",
       "household_size                                       -0.130380   \n",
       "household_income                                      0.003259   \n",
       "asthma                                                0.008858   \n",
       "...                                                        ...   \n",
       "prescriptions_count                                   0.221243   \n",
       "Health Score (more is good)                          -0.228902   \n",
       "Addiction Score(Lesser is good)                      -0.223093   \n",
       "Sleep & Work Score (more is good)                    -0.045136   \n",
       "depression percentage                                 0.160375   \n",
       "\n",
       "                                   current_cigarettes_per_day  \\\n",
       "age                                                 -0.044294   \n",
       "education_level                                     -0.069948   \n",
       "household_size                                      -0.018964   \n",
       "household_income                                    -0.112496   \n",
       "asthma                                               0.044552   \n",
       "...                                                       ...   \n",
       "prescriptions_count                                  0.010768   \n",
       "Health Score (more is good)                         -0.055581   \n",
       "Addiction Score(Lesser is good)                      0.914648   \n",
       "Sleep & Work Score (more is good)                    0.000080   \n",
       "depression percentage                                0.289340   \n",
       "\n",
       "                                   days_quit_smoking  household_smokers  \\\n",
       "age                                         0.383092          -0.036709   \n",
       "education_level                             0.056494          -0.055865   \n",
       "household_size                             -0.170732           0.033897   \n",
       "household_income                            0.024758          -0.046010   \n",
       "asthma                                     -0.010781          -0.021295   \n",
       "...                                              ...                ...   \n",
       "prescriptions_count                         0.218823          -0.040065   \n",
       "Health Score (more is good)                -0.215087           0.063120   \n",
       "Addiction Score(Lesser is good)            -0.483496          -0.039042   \n",
       "Sleep & Work Score (more is good)          -0.032157           0.180891   \n",
       "depression percentage                       0.076945          -0.107808   \n",
       "\n",
       "                                   prescriptions_count  \\\n",
       "age                                           0.500400   \n",
       "education_level                               0.027556   \n",
       "household_size                               -0.255021   \n",
       "household_income                             -0.092630   \n",
       "asthma                                        0.149713   \n",
       "...                                                ...   \n",
       "prescriptions_count                           1.000000   \n",
       "Health Score (more is good)                  -0.872877   \n",
       "Addiction Score(Lesser is good)              -0.076206   \n",
       "Sleep & Work Score (more is good)            -0.149244   \n",
       "depression percentage                         0.808666   \n",
       "\n",
       "                                   Health Score (more is good)  \\\n",
       "age                                                  -0.516517   \n",
       "education_level                                      -0.015947   \n",
       "household_size                                        0.250182   \n",
       "household_income                                      0.158343   \n",
       "asthma                                               -0.242299   \n",
       "...                                                        ...   \n",
       "prescriptions_count                                  -0.872877   \n",
       "Health Score (more is good)                           1.000000   \n",
       "Addiction Score(Lesser is good)                       0.030421   \n",
       "Sleep & Work Score (more is good)                     0.168348   \n",
       "depression percentage                                -0.940700   \n",
       "\n",
       "                                   Addiction Score(Lesser is good)  \\\n",
       "age                                                      -0.199238   \n",
       "education_level                                          -0.077693   \n",
       "household_size                                            0.046763   \n",
       "household_income                                         -0.112547   \n",
       "asthma                                                    0.048833   \n",
       "...                                                            ...   \n",
       "prescriptions_count                                      -0.076206   \n",
       "Health Score (more is good)                               0.030421   \n",
       "Addiction Score(Lesser is good)                           1.000000   \n",
       "Sleep & Work Score (more is good)                         0.011131   \n",
       "depression percentage                                     0.230792   \n",
       "\n",
       "                                   Sleep & Work Score (more is good)  \\\n",
       "age                                                        -0.035662   \n",
       "education_level                                            -0.140686   \n",
       "household_size                                              0.115966   \n",
       "household_income                                           -0.084118   \n",
       "asthma                                                     -0.064257   \n",
       "...                                                              ...   \n",
       "prescriptions_count                                        -0.149244   \n",
       "Health Score (more is good)                                 0.168348   \n",
       "Addiction Score(Lesser is good)                             0.011131   \n",
       "Sleep & Work Score (more is good)                           1.000000   \n",
       "depression percentage                                      -0.372151   \n",
       "\n",
       "                                   depression percentage  \n",
       "age                                             0.426626  \n",
       "education_level                                 0.025438  \n",
       "household_size                                 -0.241503  \n",
       "household_income                               -0.155030  \n",
       "asthma                                          0.247805  \n",
       "...                                                  ...  \n",
       "prescriptions_count                             0.808666  \n",
       "Health Score (more is good)                    -0.940700  \n",
       "Addiction Score(Lesser is good)                 0.230792  \n",
       "Sleep & Work Score (more is good)              -0.372151  \n",
       "depression percentage                           1.000000  \n",
       "\n",
       "[97 rows x 97 columns]"
      ]
     },
     "execution_count": 10,
     "metadata": {},
     "output_type": "execute_result"
    }
   ],
   "source": [
    "df.corr()"
   ]
  },
  {
   "cell_type": "markdown",
   "metadata": {},
   "source": [
    "## CLean Data it's hiding "
   ]
  },
  {
   "cell_type": "code",
   "execution_count": 11,
   "metadata": {},
   "outputs": [],
   "source": [
    "df = pd.read_csv(\"data5.csv\")"
   ]
  },
  {
   "cell_type": "code",
   "execution_count": 12,
   "metadata": {},
   "outputs": [
    {
     "data": {
      "text/plain": [
       "Index(['depression', 'gender', 'first_cancer_type', 'second_cancer_type',\n",
       "       'third_cancer_type', 'arthritis_type', 'vigorous_recreation',\n",
       "       'moderate_recreation', 'lifetime_alcohol_consumption'],\n",
       "      dtype='object')"
      ]
     },
     "execution_count": 12,
     "metadata": {},
     "output_type": "execute_result"
    }
   ],
   "source": [
    "## so, all this total 18 columns need to be adjusted\n",
    "\n",
    "df.select_dtypes(include ='object').columns"
   ]
  },
  {
   "cell_type": "code",
   "execution_count": 13,
   "metadata": {},
   "outputs": [
    {
     "data": {
      "text/plain": [
       "array(['Not Depressed', 'Depressed'], dtype=object)"
      ]
     },
     "execution_count": 13,
     "metadata": {},
     "output_type": "execute_result"
    }
   ],
   "source": [
    "df['depression'].unique()"
   ]
  },
  {
   "cell_type": "code",
   "execution_count": 14,
   "metadata": {},
   "outputs": [
    {
     "data": {
      "text/plain": [
       "array(['Female', 'Male'], dtype=object)"
      ]
     },
     "execution_count": 14,
     "metadata": {},
     "output_type": "execute_result"
    }
   ],
   "source": [
    "df['gender'].unique()"
   ]
  },
  {
   "cell_type": "code",
   "execution_count": 15,
   "metadata": {},
   "outputs": [],
   "source": [
    "df['gender'].replace('Male', 0,inplace=True)\n",
    "df['gender'].replace('Female', 1,inplace=True)\n",
    "\n",
    "df['depression'].replace('Depressed', 1,inplace=True)\n",
    "df['depression'].replace('Not Depressed', 0,inplace=True)"
   ]
  },
  {
   "cell_type": "code",
   "execution_count": 16,
   "metadata": {},
   "outputs": [
    {
     "data": {
      "text/plain": [
       "Index(['first_cancer_type', 'second_cancer_type', 'third_cancer_type',\n",
       "       'arthritis_type', 'vigorous_recreation', 'moderate_recreation',\n",
       "       'lifetime_alcohol_consumption'],\n",
       "      dtype='object')"
      ]
     },
     "execution_count": 16,
     "metadata": {},
     "output_type": "execute_result"
    }
   ],
   "source": [
    "df.select_dtypes(include ='object').columns"
   ]
  },
  {
   "cell_type": "code",
   "execution_count": 17,
   "metadata": {},
   "outputs": [
    {
     "data": {
      "text/plain": [
       "array(['None', 'Colon', 'Other', 'Breast', 'Liver', 'Bladder', 'Lung',\n",
       "       'Melanoma', 'Skin Other', 'Mouth', 'Skin Non Melanoma', 'Prostate',\n",
       "       'Cervical', 'Thyroid', 'Lymphoma', 'Uterine', 'Brain', 'Stomach',\n",
       "       'Rectal', 'Testicular', 'Kidney', 'Esophageal', 'Larynx',\n",
       "       'Ovarian', 'Blood', 'Bone', 'Leukemia', 'Gallbladder',\n",
       "       'Pancreatic', 'Soft Tissue', 'Nervous System'], dtype=object)"
      ]
     },
     "execution_count": 17,
     "metadata": {},
     "output_type": "execute_result"
    }
   ],
   "source": [
    "df['first_cancer_type'].unique()\n"
   ]
  },
  {
   "cell_type": "code",
   "execution_count": 18,
   "metadata": {},
   "outputs": [],
   "source": [
    "# Preparing Make Column to some Denoting values\n",
    "df['first_cancer_type'].replace('None', 0,inplace=True)\n",
    "df['first_cancer_type'].replace('Colon', 1,inplace=True)\n",
    "df['first_cancer_type'].replace('Other', 2,inplace=True)\n",
    "df['first_cancer_type'].replace('Breast', 3,inplace=True)\n",
    "df['first_cancer_type'].replace('Liver', 4,inplace=True)\n",
    "df['first_cancer_type'].replace('Bladder', 5,inplace=True)\n",
    "df['first_cancer_type'].replace('Lung', 6,inplace=True)\n",
    "df['first_cancer_type'].replace('Melanoma', 7,inplace=True)\n",
    "df['first_cancer_type'].replace('Skin Other', 8,inplace=True)\n",
    "df['first_cancer_type'].replace('Mouth', 9,inplace=True)\n",
    "df['first_cancer_type'].replace('Skin Non Melanoma', 10,inplace=True)\n",
    "df['first_cancer_type'].replace('Prostate', 11,inplace=True)\n",
    "df['first_cancer_type'].replace('Cervical', 12,inplace=True)\n",
    "df['first_cancer_type'].replace('Thyroid', 13,inplace=True)\n",
    "df['first_cancer_type'].replace('Lymphoma', 14,inplace=True)\n",
    "df['first_cancer_type'].replace('Uterine', 15,inplace=True)\n",
    "df['first_cancer_type'].replace('Brain', 16,inplace=True)\n",
    "df['first_cancer_type'].replace('Stomach', 17,inplace=True)\n",
    "df['first_cancer_type'].replace('Rectal', 18,inplace=True)\n",
    "df['first_cancer_type'].replace('Testicular', 19,inplace=True)\n",
    "df['first_cancer_type'].replace('Kidney', 20,inplace=True)\n",
    "df['first_cancer_type'].replace('Esophageal', 21,inplace=True)\n",
    "df['first_cancer_type'].replace('Larynx', 22,inplace=True)\n",
    "df['first_cancer_type'].replace('Ovarian', 23,inplace=True)\n",
    "df['first_cancer_type'].replace('Blood', 24,inplace=True)\n",
    "df['first_cancer_type'].replace('Bone', 25,inplace=True)\n",
    "df['first_cancer_type'].replace('Leukemia', 26,inplace=True)\n",
    "df['first_cancer_type'].replace('Gallbladder', 27,inplace=True)\n",
    "df['first_cancer_type'].replace('Pancreatic', 28,inplace=True)\n",
    "df['first_cancer_type'].replace('Soft Tissue', 29,inplace=True)\n",
    "df['first_cancer_type'].replace('Nervous System', 30,inplace=True)"
   ]
  },
  {
   "cell_type": "code",
   "execution_count": 19,
   "metadata": {},
   "outputs": [
    {
     "data": {
      "text/plain": [
       "array(['None', 'Bone', 'Ovarian', 'Kidney', 'Melanoma', 'Prostate',\n",
       "       'Liver', 'Uterine', 'Other', 'Bladder', 'Skin Non Melanoma',\n",
       "       'Cervical', 'Breast', 'Skin Other', 'Esophageal', 'Rectal',\n",
       "       'Leukemia', 'Colon', 'Blood', 'Lymphoma', 'Stomach', 'Thyroid',\n",
       "       'Mouth', 'Lung', 'Larynx', 'Brain', 'Pancreatic'], dtype=object)"
      ]
     },
     "execution_count": 19,
     "metadata": {},
     "output_type": "execute_result"
    }
   ],
   "source": [
    "df['second_cancer_type'].unique()"
   ]
  },
  {
   "cell_type": "code",
   "execution_count": 20,
   "metadata": {},
   "outputs": [],
   "source": [
    "# Preparing Make Column to some Denoting values\n",
    "df['second_cancer_type'].replace('None', 0,inplace=True)\n",
    "df['second_cancer_type'].replace('Colon', 1,inplace=True)\n",
    "df['second_cancer_type'].replace('Other', 2,inplace=True)\n",
    "df['second_cancer_type'].replace('Breast', 3,inplace=True)\n",
    "df['second_cancer_type'].replace('Liver', 4,inplace=True)\n",
    "df['second_cancer_type'].replace('Bladder', 5,inplace=True)\n",
    "df['second_cancer_type'].replace('Lung', 6,inplace=True)\n",
    "df['second_cancer_type'].replace('Melanoma', 7,inplace=True)\n",
    "df['second_cancer_type'].replace('Skin Other', 8,inplace=True)\n",
    "df['second_cancer_type'].replace('Mouth', 9,inplace=True)\n",
    "df['second_cancer_type'].replace('Skin Non Melanoma', 10,inplace=True)\n",
    "df['second_cancer_type'].replace('Prostate', 11,inplace=True)\n",
    "df['second_cancer_type'].replace('Cervical', 12,inplace=True)\n",
    "df['second_cancer_type'].replace('Thyroid', 13,inplace=True)\n",
    "df['second_cancer_type'].replace('Lymphoma', 14,inplace=True)\n",
    "df['second_cancer_type'].replace('Uterine', 15,inplace=True)\n",
    "df['second_cancer_type'].replace('Brain', 16,inplace=True)\n",
    "df['second_cancer_type'].replace('Stomach', 17,inplace=True)\n",
    "df['second_cancer_type'].replace('Rectal', 18,inplace=True)\n",
    "df['second_cancer_type'].replace('Testicular', 19,inplace=True)\n",
    "df['second_cancer_type'].replace('Kidney', 20,inplace=True)\n",
    "df['second_cancer_type'].replace('Esophageal', 21,inplace=True)\n",
    "df['second_cancer_type'].replace('Larynx', 22,inplace=True)\n",
    "df['second_cancer_type'].replace('Ovarian', 23,inplace=True)\n",
    "df['second_cancer_type'].replace('Blood', 24,inplace=True)\n",
    "df['second_cancer_type'].replace('Bone', 25,inplace=True)\n",
    "df['second_cancer_type'].replace('Leukemia', 26,inplace=True)\n",
    "df['second_cancer_type'].replace('Gallbladder', 27,inplace=True)\n",
    "df['second_cancer_type'].replace('Pancreatic', 28,inplace=True)\n",
    "df['second_cancer_type'].replace('Soft Tissue', 29,inplace=True)\n",
    "df['second_cancer_type'].replace('Nervous System', 30,inplace=True)"
   ]
  },
  {
   "cell_type": "code",
   "execution_count": 21,
   "metadata": {},
   "outputs": [],
   "source": [
    "# Preparing Make Column to some Denoting values\n",
    "df['third_cancer_type'].replace('None', 0,inplace=True)\n",
    "df['third_cancer_type'].replace('Colon', 1,inplace=True)\n",
    "df['third_cancer_type'].replace('Other', 2,inplace=True)\n",
    "df['third_cancer_type'].replace('Breast', 3,inplace=True)\n",
    "df['third_cancer_type'].replace('Liver', 4,inplace=True)\n",
    "df['third_cancer_type'].replace('Bladder', 5,inplace=True)\n",
    "df['third_cancer_type'].replace('Lung', 6,inplace=True)\n",
    "df['third_cancer_type'].replace('Melanoma', 7,inplace=True)\n",
    "df['third_cancer_type'].replace('Skin Other', 8,inplace=True)\n",
    "df['third_cancer_type'].replace('Mouth', 9,inplace=True)\n",
    "df['third_cancer_type'].replace('Skin Non Melanoma', 10,inplace=True)\n",
    "df['third_cancer_type'].replace('Prostate', 11,inplace=True)\n",
    "df['third_cancer_type'].replace('Cervical', 12,inplace=True)\n",
    "df['third_cancer_type'].replace('Thyroid', 13,inplace=True)\n",
    "df['third_cancer_type'].replace('Lymphoma', 14,inplace=True)\n",
    "df['third_cancer_type'].replace('Uterine', 15,inplace=True)\n",
    "df['third_cancer_type'].replace('Brain', 16,inplace=True)\n",
    "df['third_cancer_type'].replace('Stomach', 17,inplace=True)\n",
    "df['third_cancer_type'].replace('Rectal', 18,inplace=True)\n",
    "df['third_cancer_type'].replace('Testicular', 19,inplace=True)\n",
    "df['third_cancer_type'].replace('Kidney', 20,inplace=True)\n",
    "df['third_cancer_type'].replace('Esophageal', 21,inplace=True)\n",
    "df['third_cancer_type'].replace('Larynx', 22,inplace=True)\n",
    "df['third_cancer_type'].replace('Ovarian', 23,inplace=True)\n",
    "df['third_cancer_type'].replace('Blood', 24,inplace=True)\n",
    "df['third_cancer_type'].replace('Bone', 25,inplace=True)\n",
    "df['third_cancer_type'].replace('Leukemia', 26,inplace=True)\n",
    "df['third_cancer_type'].replace('Gallbladder', 27,inplace=True)\n",
    "df['third_cancer_type'].replace('Pancreatic', 28,inplace=True)\n",
    "df['third_cancer_type'].replace('Soft Tissue', 29,inplace=True)\n",
    "df['third_cancer_type'].replace('Nervous System', 30,inplace=True)\n"
   ]
  },
  {
   "cell_type": "code",
   "execution_count": 22,
   "metadata": {},
   "outputs": [
    {
     "data": {
      "text/plain": [
       "array(['Missing', 'Osteoarthritis', 'Other', 'Rheumatoid', 'Psoriatic'],\n",
       "      dtype=object)"
      ]
     },
     "execution_count": 22,
     "metadata": {},
     "output_type": "execute_result"
    }
   ],
   "source": [
    "df['arthritis_type'].unique()\n"
   ]
  },
  {
   "cell_type": "code",
   "execution_count": 23,
   "metadata": {},
   "outputs": [],
   "source": [
    "df['arthritis_type'].replace('Missing', 0,inplace=True)\n",
    "df['arthritis_type'].replace('Osteoarthritis', 1,inplace=True)\n",
    "df['arthritis_type'].replace('Other', 2,inplace=True)\n",
    "df['arthritis_type'].replace('Rheumatoid', 3,inplace=True)\n",
    "df['arthritis_type'].replace('Psoriatic', 4,inplace=True)"
   ]
  },
  {
   "cell_type": "code",
   "execution_count": 24,
   "metadata": {},
   "outputs": [
    {
     "data": {
      "text/plain": [
       "array(['No', 'Yes', 'Missing'], dtype=object)"
      ]
     },
     "execution_count": 24,
     "metadata": {},
     "output_type": "execute_result"
    }
   ],
   "source": [
    "df['vigorous_recreation'].unique()"
   ]
  },
  {
   "cell_type": "code",
   "execution_count": 25,
   "metadata": {},
   "outputs": [],
   "source": [
    "df['vigorous_recreation'].replace('Yes', 1,inplace=True)\n",
    "df['vigorous_recreation'].replace('No', -1,inplace=True)\n",
    "df['vigorous_recreation'].replace('Missing', 0,inplace=True)"
   ]
  },
  {
   "cell_type": "code",
   "execution_count": 26,
   "metadata": {},
   "outputs": [
    {
     "data": {
      "text/plain": [
       "array(['No', 'Yes', 'Missing'], dtype=object)"
      ]
     },
     "execution_count": 26,
     "metadata": {},
     "output_type": "execute_result"
    }
   ],
   "source": [
    "df['moderate_recreation'].unique()"
   ]
  },
  {
   "cell_type": "code",
   "execution_count": 27,
   "metadata": {},
   "outputs": [],
   "source": [
    "df['moderate_recreation'].replace('Yes', 1,inplace=True)\n",
    "df['moderate_recreation'].replace('No', -1,inplace=True)\n",
    "df['moderate_recreation'].replace('Missing', 0,inplace=True)"
   ]
  },
  {
   "cell_type": "code",
   "execution_count": 28,
   "metadata": {},
   "outputs": [
    {
     "data": {
      "text/plain": [
       "array(['Yes', 'Missing', 'No'], dtype=object)"
      ]
     },
     "execution_count": 28,
     "metadata": {},
     "output_type": "execute_result"
    }
   ],
   "source": [
    "df['lifetime_alcohol_consumption'].unique()"
   ]
  },
  {
   "cell_type": "code",
   "execution_count": 29,
   "metadata": {},
   "outputs": [],
   "source": [
    "df['lifetime_alcohol_consumption'].replace('Yes', 1,inplace=True)\n",
    "df['lifetime_alcohol_consumption'].replace('No', -1,inplace=True)\n",
    "df['lifetime_alcohol_consumption'].replace('Missing', 0,inplace=True)"
   ]
  },
  {
   "cell_type": "code",
   "execution_count": 30,
   "metadata": {},
   "outputs": [
    {
     "name": "stdout",
     "output_type": "stream",
     "text": [
      "<class 'pandas.core.frame.DataFrame'>\n",
      "RangeIndex: 36259 entries, 0 to 36258\n",
      "Data columns (total 85 columns):\n",
      " #   Column                              Non-Null Count  Dtype  \n",
      "---  ------                              --------------  -----  \n",
      " 0   SEQN                                36259 non-null  int64  \n",
      " 1   depression                          36259 non-null  int64  \n",
      " 2   gender                              36259 non-null  int64  \n",
      " 3   age                                 36259 non-null  int64  \n",
      " 4   education_level                     36259 non-null  int64  \n",
      " 5   household_size                      36259 non-null  int64  \n",
      " 6   household_income                    36259 non-null  int64  \n",
      " 7   asthma                              36259 non-null  int64  \n",
      " 8   anemia                              36259 non-null  int64  \n",
      " 9   ever_overweight                     36259 non-null  int64  \n",
      " 10  blood_transfusion                   36259 non-null  int64  \n",
      " 11  heart_failure                       36259 non-null  int64  \n",
      " 12  heart_disease                       36259 non-null  int64  \n",
      " 13  angina                              36259 non-null  int64  \n",
      " 14  heart_attack                        36259 non-null  int64  \n",
      " 15  stroke                              36259 non-null  int64  \n",
      " 16  emphysema                           36259 non-null  int64  \n",
      " 17  bronchitis                          36259 non-null  int64  \n",
      " 18  liver_condition                     36259 non-null  int64  \n",
      " 19  thyroid_problem                     36259 non-null  int64  \n",
      " 20  bronchitis_currently                36259 non-null  int64  \n",
      " 21  liver_condition_currently           36259 non-null  int64  \n",
      " 22  thyroid_problem_currently           36259 non-null  int64  \n",
      " 23  cancer                              36259 non-null  int64  \n",
      " 24  first_cancer_type                   36259 non-null  int64  \n",
      " 25  second_cancer_type                  36259 non-null  int64  \n",
      " 26  third_cancer_type                   36259 non-null  int64  \n",
      " 27  hay_fever                           36259 non-null  int64  \n",
      " 28  arthritis_type                      36259 non-null  int64  \n",
      " 29  BMI                                 36259 non-null  float64\n",
      " 30  pulse                               36259 non-null  int64  \n",
      " 31  trouble_sleeping_history            36259 non-null  int64  \n",
      " 32  sleep_hours                         36259 non-null  float64\n",
      " 33  vigorous_recreation                 36259 non-null  int64  \n",
      " 34  moderate_recreation                 36259 non-null  int64  \n",
      " 35  sedentary_time                      36259 non-null  int64  \n",
      " 36  vigorous_work                       36259 non-null  int64  \n",
      " 37  moderate_work                       36259 non-null  int64  \n",
      " 38  drinks_per_occasion                 36259 non-null  int64  \n",
      " 39  lifetime_alcohol_consumption        36259 non-null  int64  \n",
      " 40  drinks_past_year                    36259 non-null  int64  \n",
      " 41  cant_work                           36259 non-null  int64  \n",
      " 42  limited_work                        36259 non-null  int64  \n",
      " 43  memory_problems                     36259 non-null  int64  \n",
      " 44  health_problem_Other_Impairment     36259 non-null  int64  \n",
      " 45  health_problem_Bone_or_Joint        36259 non-null  int64  \n",
      " 46  health_problem_Weight               36259 non-null  int64  \n",
      " 47  health_problem_Back_or_Neck         36259 non-null  int64  \n",
      " 48  health_problem_Arthritis            36259 non-null  int64  \n",
      " 49  health_problem_Cancer               36259 non-null  int64  \n",
      " 50  health_problem_Other_Injury         36259 non-null  int64  \n",
      " 51  health_problem_Breathing            36259 non-null  int64  \n",
      " 52  health_problem_Stroke               36259 non-null  int64  \n",
      " 53  health_problem_Blood_Pressure       36259 non-null  int64  \n",
      " 54  health_problem_Mental_Retardation   36259 non-null  int64  \n",
      " 55  health_problem_Hearing              36259 non-null  int64  \n",
      " 56  health_problem_Heart                36259 non-null  int64  \n",
      " 57  health_problem_Vision               36259 non-null  int64  \n",
      " 58  health_problem_Diabetes             36259 non-null  int64  \n",
      " 59  health_problem_Birth_Defect         36259 non-null  int64  \n",
      " 60  health_problem_Senility             36259 non-null  int64  \n",
      " 61  health_problem_Other_Developmental  36259 non-null  int64  \n",
      " 62  marijuana_use                       36259 non-null  int64  \n",
      " 63  marijuana_per_month                 36259 non-null  int64  \n",
      " 64  cocaine_use                         36259 non-null  int64  \n",
      " 65  cocaine_number_uses                 36259 non-null  int64  \n",
      " 66  cocaine_per_month                   36259 non-null  int64  \n",
      " 67  heroine_use                         36259 non-null  int64  \n",
      " 68  heronine_per_month                  36259 non-null  int64  \n",
      " 69  meth_use                            36259 non-null  int64  \n",
      " 70  meth_number_uses                    36259 non-null  int64  \n",
      " 71  meth_per_month                      36259 non-null  int64  \n",
      " 72  inject_drugs                        36259 non-null  int64  \n",
      " 73  rehab_program                       36259 non-null  int64  \n",
      " 74  start_smoking_age                   36259 non-null  int64  \n",
      " 75  current_smoker                      36259 non-null  int64  \n",
      " 76  previous_cigarettes_per_day         36259 non-null  int64  \n",
      " 77  current_cigarettes_per_day          36259 non-null  int64  \n",
      " 78  days_quit_smoking                   36259 non-null  int64  \n",
      " 79  household_smokers                   36259 non-null  int64  \n",
      " 80  prescriptions_count                 36259 non-null  int64  \n",
      " 81  hs                                  36259 non-null  float64\n",
      " 82  as                                  36259 non-null  float64\n",
      " 83  ss                                  36259 non-null  float64\n",
      " 84  ds                                  36259 non-null  float64\n",
      "dtypes: float64(6), int64(79)\n",
      "memory usage: 23.5 MB\n"
     ]
    }
   ],
   "source": [
    "#More information of the data\n",
    "df.info()"
   ]
  },
  {
   "cell_type": "code",
   "execution_count": 31,
   "metadata": {},
   "outputs": [
    {
     "data": {
      "text/plain": [
       "SEQN                   0\n",
       "depression             0\n",
       "gender                 0\n",
       "age                    0\n",
       "education_level        0\n",
       "                      ..\n",
       "prescriptions_count    0\n",
       "hs                     0\n",
       "as                     0\n",
       "ss                     0\n",
       "ds                     0\n",
       "Length: 85, dtype: int64"
      ]
     },
     "execution_count": 31,
     "metadata": {},
     "output_type": "execute_result"
    }
   ],
   "source": [
    "df.isnull().sum()"
   ]
  },
  {
   "cell_type": "code",
   "execution_count": 32,
   "metadata": {},
   "outputs": [
    {
     "name": "stdout",
     "output_type": "stream",
     "text": [
      "SEQN                   0.012124\n",
      "depression             1.000000\n",
      "gender                 0.076830\n",
      "age                    0.000146\n",
      "education_level       -0.075036\n",
      "                         ...   \n",
      "prescriptions_count    0.177352\n",
      "hs                    -0.251533\n",
      "as                     0.132917\n",
      "ss                    -0.062309\n",
      "ds                     0.887550\n",
      "Name: depression, Length: 85, dtype: float64\n"
     ]
    }
   ],
   "source": [
    "correlations = df.corr()\n",
    "print(correlations[\"depression\"])"
   ]
  },
  {
   "cell_type": "code",
   "execution_count": 33,
   "metadata": {},
   "outputs": [
    {
     "data": {
      "text/plain": [
       "SEQN                   0.012124\n",
       "depression             1.000000\n",
       "gender                 0.076830\n",
       "age                    0.000146\n",
       "education_level       -0.075036\n",
       "                         ...   \n",
       "prescriptions_count    0.177352\n",
       "hs                    -0.251533\n",
       "as                     0.132917\n",
       "ss                    -0.062309\n",
       "ds                     0.887550\n",
       "Name: depression, Length: 85, dtype: float64"
      ]
     },
     "execution_count": 33,
     "metadata": {},
     "output_type": "execute_result"
    }
   ],
   "source": [
    "correlations[\"depression\"]"
   ]
  },
  {
   "cell_type": "code",
   "execution_count": 34,
   "metadata": {},
   "outputs": [
    {
     "data": {
      "text/plain": [
       "1.0"
      ]
     },
     "execution_count": 34,
     "metadata": {},
     "output_type": "execute_result"
    }
   ],
   "source": [
    "correlations[\"depression\"].max()"
   ]
  },
  {
   "cell_type": "code",
   "execution_count": 35,
   "metadata": {},
   "outputs": [
    {
     "data": {
      "text/html": [
       "<div>\n",
       "<style scoped>\n",
       "    .dataframe tbody tr th:only-of-type {\n",
       "        vertical-align: middle;\n",
       "    }\n",
       "\n",
       "    .dataframe tbody tr th {\n",
       "        vertical-align: top;\n",
       "    }\n",
       "\n",
       "    .dataframe thead th {\n",
       "        text-align: right;\n",
       "    }\n",
       "</style>\n",
       "<table border=\"1\" class=\"dataframe\">\n",
       "  <thead>\n",
       "    <tr style=\"text-align: right;\">\n",
       "      <th></th>\n",
       "      <th>SEQN</th>\n",
       "      <th>depression</th>\n",
       "      <th>gender</th>\n",
       "      <th>age</th>\n",
       "      <th>education_level</th>\n",
       "      <th>household_size</th>\n",
       "      <th>household_income</th>\n",
       "      <th>asthma</th>\n",
       "      <th>anemia</th>\n",
       "      <th>ever_overweight</th>\n",
       "      <th>...</th>\n",
       "      <th>current_smoker</th>\n",
       "      <th>previous_cigarettes_per_day</th>\n",
       "      <th>current_cigarettes_per_day</th>\n",
       "      <th>days_quit_smoking</th>\n",
       "      <th>household_smokers</th>\n",
       "      <th>prescriptions_count</th>\n",
       "      <th>hs</th>\n",
       "      <th>as</th>\n",
       "      <th>ss</th>\n",
       "      <th>ds</th>\n",
       "    </tr>\n",
       "  </thead>\n",
       "  <tbody>\n",
       "    <tr>\n",
       "      <th>0</th>\n",
       "      <td>31131</td>\n",
       "      <td>0</td>\n",
       "      <td>1</td>\n",
       "      <td>44</td>\n",
       "      <td>4</td>\n",
       "      <td>4</td>\n",
       "      <td>11</td>\n",
       "      <td>0</td>\n",
       "      <td>0</td>\n",
       "      <td>0</td>\n",
       "      <td>...</td>\n",
       "      <td>0</td>\n",
       "      <td>0</td>\n",
       "      <td>0</td>\n",
       "      <td>0</td>\n",
       "      <td>4</td>\n",
       "      <td>2</td>\n",
       "      <td>83.33</td>\n",
       "      <td>19.27</td>\n",
       "      <td>87.80</td>\n",
       "      <td>11.570175</td>\n",
       "    </tr>\n",
       "    <tr>\n",
       "      <th>1</th>\n",
       "      <td>31132</td>\n",
       "      <td>0</td>\n",
       "      <td>0</td>\n",
       "      <td>70</td>\n",
       "      <td>5</td>\n",
       "      <td>2</td>\n",
       "      <td>11</td>\n",
       "      <td>0</td>\n",
       "      <td>0</td>\n",
       "      <td>0</td>\n",
       "      <td>...</td>\n",
       "      <td>0</td>\n",
       "      <td>0</td>\n",
       "      <td>0</td>\n",
       "      <td>0</td>\n",
       "      <td>4</td>\n",
       "      <td>4</td>\n",
       "      <td>87.50</td>\n",
       "      <td>19.51</td>\n",
       "      <td>92.68</td>\n",
       "      <td>9.146421</td>\n",
       "    </tr>\n",
       "    <tr>\n",
       "      <th>2</th>\n",
       "      <td>31134</td>\n",
       "      <td>0</td>\n",
       "      <td>0</td>\n",
       "      <td>73</td>\n",
       "      <td>3</td>\n",
       "      <td>2</td>\n",
       "      <td>5</td>\n",
       "      <td>0</td>\n",
       "      <td>0</td>\n",
       "      <td>1</td>\n",
       "      <td>...</td>\n",
       "      <td>0</td>\n",
       "      <td>0</td>\n",
       "      <td>0</td>\n",
       "      <td>0</td>\n",
       "      <td>4</td>\n",
       "      <td>5</td>\n",
       "      <td>83.33</td>\n",
       "      <td>19.75</td>\n",
       "      <td>94.15</td>\n",
       "      <td>10.961075</td>\n",
       "    </tr>\n",
       "    <tr>\n",
       "      <th>3</th>\n",
       "      <td>31139</td>\n",
       "      <td>0</td>\n",
       "      <td>1</td>\n",
       "      <td>18</td>\n",
       "      <td>0</td>\n",
       "      <td>3</td>\n",
       "      <td>11</td>\n",
       "      <td>1</td>\n",
       "      <td>0</td>\n",
       "      <td>1</td>\n",
       "      <td>...</td>\n",
       "      <td>0</td>\n",
       "      <td>0</td>\n",
       "      <td>0</td>\n",
       "      <td>0</td>\n",
       "      <td>1</td>\n",
       "      <td>0</td>\n",
       "      <td>91.67</td>\n",
       "      <td>19.27</td>\n",
       "      <td>93.41</td>\n",
       "      <td>7.080699</td>\n",
       "    </tr>\n",
       "    <tr>\n",
       "      <th>4</th>\n",
       "      <td>31143</td>\n",
       "      <td>0</td>\n",
       "      <td>0</td>\n",
       "      <td>19</td>\n",
       "      <td>0</td>\n",
       "      <td>3</td>\n",
       "      <td>11</td>\n",
       "      <td>0</td>\n",
       "      <td>0</td>\n",
       "      <td>0</td>\n",
       "      <td>...</td>\n",
       "      <td>0</td>\n",
       "      <td>0</td>\n",
       "      <td>2</td>\n",
       "      <td>0</td>\n",
       "      <td>4</td>\n",
       "      <td>1</td>\n",
       "      <td>97.92</td>\n",
       "      <td>20.86</td>\n",
       "      <td>87.56</td>\n",
       "      <td>5.251669</td>\n",
       "    </tr>\n",
       "  </tbody>\n",
       "</table>\n",
       "<p>5 rows × 85 columns</p>\n",
       "</div>"
      ],
      "text/plain": [
       "    SEQN  depression  gender  age  education_level  household_size  \\\n",
       "0  31131           0       1   44                4               4   \n",
       "1  31132           0       0   70                5               2   \n",
       "2  31134           0       0   73                3               2   \n",
       "3  31139           0       1   18                0               3   \n",
       "4  31143           0       0   19                0               3   \n",
       "\n",
       "   household_income  asthma  anemia  ever_overweight  ...  current_smoker  \\\n",
       "0                11       0       0                0  ...               0   \n",
       "1                11       0       0                0  ...               0   \n",
       "2                 5       0       0                1  ...               0   \n",
       "3                11       1       0                1  ...               0   \n",
       "4                11       0       0                0  ...               0   \n",
       "\n",
       "   previous_cigarettes_per_day  current_cigarettes_per_day  days_quit_smoking  \\\n",
       "0                            0                           0                  0   \n",
       "1                            0                           0                  0   \n",
       "2                            0                           0                  0   \n",
       "3                            0                           0                  0   \n",
       "4                            0                           2                  0   \n",
       "\n",
       "   household_smokers  prescriptions_count     hs     as     ss         ds  \n",
       "0                  4                    2  83.33  19.27  87.80  11.570175  \n",
       "1                  4                    4  87.50  19.51  92.68   9.146421  \n",
       "2                  4                    5  83.33  19.75  94.15  10.961075  \n",
       "3                  1                    0  91.67  19.27  93.41   7.080699  \n",
       "4                  4                    1  97.92  20.86  87.56   5.251669  \n",
       "\n",
       "[5 rows x 85 columns]"
      ]
     },
     "execution_count": 35,
     "metadata": {},
     "output_type": "execute_result"
    }
   ],
   "source": [
    "df.head()"
   ]
  },
  {
   "cell_type": "code",
   "execution_count": 36,
   "metadata": {},
   "outputs": [],
   "source": [
    "hs_correlation = -0.251533\n",
    "as_correlation = 0.132917\n",
    "ss_correlation = -0.062309"
   ]
  },
  {
   "cell_type": "code",
   "execution_count": 37,
   "metadata": {},
   "outputs": [
    {
     "data": {
      "text/html": [
       "<div>\n",
       "<style scoped>\n",
       "    .dataframe tbody tr th:only-of-type {\n",
       "        vertical-align: middle;\n",
       "    }\n",
       "\n",
       "    .dataframe tbody tr th {\n",
       "        vertical-align: top;\n",
       "    }\n",
       "\n",
       "    .dataframe thead th {\n",
       "        text-align: right;\n",
       "    }\n",
       "</style>\n",
       "<table border=\"1\" class=\"dataframe\">\n",
       "  <thead>\n",
       "    <tr style=\"text-align: right;\">\n",
       "      <th></th>\n",
       "      <th>SEQN</th>\n",
       "      <th>depression</th>\n",
       "      <th>gender</th>\n",
       "      <th>age</th>\n",
       "      <th>education_level</th>\n",
       "      <th>household_size</th>\n",
       "      <th>household_income</th>\n",
       "      <th>asthma</th>\n",
       "      <th>anemia</th>\n",
       "      <th>ever_overweight</th>\n",
       "      <th>...</th>\n",
       "      <th>previous_cigarettes_per_day</th>\n",
       "      <th>current_cigarettes_per_day</th>\n",
       "      <th>days_quit_smoking</th>\n",
       "      <th>household_smokers</th>\n",
       "      <th>prescriptions_count</th>\n",
       "      <th>hs</th>\n",
       "      <th>as</th>\n",
       "      <th>ss</th>\n",
       "      <th>ds</th>\n",
       "      <th>dep_field</th>\n",
       "    </tr>\n",
       "  </thead>\n",
       "  <tbody>\n",
       "    <tr>\n",
       "      <th>0</th>\n",
       "      <td>31131</td>\n",
       "      <td>0</td>\n",
       "      <td>1</td>\n",
       "      <td>44</td>\n",
       "      <td>4</td>\n",
       "      <td>4</td>\n",
       "      <td>11</td>\n",
       "      <td>0</td>\n",
       "      <td>0</td>\n",
       "      <td>0</td>\n",
       "      <td>...</td>\n",
       "      <td>0</td>\n",
       "      <td>0</td>\n",
       "      <td>0</td>\n",
       "      <td>4</td>\n",
       "      <td>2</td>\n",
       "      <td>83.33</td>\n",
       "      <td>19.27</td>\n",
       "      <td>87.80</td>\n",
       "      <td>11.570175</td>\n",
       "      <td>0</td>\n",
       "    </tr>\n",
       "    <tr>\n",
       "      <th>1</th>\n",
       "      <td>31132</td>\n",
       "      <td>0</td>\n",
       "      <td>0</td>\n",
       "      <td>70</td>\n",
       "      <td>5</td>\n",
       "      <td>2</td>\n",
       "      <td>11</td>\n",
       "      <td>0</td>\n",
       "      <td>0</td>\n",
       "      <td>0</td>\n",
       "      <td>...</td>\n",
       "      <td>0</td>\n",
       "      <td>0</td>\n",
       "      <td>0</td>\n",
       "      <td>4</td>\n",
       "      <td>4</td>\n",
       "      <td>87.50</td>\n",
       "      <td>19.51</td>\n",
       "      <td>92.68</td>\n",
       "      <td>9.146421</td>\n",
       "      <td>0</td>\n",
       "    </tr>\n",
       "    <tr>\n",
       "      <th>2</th>\n",
       "      <td>31134</td>\n",
       "      <td>0</td>\n",
       "      <td>0</td>\n",
       "      <td>73</td>\n",
       "      <td>3</td>\n",
       "      <td>2</td>\n",
       "      <td>5</td>\n",
       "      <td>0</td>\n",
       "      <td>0</td>\n",
       "      <td>1</td>\n",
       "      <td>...</td>\n",
       "      <td>0</td>\n",
       "      <td>0</td>\n",
       "      <td>0</td>\n",
       "      <td>4</td>\n",
       "      <td>5</td>\n",
       "      <td>83.33</td>\n",
       "      <td>19.75</td>\n",
       "      <td>94.15</td>\n",
       "      <td>10.961075</td>\n",
       "      <td>0</td>\n",
       "    </tr>\n",
       "    <tr>\n",
       "      <th>3</th>\n",
       "      <td>31139</td>\n",
       "      <td>0</td>\n",
       "      <td>1</td>\n",
       "      <td>18</td>\n",
       "      <td>0</td>\n",
       "      <td>3</td>\n",
       "      <td>11</td>\n",
       "      <td>1</td>\n",
       "      <td>0</td>\n",
       "      <td>1</td>\n",
       "      <td>...</td>\n",
       "      <td>0</td>\n",
       "      <td>0</td>\n",
       "      <td>0</td>\n",
       "      <td>1</td>\n",
       "      <td>0</td>\n",
       "      <td>91.67</td>\n",
       "      <td>19.27</td>\n",
       "      <td>93.41</td>\n",
       "      <td>7.080699</td>\n",
       "      <td>0</td>\n",
       "    </tr>\n",
       "    <tr>\n",
       "      <th>4</th>\n",
       "      <td>31143</td>\n",
       "      <td>0</td>\n",
       "      <td>0</td>\n",
       "      <td>19</td>\n",
       "      <td>0</td>\n",
       "      <td>3</td>\n",
       "      <td>11</td>\n",
       "      <td>0</td>\n",
       "      <td>0</td>\n",
       "      <td>0</td>\n",
       "      <td>...</td>\n",
       "      <td>0</td>\n",
       "      <td>2</td>\n",
       "      <td>0</td>\n",
       "      <td>4</td>\n",
       "      <td>1</td>\n",
       "      <td>97.92</td>\n",
       "      <td>20.86</td>\n",
       "      <td>87.56</td>\n",
       "      <td>5.251669</td>\n",
       "      <td>0</td>\n",
       "    </tr>\n",
       "  </tbody>\n",
       "</table>\n",
       "<p>5 rows × 86 columns</p>\n",
       "</div>"
      ],
      "text/plain": [
       "    SEQN  depression  gender  age  education_level  household_size  \\\n",
       "0  31131           0       1   44                4               4   \n",
       "1  31132           0       0   70                5               2   \n",
       "2  31134           0       0   73                3               2   \n",
       "3  31139           0       1   18                0               3   \n",
       "4  31143           0       0   19                0               3   \n",
       "\n",
       "   household_income  asthma  anemia  ever_overweight  ...  \\\n",
       "0                11       0       0                0  ...   \n",
       "1                11       0       0                0  ...   \n",
       "2                 5       0       0                1  ...   \n",
       "3                11       1       0                1  ...   \n",
       "4                11       0       0                0  ...   \n",
       "\n",
       "   previous_cigarettes_per_day  current_cigarettes_per_day  days_quit_smoking  \\\n",
       "0                            0                           0                  0   \n",
       "1                            0                           0                  0   \n",
       "2                            0                           0                  0   \n",
       "3                            0                           0                  0   \n",
       "4                            0                           2                  0   \n",
       "\n",
       "   household_smokers  prescriptions_count     hs     as     ss         ds  \\\n",
       "0                  4                    2  83.33  19.27  87.80  11.570175   \n",
       "1                  4                    4  87.50  19.51  92.68   9.146421   \n",
       "2                  4                    5  83.33  19.75  94.15  10.961075   \n",
       "3                  1                    0  91.67  19.27  93.41   7.080699   \n",
       "4                  4                    1  97.92  20.86  87.56   5.251669   \n",
       "\n",
       "   dep_field  \n",
       "0          0  \n",
       "1          0  \n",
       "2          0  \n",
       "3          0  \n",
       "4          0  \n",
       "\n",
       "[5 rows x 86 columns]"
      ]
     },
     "execution_count": 37,
     "metadata": {},
     "output_type": "execute_result"
    }
   ],
   "source": [
    "df['dep_field'] = 0\n",
    "\n",
    "df.head()"
   ]
  },
  {
   "cell_type": "code",
   "execution_count": 38,
   "metadata": {},
   "outputs": [
    {
     "name": "stderr",
     "output_type": "stream",
     "text": [
      "<ipython-input-38-a9d607292896>:2: SettingWithCopyWarning: \n",
      "A value is trying to be set on a copy of a slice from a DataFrame\n",
      "\n",
      "See the caveats in the documentation: https://pandas.pydata.org/pandas-docs/stable/user_guide/indexing.html#returning-a-view-versus-a-copy\n",
      "  df[\"dep_field\"][ind] = ( (df[\"hs\"][ind]*hs_correlation)\n"
     ]
    },
    {
     "data": {
      "text/html": [
       "<div>\n",
       "<style scoped>\n",
       "    .dataframe tbody tr th:only-of-type {\n",
       "        vertical-align: middle;\n",
       "    }\n",
       "\n",
       "    .dataframe tbody tr th {\n",
       "        vertical-align: top;\n",
       "    }\n",
       "\n",
       "    .dataframe thead th {\n",
       "        text-align: right;\n",
       "    }\n",
       "</style>\n",
       "<table border=\"1\" class=\"dataframe\">\n",
       "  <thead>\n",
       "    <tr style=\"text-align: right;\">\n",
       "      <th></th>\n",
       "      <th>SEQN</th>\n",
       "      <th>depression</th>\n",
       "      <th>gender</th>\n",
       "      <th>age</th>\n",
       "      <th>education_level</th>\n",
       "      <th>household_size</th>\n",
       "      <th>household_income</th>\n",
       "      <th>asthma</th>\n",
       "      <th>anemia</th>\n",
       "      <th>ever_overweight</th>\n",
       "      <th>...</th>\n",
       "      <th>previous_cigarettes_per_day</th>\n",
       "      <th>current_cigarettes_per_day</th>\n",
       "      <th>days_quit_smoking</th>\n",
       "      <th>household_smokers</th>\n",
       "      <th>prescriptions_count</th>\n",
       "      <th>hs</th>\n",
       "      <th>as</th>\n",
       "      <th>ss</th>\n",
       "      <th>ds</th>\n",
       "      <th>dep_field</th>\n",
       "    </tr>\n",
       "  </thead>\n",
       "  <tbody>\n",
       "    <tr>\n",
       "      <th>0</th>\n",
       "      <td>31131</td>\n",
       "      <td>0</td>\n",
       "      <td>1</td>\n",
       "      <td>44</td>\n",
       "      <td>4</td>\n",
       "      <td>4</td>\n",
       "      <td>11</td>\n",
       "      <td>0</td>\n",
       "      <td>0</td>\n",
       "      <td>0</td>\n",
       "      <td>...</td>\n",
       "      <td>0</td>\n",
       "      <td>0</td>\n",
       "      <td>0</td>\n",
       "      <td>4</td>\n",
       "      <td>2</td>\n",
       "      <td>83.33</td>\n",
       "      <td>19.27</td>\n",
       "      <td>87.80</td>\n",
       "      <td>11.570175</td>\n",
       "      <td>-7</td>\n",
       "    </tr>\n",
       "    <tr>\n",
       "      <th>1</th>\n",
       "      <td>31132</td>\n",
       "      <td>0</td>\n",
       "      <td>0</td>\n",
       "      <td>70</td>\n",
       "      <td>5</td>\n",
       "      <td>2</td>\n",
       "      <td>11</td>\n",
       "      <td>0</td>\n",
       "      <td>0</td>\n",
       "      <td>0</td>\n",
       "      <td>...</td>\n",
       "      <td>0</td>\n",
       "      <td>0</td>\n",
       "      <td>0</td>\n",
       "      <td>4</td>\n",
       "      <td>4</td>\n",
       "      <td>87.50</td>\n",
       "      <td>19.51</td>\n",
       "      <td>92.68</td>\n",
       "      <td>9.146421</td>\n",
       "      <td>-8</td>\n",
       "    </tr>\n",
       "    <tr>\n",
       "      <th>2</th>\n",
       "      <td>31134</td>\n",
       "      <td>0</td>\n",
       "      <td>0</td>\n",
       "      <td>73</td>\n",
       "      <td>3</td>\n",
       "      <td>2</td>\n",
       "      <td>5</td>\n",
       "      <td>0</td>\n",
       "      <td>0</td>\n",
       "      <td>1</td>\n",
       "      <td>...</td>\n",
       "      <td>0</td>\n",
       "      <td>0</td>\n",
       "      <td>0</td>\n",
       "      <td>4</td>\n",
       "      <td>5</td>\n",
       "      <td>83.33</td>\n",
       "      <td>19.75</td>\n",
       "      <td>94.15</td>\n",
       "      <td>10.961075</td>\n",
       "      <td>-8</td>\n",
       "    </tr>\n",
       "    <tr>\n",
       "      <th>3</th>\n",
       "      <td>31139</td>\n",
       "      <td>0</td>\n",
       "      <td>1</td>\n",
       "      <td>18</td>\n",
       "      <td>0</td>\n",
       "      <td>3</td>\n",
       "      <td>11</td>\n",
       "      <td>1</td>\n",
       "      <td>0</td>\n",
       "      <td>1</td>\n",
       "      <td>...</td>\n",
       "      <td>0</td>\n",
       "      <td>0</td>\n",
       "      <td>0</td>\n",
       "      <td>1</td>\n",
       "      <td>0</td>\n",
       "      <td>91.67</td>\n",
       "      <td>19.27</td>\n",
       "      <td>93.41</td>\n",
       "      <td>7.080699</td>\n",
       "      <td>-8</td>\n",
       "    </tr>\n",
       "    <tr>\n",
       "      <th>4</th>\n",
       "      <td>31143</td>\n",
       "      <td>0</td>\n",
       "      <td>0</td>\n",
       "      <td>19</td>\n",
       "      <td>0</td>\n",
       "      <td>3</td>\n",
       "      <td>11</td>\n",
       "      <td>0</td>\n",
       "      <td>0</td>\n",
       "      <td>0</td>\n",
       "      <td>...</td>\n",
       "      <td>0</td>\n",
       "      <td>2</td>\n",
       "      <td>0</td>\n",
       "      <td>4</td>\n",
       "      <td>1</td>\n",
       "      <td>97.92</td>\n",
       "      <td>20.86</td>\n",
       "      <td>87.56</td>\n",
       "      <td>5.251669</td>\n",
       "      <td>-9</td>\n",
       "    </tr>\n",
       "  </tbody>\n",
       "</table>\n",
       "<p>5 rows × 86 columns</p>\n",
       "</div>"
      ],
      "text/plain": [
       "    SEQN  depression  gender  age  education_level  household_size  \\\n",
       "0  31131           0       1   44                4               4   \n",
       "1  31132           0       0   70                5               2   \n",
       "2  31134           0       0   73                3               2   \n",
       "3  31139           0       1   18                0               3   \n",
       "4  31143           0       0   19                0               3   \n",
       "\n",
       "   household_income  asthma  anemia  ever_overweight  ...  \\\n",
       "0                11       0       0                0  ...   \n",
       "1                11       0       0                0  ...   \n",
       "2                 5       0       0                1  ...   \n",
       "3                11       1       0                1  ...   \n",
       "4                11       0       0                0  ...   \n",
       "\n",
       "   previous_cigarettes_per_day  current_cigarettes_per_day  days_quit_smoking  \\\n",
       "0                            0                           0                  0   \n",
       "1                            0                           0                  0   \n",
       "2                            0                           0                  0   \n",
       "3                            0                           0                  0   \n",
       "4                            0                           2                  0   \n",
       "\n",
       "   household_smokers  prescriptions_count     hs     as     ss         ds  \\\n",
       "0                  4                    2  83.33  19.27  87.80  11.570175   \n",
       "1                  4                    4  87.50  19.51  92.68   9.146421   \n",
       "2                  4                    5  83.33  19.75  94.15  10.961075   \n",
       "3                  1                    0  91.67  19.27  93.41   7.080699   \n",
       "4                  4                    1  97.92  20.86  87.56   5.251669   \n",
       "\n",
       "   dep_field  \n",
       "0         -7  \n",
       "1         -8  \n",
       "2         -8  \n",
       "3         -8  \n",
       "4         -9  \n",
       "\n",
       "[5 rows x 86 columns]"
      ]
     },
     "execution_count": 38,
     "metadata": {},
     "output_type": "execute_result"
    }
   ],
   "source": [
    "for ind in df.index:\n",
    "    df[\"dep_field\"][ind] = ( (df[\"hs\"][ind]*hs_correlation)\n",
    "                            +(df[\"as\"][ind]*as_correlation)\n",
    "                            +(df[\"ss\"][ind]*ss_correlation) \n",
    "                            + (df[\"depression\"][ind]*20) )/3\n",
    "            \n",
    "df.head()"
   ]
  },
  {
   "cell_type": "code",
   "execution_count": 39,
   "metadata": {},
   "outputs": [
    {
     "data": {
      "text/plain": [
       "Index(['SEQN', 'depression', 'gender', 'age', 'education_level',\n",
       "       'household_size', 'household_income', 'asthma', 'anemia',\n",
       "       'ever_overweight', 'blood_transfusion', 'heart_failure',\n",
       "       'heart_disease', 'angina', 'heart_attack', 'stroke', 'emphysema',\n",
       "       'bronchitis', 'liver_condition', 'thyroid_problem',\n",
       "       'bronchitis_currently', 'liver_condition_currently',\n",
       "       'thyroid_problem_currently', 'cancer', 'first_cancer_type',\n",
       "       'second_cancer_type', 'third_cancer_type', 'hay_fever',\n",
       "       'arthritis_type', 'BMI', 'pulse', 'trouble_sleeping_history',\n",
       "       'sleep_hours', 'vigorous_recreation', 'moderate_recreation',\n",
       "       'sedentary_time', 'vigorous_work', 'moderate_work',\n",
       "       'drinks_per_occasion', 'lifetime_alcohol_consumption',\n",
       "       'drinks_past_year', 'cant_work', 'limited_work', 'memory_problems',\n",
       "       'health_problem_Other_Impairment', 'health_problem_Bone_or_Joint',\n",
       "       'health_problem_Weight', 'health_problem_Back_or_Neck',\n",
       "       'health_problem_Arthritis', 'health_problem_Cancer',\n",
       "       'health_problem_Other_Injury', 'health_problem_Breathing',\n",
       "       'health_problem_Stroke', 'health_problem_Blood_Pressure',\n",
       "       'health_problem_Mental_Retardation', 'health_problem_Hearing',\n",
       "       'health_problem_Heart', 'health_problem_Vision',\n",
       "       'health_problem_Diabetes', 'health_problem_Birth_Defect',\n",
       "       'health_problem_Senility', 'health_problem_Other_Developmental',\n",
       "       'marijuana_use', 'marijuana_per_month', 'cocaine_use',\n",
       "       'cocaine_number_uses', 'cocaine_per_month', 'heroine_use',\n",
       "       'heronine_per_month', 'meth_use', 'meth_number_uses', 'meth_per_month',\n",
       "       'inject_drugs', 'rehab_program', 'start_smoking_age', 'current_smoker',\n",
       "       'previous_cigarettes_per_day', 'current_cigarettes_per_day',\n",
       "       'days_quit_smoking', 'household_smokers', 'prescriptions_count', 'hs',\n",
       "       'as', 'ss', 'ds', 'dep_field'],\n",
       "      dtype='object')"
      ]
     },
     "execution_count": 39,
     "metadata": {},
     "output_type": "execute_result"
    }
   ],
   "source": [
    "df.columns"
   ]
  },
  {
   "cell_type": "code",
   "execution_count": 40,
   "metadata": {},
   "outputs": [
    {
     "name": "stderr",
     "output_type": "stream",
     "text": [
      "C:\\Users\\krish\\pythonproj\\env\\lib\\site-packages\\seaborn\\_decorators.py:36: FutureWarning: Pass the following variables as keyword args: x, y. From version 0.12, the only valid positional argument will be `data`, and passing other arguments without an explicit keyword will result in an error or misinterpretation.\n",
      "  warnings.warn(\n"
     ]
    },
    {
     "data": {
      "text/plain": [
       "<AxesSubplot:xlabel='sleep_hours', ylabel='depression'>"
      ]
     },
     "execution_count": 40,
     "metadata": {},
     "output_type": "execute_result"
    },
    {
     "data": {
      "image/png": "[encoded data removed]",
      "text/plain": [
       "<Figure size 432x288 with 1 Axes>"
      ]
     },
     "metadata": {
      "needs_background": "light"
     },
     "output_type": "display_data"
    }
   ],
   "source": [
    "sns.barplot(df[\"sleep_hours\"],df[\"depression\"])"
   ]
  },
  {
   "cell_type": "code",
   "execution_count": 41,
   "metadata": {},
   "outputs": [
    {
     "name": "stderr",
     "output_type": "stream",
     "text": [
      "C:\\Users\\krish\\pythonproj\\env\\lib\\site-packages\\seaborn\\_decorators.py:36: FutureWarning: Pass the following variable as a keyword arg: x. From version 0.12, the only valid positional argument will be `data`, and passing other arguments without an explicit keyword will result in an error or misinterpretation.\n",
      "  warnings.warn(\n"
     ]
    },
    {
     "data": {
      "text/plain": [
       "<AxesSubplot:xlabel='prescriptions_count', ylabel='count'>"
      ]
     },
     "execution_count": 41,
     "metadata": {},
     "output_type": "execute_result"
    },
    {
     "data": {
      "image/png": "[encoded data removed]",
      "text/plain": [
       "<Figure size 432x288 with 1 Axes>"
      ]
     },
     "metadata": {
      "needs_background": "light"
     },
     "output_type": "display_data"
    }
   ],
   "source": [
    "sns.countplot(df[\"prescriptions_count\"])"
   ]
  },
  {
   "cell_type": "code",
   "execution_count": 42,
   "metadata": {},
   "outputs": [
    {
     "name": "stderr",
     "output_type": "stream",
     "text": [
      "C:\\Users\\krish\\pythonproj\\env\\lib\\site-packages\\seaborn\\_decorators.py:36: FutureWarning: Pass the following variables as keyword args: x, y. From version 0.12, the only valid positional argument will be `data`, and passing other arguments without an explicit keyword will result in an error or misinterpretation.\n",
      "  warnings.warn(\n"
     ]
    },
    {
     "data": {
      "text/plain": [
       "<AxesSubplot:xlabel='prescriptions_count', ylabel='depression'>"
      ]
     },
     "execution_count": 42,
     "metadata": {},
     "output_type": "execute_result"
    },
    {
     "data": {
      "image/png": "[encoded data removed]",
      "text/plain": [
       "<Figure size 432x288 with 1 Axes>"
      ]
     },
     "metadata": {
      "needs_background": "light"
     },
     "output_type": "display_data"
    }
   ],
   "source": [
    "sns.barplot(df[\"prescriptions_count\"],df[\"depression\"])"
   ]
  },
  {
   "cell_type": "code",
   "execution_count": 43,
   "metadata": {},
   "outputs": [
    {
     "name": "stderr",
     "output_type": "stream",
     "text": [
      "C:\\Users\\krish\\pythonproj\\env\\lib\\site-packages\\seaborn\\distributions.py:2619: FutureWarning: `distplot` is a deprecated function and will be removed in a future version. Please adapt your code to use either `displot` (a figure-level function with similar flexibility) or `histplot` (an axes-level function for histograms).\n",
      "  warnings.warn(msg, FutureWarning)\n"
     ]
    },
    {
     "data": {
      "text/plain": [
       "<AxesSubplot:xlabel='pulse', ylabel='Density'>"
      ]
     },
     "execution_count": 43,
     "metadata": {},
     "output_type": "execute_result"
    },
    {
     "data": {
      "image/png": "[encoded data removed]",
      "text/plain": [
       "<Figure size 432x288 with 1 Axes>"
      ]
     },
     "metadata": {
      "needs_background": "light"
     },
     "output_type": "display_data"
    }
   ],
   "source": [
    "sns.distplot(df[\"pulse\"])"
   ]
  },
  {
   "cell_type": "code",
   "execution_count": 44,
   "metadata": {},
   "outputs": [
    {
     "data": {
      "text/plain": [
       "count    36259.000000\n",
       "mean        71.286026\n",
       "std         15.748265\n",
       "min          0.000000\n",
       "25%         64.000000\n",
       "50%         72.000000\n",
       "75%         80.000000\n",
       "max        224.000000\n",
       "Name: pulse, dtype: float64"
      ]
     },
     "execution_count": 44,
     "metadata": {},
     "output_type": "execute_result"
    }
   ],
   "source": [
    "df['pulse'].describe()"
   ]
  },
  {
   "cell_type": "code",
   "execution_count": 45,
   "metadata": {},
   "outputs": [
    {
     "name": "stderr",
     "output_type": "stream",
     "text": [
      "C:\\Users\\krish\\pythonproj\\env\\lib\\site-packages\\seaborn\\_decorators.py:36: FutureWarning: Pass the following variable as a keyword arg: x. From version 0.12, the only valid positional argument will be `data`, and passing other arguments without an explicit keyword will result in an error or misinterpretation.\n",
      "  warnings.warn(\n"
     ]
    },
    {
     "data": {
      "text/plain": [
       "<AxesSubplot:xlabel='pulse'>"
      ]
     },
     "execution_count": 45,
     "metadata": {},
     "output_type": "execute_result"
    },
    {
     "data": {
      "image/png": "[encoded data removed]",
      "text/plain": [
       "<Figure size 432x288 with 1 Axes>"
      ]
     },
     "metadata": {
      "needs_background": "light"
     },
     "output_type": "display_data"
    }
   ],
   "source": [
    "sns.boxplot(df['pulse'])"
   ]
  },
  {
   "cell_type": "code",
   "execution_count": null,
   "metadata": {},
   "outputs": [],
   "source": []
  },
  {
   "cell_type": "code",
   "execution_count": null,
   "metadata": {},
   "outputs": [],
   "source": []
  },
  {
   "cell_type": "code",
   "execution_count": null,
   "metadata": {},
   "outputs": [],
   "source": []
  },
  {
   "cell_type": "code",
   "execution_count": null,
   "metadata": {},
   "outputs": [],
   "source": []
  },
  {
   "cell_type": "code",
   "execution_count": null,
   "metadata": {},
   "outputs": [],
   "source": []
  },
  {
   "cell_type": "markdown",
   "metadata": {},
   "source": [
    "## Predict 2 : Health Score (more is good)"
   ]
  },
  {
   "cell_type": "markdown",
   "metadata": {},
   "source": [
    "Linear Regression"
   ]
  },
  {
   "cell_type": "code",
   "execution_count": 46,
   "metadata": {},
   "outputs": [
    {
     "name": "stdout",
     "output_type": "stream",
     "text": [
      "<class 'pandas.core.frame.DataFrame'>\n",
      "RangeIndex: 36259 entries, 0 to 36258\n",
      "Data columns (total 81 columns):\n",
      " #   Column                              Non-Null Count  Dtype  \n",
      "---  ------                              --------------  -----  \n",
      " 0   SEQN                                36259 non-null  int64  \n",
      " 1   gender                              36259 non-null  int64  \n",
      " 2   age                                 36259 non-null  int64  \n",
      " 3   education_level                     36259 non-null  int64  \n",
      " 4   household_size                      36259 non-null  int64  \n",
      " 5   household_income                    36259 non-null  int64  \n",
      " 6   asthma                              36259 non-null  int64  \n",
      " 7   anemia                              36259 non-null  int64  \n",
      " 8   ever_overweight                     36259 non-null  int64  \n",
      " 9   blood_transfusion                   36259 non-null  int64  \n",
      " 10  heart_failure                       36259 non-null  int64  \n",
      " 11  heart_disease                       36259 non-null  int64  \n",
      " 12  angina                              36259 non-null  int64  \n",
      " 13  heart_attack                        36259 non-null  int64  \n",
      " 14  stroke                              36259 non-null  int64  \n",
      " 15  emphysema                           36259 non-null  int64  \n",
      " 16  bronchitis                          36259 non-null  int64  \n",
      " 17  liver_condition                     36259 non-null  int64  \n",
      " 18  thyroid_problem                     36259 non-null  int64  \n",
      " 19  bronchitis_currently                36259 non-null  int64  \n",
      " 20  liver_condition_currently           36259 non-null  int64  \n",
      " 21  thyroid_problem_currently           36259 non-null  int64  \n",
      " 22  cancer                              36259 non-null  int64  \n",
      " 23  first_cancer_type                   36259 non-null  int64  \n",
      " 24  second_cancer_type                  36259 non-null  int64  \n",
      " 25  third_cancer_type                   36259 non-null  int64  \n",
      " 26  hay_fever                           36259 non-null  int64  \n",
      " 27  arthritis_type                      36259 non-null  int64  \n",
      " 28  BMI                                 36259 non-null  float64\n",
      " 29  pulse                               36259 non-null  int64  \n",
      " 30  trouble_sleeping_history            36259 non-null  int64  \n",
      " 31  sleep_hours                         36259 non-null  float64\n",
      " 32  vigorous_recreation                 36259 non-null  int64  \n",
      " 33  moderate_recreation                 36259 non-null  int64  \n",
      " 34  sedentary_time                      36259 non-null  int64  \n",
      " 35  vigorous_work                       36259 non-null  int64  \n",
      " 36  moderate_work                       36259 non-null  int64  \n",
      " 37  drinks_per_occasion                 36259 non-null  int64  \n",
      " 38  lifetime_alcohol_consumption        36259 non-null  int64  \n",
      " 39  drinks_past_year                    36259 non-null  int64  \n",
      " 40  cant_work                           36259 non-null  int64  \n",
      " 41  limited_work                        36259 non-null  int64  \n",
      " 42  memory_problems                     36259 non-null  int64  \n",
      " 43  health_problem_Other_Impairment     36259 non-null  int64  \n",
      " 44  health_problem_Bone_or_Joint        36259 non-null  int64  \n",
      " 45  health_problem_Weight               36259 non-null  int64  \n",
      " 46  health_problem_Back_or_Neck         36259 non-null  int64  \n",
      " 47  health_problem_Arthritis            36259 non-null  int64  \n",
      " 48  health_problem_Cancer               36259 non-null  int64  \n",
      " 49  health_problem_Other_Injury         36259 non-null  int64  \n",
      " 50  health_problem_Breathing            36259 non-null  int64  \n",
      " 51  health_problem_Stroke               36259 non-null  int64  \n",
      " 52  health_problem_Blood_Pressure       36259 non-null  int64  \n",
      " 53  health_problem_Mental_Retardation   36259 non-null  int64  \n",
      " 54  health_problem_Hearing              36259 non-null  int64  \n",
      " 55  health_problem_Heart                36259 non-null  int64  \n",
      " 56  health_problem_Vision               36259 non-null  int64  \n",
      " 57  health_problem_Diabetes             36259 non-null  int64  \n",
      " 58  health_problem_Birth_Defect         36259 non-null  int64  \n",
      " 59  health_problem_Senility             36259 non-null  int64  \n",
      " 60  health_problem_Other_Developmental  36259 non-null  int64  \n",
      " 61  marijuana_use                       36259 non-null  int64  \n",
      " 62  marijuana_per_month                 36259 non-null  int64  \n",
      " 63  cocaine_use                         36259 non-null  int64  \n",
      " 64  cocaine_number_uses                 36259 non-null  int64  \n",
      " 65  cocaine_per_month                   36259 non-null  int64  \n",
      " 66  heroine_use                         36259 non-null  int64  \n",
      " 67  heronine_per_month                  36259 non-null  int64  \n",
      " 68  meth_use                            36259 non-null  int64  \n",
      " 69  meth_number_uses                    36259 non-null  int64  \n",
      " 70  meth_per_month                      36259 non-null  int64  \n",
      " 71  inject_drugs                        36259 non-null  int64  \n",
      " 72  rehab_program                       36259 non-null  int64  \n",
      " 73  start_smoking_age                   36259 non-null  int64  \n",
      " 74  current_smoker                      36259 non-null  int64  \n",
      " 75  previous_cigarettes_per_day         36259 non-null  int64  \n",
      " 76  current_cigarettes_per_day          36259 non-null  int64  \n",
      " 77  days_quit_smoking                   36259 non-null  int64  \n",
      " 78  household_smokers                   36259 non-null  int64  \n",
      " 79  prescriptions_count                 36259 non-null  int64  \n",
      " 80  dep_field                           36259 non-null  int64  \n",
      "dtypes: float64(2), int64(79)\n",
      "memory usage: 22.4 MB\n"
     ]
    }
   ],
   "source": [
    "y = df['hs']\n",
    "X = df.drop(['hs'], axis = 1)\n",
    "X = X.drop(['depression'], axis = 1)\n",
    "X = X.drop(['as'], axis = 1)\n",
    "X = X.drop(['ss'], axis = 1)\n",
    "X = X.drop(['ds'], axis = 1)\n",
    "\n",
    "from sklearn.model_selection import train_test_split\n",
    "X_train, X_test, y_train, y_test = train_test_split(X, y, test_size = 0.3, random_state = 0)\n",
    "\n",
    "X.info()"
   ]
  },
  {
   "cell_type": "code",
   "execution_count": 47,
   "metadata": {},
   "outputs": [
    {
     "name": "stdout",
     "output_type": "stream",
     "text": [
      "Train score: 0.9667802446181871\n",
      "Test score: 0.9673416045749202\n"
     ]
    }
   ],
   "source": [
    "from sklearn.linear_model import LinearRegression\n",
    "lrm2 = LinearRegression()\n",
    "\n",
    "lrm2.fit(X_train, y_train)\n",
    "print('Train score: {}'.format(lrm2.score(X_train, y_train)))\n",
    "print('Test score: {}'.format(lrm2.score(X_test,y_test)))"
   ]
  },
  {
   "cell_type": "code",
   "execution_count": 48,
   "metadata": {},
   "outputs": [
    {
     "data": {
      "text/plain": [
       "array([80.9745281 , 94.51394435, 66.97891525, ..., 97.25766743,\n",
       "       93.48908268, 82.38876271])"
      ]
     },
     "execution_count": 48,
     "metadata": {},
     "output_type": "execute_result"
    }
   ],
   "source": [
    "lrm2.predict(X_test)"
   ]
  },
  {
   "cell_type": "code",
   "execution_count": 49,
   "metadata": {},
   "outputs": [
    {
     "data": {
      "text/plain": [
       "930478.6690714406"
      ]
     },
     "execution_count": 49,
     "metadata": {},
     "output_type": "execute_result"
    }
   ],
   "source": [
    "lrm2.predict(X_test).sum()"
   ]
  },
  {
   "cell_type": "code",
   "execution_count": 50,
   "metadata": {},
   "outputs": [],
   "source": [
    "import pickle\n",
    "pickle.dump(lrm2,open('m2_Health_score.pkl','wb'))"
   ]
  },
  {
   "cell_type": "code",
   "execution_count": null,
   "metadata": {},
   "outputs": [],
   "source": []
  },
  {
   "cell_type": "markdown",
   "metadata": {},
   "source": [
    "## Tried Linear Regression but Overfitting"
   ]
  },
  {
   "cell_type": "code",
   "execution_count": null,
   "metadata": {},
   "outputs": [],
   "source": []
  },
  {
   "cell_type": "markdown",
   "metadata": {},
   "source": [
    "## Predict 3 : Addiction Score(Lesser is good)"
   ]
  },
  {
   "cell_type": "markdown",
   "metadata": {},
   "source": [
    "Ridge Regression"
   ]
  },
  {
   "cell_type": "code",
   "execution_count": 62,
   "metadata": {},
   "outputs": [],
   "source": [
    "y = df['as']\n",
    "X = df.drop(['as'], axis = 1)\n",
    "X = X.drop(['hs'], axis = 1)\n",
    "X = X.drop(['depression'], axis = 1)\n",
    "X = X.drop(['ss'], axis = 1)\n",
    "X = X.drop(['ds'], axis = 1)\n",
    "\n",
    "X_train, X_test, y_train, y_test = train_test_split(X, y, test_size = 0.3, random_state = 0)"
   ]
  },
  {
   "cell_type": "code",
   "execution_count": 56,
   "metadata": {},
   "outputs": [
    {
     "name": "stdout",
     "output_type": "stream",
     "text": [
      "Train score: 0.9999998816936942\n",
      "Test score: 0.9999998796676208\n"
     ]
    },
    {
     "data": {
      "text/plain": [
       "234414.26448120602"
      ]
     },
     "execution_count": 56,
     "metadata": {},
     "output_type": "execute_result"
    }
   ],
   "source": [
    "from sklearn.linear_model import Ridge\n",
    "ridge = Ridge()\n",
    "ridge.fit(X_train, y_train)\n",
    "print('Train score: {}'.format(ridge.score(X_train, y_train)))\n",
    "print('Test score: {}'.format(ridge.score(X_test,y_test)))\n",
    "\n",
    "ridge.predict(X_test).sum()"
   ]
  },
  {
   "cell_type": "code",
   "execution_count": 57,
   "metadata": {},
   "outputs": [
    {
     "data": {
      "text/plain": [
       "array([26.25795587, 16.91623465,  8.90126846, ..., 19.51058475,\n",
       "       20.85936383, 19.12185751])"
      ]
     },
     "execution_count": 57,
     "metadata": {},
     "output_type": "execute_result"
    }
   ],
   "source": [
    "ridge.predict(X_test)"
   ]
  },
  {
   "cell_type": "code",
   "execution_count": 58,
   "metadata": {},
   "outputs": [],
   "source": [
    "import pickle\n",
    "pickle.dump(ridge,open('m3_addiction_score.pkl','wb'))"
   ]
  },
  {
   "cell_type": "code",
   "execution_count": null,
   "metadata": {},
   "outputs": [],
   "source": []
  },
  {
   "cell_type": "markdown",
   "metadata": {},
   "source": [
    "## Predict 4 : Sleep & Work Score (more is good)"
   ]
  },
  {
   "cell_type": "code",
   "execution_count": 61,
   "metadata": {},
   "outputs": [],
   "source": [
    "y = df['ss']\n",
    "X = df.drop(['ss'], axis = 1)\n",
    "X = X.drop(['hs'], axis = 1)\n",
    "X = X.drop(['as'], axis = 1)\n",
    "X = X.drop(['depression'], axis = 1)\n",
    "X = X.drop(['ds'], axis = 1)\n",
    "\n",
    "\n",
    "X_train, X_test, y_train, y_test = train_test_split(X, y, test_size = 0.3, random_state = 0)\n"
   ]
  },
  {
   "cell_type": "code",
   "execution_count": null,
   "metadata": {},
   "outputs": [],
   "source": []
  }
 ],
 "metadata": {
  "kernelspec": {
   "display_name": "Python 3",
   "language": "python",
   "name": "python3"
  },
  "language_info": {
   "codemirror_mode": {
    "name": "ipython",
    "version": 3
   },
   "file_extension": ".py",
   "mimetype": "text/x-python",
   "name": "python",
   "nbconvert_exporter": "python",
   "pygments_lexer": "ipython3",
   "version": "3.8.5"
  }
 },
 "nbformat": 4,
 "nbformat_minor": 4
}
