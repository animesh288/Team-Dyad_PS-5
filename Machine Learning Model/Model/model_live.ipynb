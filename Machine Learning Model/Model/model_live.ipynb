{
 "cells": [
  {
   "cell_type": "markdown",
   "metadata": {},
   "source": [
    "## Depression Score Prediction and Analyser - [ Me & Me Android App] [Team Dyad]"
   ]
  },
  {
   "cell_type": "markdown",
   "metadata": {},
   "source": [
    "![image](https://www.kokilabenhospital.com/blog/wp-content/uploads/2018/01/Depression.png)"
   ]
  },
  {
   "cell_type": "markdown",
   "metadata": {},
   "source": [
    "*About us :* Me&ME is Android App which provides different 5 Scores maily focused on Mentality Level of Student to it's parents and teachers, Our App help Parent's to know about their child, They get analysis of it. On the basis of the Depression Score, We also provide some necessary Task to student's on behalf of it's predicted score which help him to tackle the situation Mentally.\n",
    "\n",
    "We also have added a Gamified approach (Parent's approve the tasks donw by student's and after that he get's point) and Streak Count, Which mainly motivates student's to keep uding the app and build their mental strength"
   ]
  },
  {
   "cell_type": "markdown",
   "metadata": {},
   "source": [
    "### Importing DataSet and Libraries"
   ]
  },
  {
   "cell_type": "code",
   "execution_count": 1,
   "metadata": {},
   "outputs": [],
   "source": [
    "import pandas as pd\n",
    "import numpy as np\n",
    "import seaborn as sns\n",
    "import datetime\n",
    "import matplotlib.pyplot as plt\n",
    "%matplotlib inline"
   ]
  },
  {
   "cell_type": "markdown",
   "metadata": {},
   "source": [
    "# **Data Dictionary (at first glance)**\n",
    "Results of printing the unique values from each feature. Things I noticed about each feature.\n",
    "1. **gender** - object\n",
    "* contains the gender of the user\n",
    "2. **age** - int64\n",
    "* contains the age of the user\n",
    "3. **education_level** - int64\n",
    "    * classifies the education level of the user into 6 categories\n",
    "4. **household_size** - int64\n",
    "* contains the number of family members of the user\n",
    "5. **household_income** - int64\n",
    "* contains the family income of the user\n",
    "6. **asthma** - int64\n",
    "    * contains whether the user has asthma or not\n",
    "7. **anemia** - int64\n",
    "    * contains whether the user has anemia or not\n",
    "8. **ever_overweight** - int64\n",
    "    * contains whether the user was ever overweight or not\n",
    "9. **blood_transfusion** - int64\n",
    "    * contains whether the user has ever undergone blood transfusion or not\n",
    "10. **heart_failure** - int64\n",
    "    * contains whether the user has had heart failure or not\n",
    "11. **heart_disease** - int64\n",
    "    * contains whether the user has heart disease or not\n",
    "12. **angina** - int64\n",
    "    * contains whether the user has angina or not\n",
    "13. **heart_attack** - int64\n",
    "    * contains whether the user has had heart attack or not\n",
    "14. **stroke** - int64\n",
    "* contains whether the user has had heart attack or not\n",
    "15. **emphysema** - int64\n",
    "    *  contains whether the user has emphysema or not\n",
    "16. **bronchitis** - int64\n",
    "    * contains whether the user has had emphysema or not\n",
    "17. **liver_condition** - int64\n",
    "    * contains whether the user has had liver condition or not\n",
    "18. **thyroid_problem** - int64\n",
    "* contains whether the user has had thyroid or not\n",
    "19. **bronchitis_currently** - int64\n",
    "    * contains whether the user currently has bronchitis or not\n",
    "20. **thyroid_problem_currently** - int64\n",
    "* contains whether the user currently has thyroid or not\n",
    "21. **cancer** - int64\n",
    "    * contains whether the user has cancer or not\n",
    "22. **first_cancer_type** - object\n",
    "* contains the first type of cancer the user has had\n",
    "23. **second_cancer_type** - object\n",
    "    * contains the second type of cancer the user has had\n",
    "24. **third_cancer_type** - object\n",
    "    * contains the third type of cancer the user has had\n",
    "25. **hay_fever* - int64\n",
    "    * contains whether the user has had hay fever or not\n",
    "26. **arthritis_type** - object\n",
    "    * contains the type of arthritis of the user\n",
    "27. **BMI** - float64\n",
    "*contains the Body Mass Index of the user\n",
    "*calculated by using height and weight of the user\n",
    "28. **pulse** -  int64\n",
    "    * classifies the pulse of the user in 3 different levels\n",
    "29. **trouble_sleeping_history** - int64\n",
    "    * contains whether the user has had trouble in sleeping \n",
    "30. **sleep_hours** - float64\n",
    "    * contains the number of hours the user sleeps\n",
    "31. **vigorous_recreation** - int64\n",
    "    * contains whether the user did indulge in any highly involving leisure activity the previous day or not\n",
    "32. **moderate_recreation** - int64\n",
    "* contains whether the user did indulge in any moderately involving leisure activity the previous day or not\n",
    "33. **sedentary_time** - int64\n",
    "* contains the amount of time the user spent doing nothing\n",
    "34. **vigorous_work** - int64\n",
    "    * contains whether the user did indulge in any highly involving work the previous day or not\n",
    "35. **moderate_work** - int64\n",
    "    * contains whether the user did indulge in any moderately involving work the previous day or not\n",
    "36. **drinks_per_occasion** - int64\n",
    "    * classifies the amount of drinks the user takes per occasion into three different levels\n",
    "37. **lifetime_alcohol_consumption** - int64\n",
    "    * contains the whether the user has consumed alcohol in their life or not\n",
    "38. **drinks_past_year** - int64\n",
    "    * classifies the amount of drinks the user consumed the previous year into three different levels based on the amount entered\n",
    "39. **cant_work** - int64\n",
    "    * contains whether the user could work the previous day or not\n",
    "40. **limited_work** - int64\n",
    "* contains whether the user was feeling limited at work or not\n",
    "41. **memory_problems** - int64\n",
    "    * contains whether the user has had memory problems or not\n",
    "42. **health_problem_Other_Impairment** - int64\n",
    "    * contains whether the user has had some impairment or not\n",
    "43. **health_problem_Bone_or_Joint** - int64\n",
    "    * contains whether the user has had bone or joint problem or not\n",
    "44. **health_problem_Weight** - int64\n",
    "    * contains whether the user has had weight issues or not\n",
    "45. **health_problem_Back_or_Neck** - int64\n",
    "    * contains whether the user has had back or neck problem or not\n",
    "46. **health_problem_Arthritis** - int64\n",
    "    * contains whether the user has arthritis problem or not or not\n",
    "47. **health_problem_Cancer** - int64\n",
    "* contains whether the user has cancer or not\n",
    "48. **health_problem_Other_Injury** - int64\n",
    "    * contains whether the user has some injury or not\n",
    "49. **health_problem_Breathing** - int64\n",
    "* contains whether the user has breathing problems or not\n",
    "50. **health_problem_Stroke** - int64\n",
    "* contains whether the user has had stroke or not\n",
    "51. **health_problem_Blood_Pressure** - int64\n",
    "* contains whether the user has blood pressure problem or not\n",
    "52. **health_problem_Mental_Retardation** - int64\n",
    "    * contains whether the user has had mental retardation problem or not\n",
    "53. **health_problem_Hearing** - int64\n",
    "* contains whether the user has hearing problem or not\n",
    "54. **health_problem_Heart** - int64\n",
    "* contains whether the user has heart problem or not\n",
    "55. **health_problem_Vision** - int64\n",
    "    * contains whether the user has vision problem or not\n",
    "56. **health_problem_Diabetes** - int64\n",
    "    * contains whether the user has diabetes or not\n",
    "57. **health_problem_Birth_Defect** - int64\n",
    "    * contains whether the user has any birth defect or not\n",
    "58. **health_problem_Senility** - int64\n",
    "    * contains whether the user has senility or not\n",
    "59. **health_problem_Other_Developmental** - int64\n",
    "    * contains whether the user has any other health problem or not\n",
    "60. **marijuana_use** - int64\n",
    "    * contains whether the user consumes marijuana or not\n",
    "61. **marijuana_per_month** - int64\n",
    "    *  classifies the amount of used by the user in the previous month into 3 different levels\n",
    "62. **cocaine_use** - int64\n",
    "    * contains whether the user consumes cocaine or not\n",
    "63. **cocaine_number_uses** - int64\n",
    "    * contains the amount of cocaine for the user\n",
    "64. **cocaine_per_month** - int64\n",
    "    * classifies the amount of cocaine used by the user in the previous month into 3 different levels\n",
    "65. **heroine_use** - int64\n",
    "    * contains whether the user consumes heroine or not\n",
    "66. **heronine_per_month** - int64\n",
    "    * classifies the amount of heroine used by the user in the previous month into 3 different levels\n",
    "67. **meth_use** - int64\n",
    "    * contains whether the user consumes meth or not\n",
    "68. **meth_number_uses** - int64\n",
    "    * contains the amount of meth for the user\n",
    "69. **meth_per_month** - int64\n",
    "    * classifies the amount of meth used by the user in the previous month into 3 different levels\n",
    "70. **inject_drugs** - int64\n",
    "    * contains whether the user takes injective drugs or not\n",
    "71. **rehab_program** - int64\n",
    "* contains whether the user has attended any rehabilitation camp or not\n",
    "72. **start_smoking_age** - int64\n",
    "    * contains the age of the user when they started smoking\n",
    "73. **current_smoker** - int64\n",
    "    * contains whether the user currently smokes or not\n",
    "74. **previous_cigarettes_per_day** - int64\n",
    "    * contains the number of cigarettes the user consumed previously on the daily basis\n",
    "75. **current_cigarettes_per_day** - int64\n",
    "    * contains the number of cigarettes the user consumes currently on the daily basis\n",
    "76. **days_quit_smoking** - int64\n",
    "* contains the number of days since the user quit smoking\n",
    "77. **household_smokers** - int64\n",
    "    * contains the number of people who smoke in user’s family\n",
    "78. **prescriptions_count** - int64\n",
    "    * contains the frequency of the user going to doctor\n"
   ]
  },
  {
   "cell_type": "code",
   "execution_count": 2,
   "metadata": {},
   "outputs": [
    {
     "data": {
      "text/html": [
       "<div>\n",
       "<style scoped>\n",
       "    .dataframe tbody tr th:only-of-type {\n",
       "        vertical-align: middle;\n",
       "    }\n",
       "\n",
       "    .dataframe tbody tr th {\n",
       "        vertical-align: top;\n",
       "    }\n",
       "\n",
       "    .dataframe thead th {\n",
       "        text-align: right;\n",
       "    }\n",
       "</style>\n",
       "<table border=\"1\" class=\"dataframe\">\n",
       "  <thead>\n",
       "    <tr style=\"text-align: right;\">\n",
       "      <th></th>\n",
       "      <th>SEQN</th>\n",
       "      <th>depression</th>\n",
       "      <th>gender</th>\n",
       "      <th>age</th>\n",
       "      <th>race</th>\n",
       "      <th>citizenship</th>\n",
       "      <th>education_level</th>\n",
       "      <th>marital_status</th>\n",
       "      <th>household_size</th>\n",
       "      <th>pregnant</th>\n",
       "      <th>...</th>\n",
       "      <th>current_smoker</th>\n",
       "      <th>previous_cigarettes_per_day</th>\n",
       "      <th>current_cigarettes_per_day</th>\n",
       "      <th>days_quit_smoking</th>\n",
       "      <th>household_smokers</th>\n",
       "      <th>prescriptions_count</th>\n",
       "      <th>Health Score (more is good)</th>\n",
       "      <th>Addiction Score(Lesser is good)</th>\n",
       "      <th>Sleep &amp; Work Score (more is good)</th>\n",
       "      <th>depression percentage</th>\n",
       "    </tr>\n",
       "  </thead>\n",
       "  <tbody>\n",
       "    <tr>\n",
       "      <th>0</th>\n",
       "      <td>31131</td>\n",
       "      <td>Not Depressed</td>\n",
       "      <td>Female</td>\n",
       "      <td>44</td>\n",
       "      <td>Black</td>\n",
       "      <td>Citizen</td>\n",
       "      <td>4</td>\n",
       "      <td>Married</td>\n",
       "      <td>4</td>\n",
       "      <td>No</td>\n",
       "      <td>...</td>\n",
       "      <td>0</td>\n",
       "      <td>0</td>\n",
       "      <td>0</td>\n",
       "      <td>0</td>\n",
       "      <td>4</td>\n",
       "      <td>2</td>\n",
       "      <td>83.33</td>\n",
       "      <td>19.27</td>\n",
       "      <td>87.80</td>\n",
       "      <td>18.28</td>\n",
       "    </tr>\n",
       "    <tr>\n",
       "      <th>1</th>\n",
       "      <td>31132</td>\n",
       "      <td>Not Depressed</td>\n",
       "      <td>Male</td>\n",
       "      <td>70</td>\n",
       "      <td>White</td>\n",
       "      <td>Citizen</td>\n",
       "      <td>5</td>\n",
       "      <td>Married</td>\n",
       "      <td>2</td>\n",
       "      <td>Missing</td>\n",
       "      <td>...</td>\n",
       "      <td>0</td>\n",
       "      <td>0</td>\n",
       "      <td>0</td>\n",
       "      <td>0</td>\n",
       "      <td>4</td>\n",
       "      <td>4</td>\n",
       "      <td>87.50</td>\n",
       "      <td>19.51</td>\n",
       "      <td>92.68</td>\n",
       "      <td>14.45</td>\n",
       "    </tr>\n",
       "    <tr>\n",
       "      <th>2</th>\n",
       "      <td>31134</td>\n",
       "      <td>Not Depressed</td>\n",
       "      <td>Male</td>\n",
       "      <td>73</td>\n",
       "      <td>White</td>\n",
       "      <td>Citizen</td>\n",
       "      <td>3</td>\n",
       "      <td>Married</td>\n",
       "      <td>2</td>\n",
       "      <td>Missing</td>\n",
       "      <td>...</td>\n",
       "      <td>0</td>\n",
       "      <td>0</td>\n",
       "      <td>0</td>\n",
       "      <td>0</td>\n",
       "      <td>4</td>\n",
       "      <td>5</td>\n",
       "      <td>83.33</td>\n",
       "      <td>19.75</td>\n",
       "      <td>94.15</td>\n",
       "      <td>17.32</td>\n",
       "    </tr>\n",
       "    <tr>\n",
       "      <th>3</th>\n",
       "      <td>31139</td>\n",
       "      <td>Not Depressed</td>\n",
       "      <td>Female</td>\n",
       "      <td>18</td>\n",
       "      <td>Other Hispanic</td>\n",
       "      <td>Citizen</td>\n",
       "      <td>0</td>\n",
       "      <td>Never Married</td>\n",
       "      <td>3</td>\n",
       "      <td>No</td>\n",
       "      <td>...</td>\n",
       "      <td>0</td>\n",
       "      <td>0</td>\n",
       "      <td>0</td>\n",
       "      <td>0</td>\n",
       "      <td>1</td>\n",
       "      <td>0</td>\n",
       "      <td>91.67</td>\n",
       "      <td>19.27</td>\n",
       "      <td>93.41</td>\n",
       "      <td>11.19</td>\n",
       "    </tr>\n",
       "    <tr>\n",
       "      <th>4</th>\n",
       "      <td>31143</td>\n",
       "      <td>Not Depressed</td>\n",
       "      <td>Male</td>\n",
       "      <td>19</td>\n",
       "      <td>White</td>\n",
       "      <td>Citizen</td>\n",
       "      <td>0</td>\n",
       "      <td>Never Married</td>\n",
       "      <td>3</td>\n",
       "      <td>Missing</td>\n",
       "      <td>...</td>\n",
       "      <td>0</td>\n",
       "      <td>0</td>\n",
       "      <td>2</td>\n",
       "      <td>0</td>\n",
       "      <td>4</td>\n",
       "      <td>1</td>\n",
       "      <td>97.92</td>\n",
       "      <td>20.86</td>\n",
       "      <td>87.56</td>\n",
       "      <td>8.30</td>\n",
       "    </tr>\n",
       "  </tbody>\n",
       "</table>\n",
       "<p>5 rows × 116 columns</p>\n",
       "</div>"
      ],
      "text/plain": [
       "    SEQN     depression  gender  age            race citizenship  \\\n",
       "0  31131  Not Depressed  Female   44           Black     Citizen   \n",
       "1  31132  Not Depressed    Male   70           White     Citizen   \n",
       "2  31134  Not Depressed    Male   73           White     Citizen   \n",
       "3  31139  Not Depressed  Female   18  Other Hispanic     Citizen   \n",
       "4  31143  Not Depressed    Male   19           White     Citizen   \n",
       "\n",
       "   education_level marital_status  household_size pregnant  ...  \\\n",
       "0                4        Married               4       No  ...   \n",
       "1                5        Married               2  Missing  ...   \n",
       "2                3        Married               2  Missing  ...   \n",
       "3                0  Never Married               3       No  ...   \n",
       "4                0  Never Married               3  Missing  ...   \n",
       "\n",
       "  current_smoker previous_cigarettes_per_day  current_cigarettes_per_day  \\\n",
       "0              0                           0                           0   \n",
       "1              0                           0                           0   \n",
       "2              0                           0                           0   \n",
       "3              0                           0                           0   \n",
       "4              0                           0                           2   \n",
       "\n",
       "   days_quit_smoking  household_smokers  prescriptions_count  \\\n",
       "0                  0                  4                    2   \n",
       "1                  0                  4                    4   \n",
       "2                  0                  4                    5   \n",
       "3                  0                  1                    0   \n",
       "4                  0                  4                    1   \n",
       "\n",
       "   Health Score (more is good)  Addiction Score(Lesser is good)  \\\n",
       "0                        83.33                            19.27   \n",
       "1                        87.50                            19.51   \n",
       "2                        83.33                            19.75   \n",
       "3                        91.67                            19.27   \n",
       "4                        97.92                            20.86   \n",
       "\n",
       "   Sleep & Work Score (more is good)  depression percentage  \n",
       "0                              87.80                  18.28  \n",
       "1                              92.68                  14.45  \n",
       "2                              94.15                  17.32  \n",
       "3                              93.41                  11.19  \n",
       "4                              87.56                   8.30  \n",
       "\n",
       "[5 rows x 116 columns]"
      ]
     },
     "execution_count": 2,
     "metadata": {},
     "output_type": "execute_result"
    }
   ],
   "source": [
    "#Reading the file\n",
    "df = pd.read_csv(\"5outputdata.csv\")\n",
    "\n",
    "df.head()"
   ]
  },
  {
   "cell_type": "code",
   "execution_count": 3,
   "metadata": {},
   "outputs": [
    {
     "data": {
      "text/html": [
       "<div>\n",
       "<style scoped>\n",
       "    .dataframe tbody tr th:only-of-type {\n",
       "        vertical-align: middle;\n",
       "    }\n",
       "\n",
       "    .dataframe tbody tr th {\n",
       "        vertical-align: top;\n",
       "    }\n",
       "\n",
       "    .dataframe thead th {\n",
       "        text-align: right;\n",
       "    }\n",
       "</style>\n",
       "<table border=\"1\" class=\"dataframe\">\n",
       "  <thead>\n",
       "    <tr style=\"text-align: right;\">\n",
       "      <th></th>\n",
       "      <th>age</th>\n",
       "      <th>education_level</th>\n",
       "      <th>household_size</th>\n",
       "      <th>household_income</th>\n",
       "      <th>asthma</th>\n",
       "      <th>anemia</th>\n",
       "      <th>ever_overweight</th>\n",
       "      <th>blood_transfusion</th>\n",
       "      <th>heart_failure</th>\n",
       "      <th>heart_disease</th>\n",
       "      <th>...</th>\n",
       "      <th>current_smoker</th>\n",
       "      <th>previous_cigarettes_per_day</th>\n",
       "      <th>current_cigarettes_per_day</th>\n",
       "      <th>days_quit_smoking</th>\n",
       "      <th>household_smokers</th>\n",
       "      <th>prescriptions_count</th>\n",
       "      <th>Health Score (more is good)</th>\n",
       "      <th>Addiction Score(Lesser is good)</th>\n",
       "      <th>Sleep &amp; Work Score (more is good)</th>\n",
       "      <th>depression percentage</th>\n",
       "    </tr>\n",
       "  </thead>\n",
       "  <tbody>\n",
       "    <tr>\n",
       "      <th>count</th>\n",
       "      <td>36259.000000</td>\n",
       "      <td>36259.000000</td>\n",
       "      <td>36259.000000</td>\n",
       "      <td>36259.000000</td>\n",
       "      <td>36259.000000</td>\n",
       "      <td>36259.000000</td>\n",
       "      <td>36259.000000</td>\n",
       "      <td>36259.000000</td>\n",
       "      <td>36259.000000</td>\n",
       "      <td>36259.000000</td>\n",
       "      <td>...</td>\n",
       "      <td>36259.000000</td>\n",
       "      <td>36259.000000</td>\n",
       "      <td>36259.000000</td>\n",
       "      <td>36259.000000</td>\n",
       "      <td>36259.000000</td>\n",
       "      <td>36259.000000</td>\n",
       "      <td>36259.000000</td>\n",
       "      <td>36259.000000</td>\n",
       "      <td>36259.000000</td>\n",
       "      <td>36259.000000</td>\n",
       "    </tr>\n",
       "    <tr>\n",
       "      <th>mean</th>\n",
       "      <td>47.786260</td>\n",
       "      <td>3.209107</td>\n",
       "      <td>3.206349</td>\n",
       "      <td>6.919358</td>\n",
       "      <td>0.147743</td>\n",
       "      <td>0.042196</td>\n",
       "      <td>0.345211</td>\n",
       "      <td>0.116964</td>\n",
       "      <td>0.030586</td>\n",
       "      <td>0.038253</td>\n",
       "      <td>...</td>\n",
       "      <td>0.782178</td>\n",
       "      <td>3.487934</td>\n",
       "      <td>2.425770</td>\n",
       "      <td>1544.790838</td>\n",
       "      <td>2.265231</td>\n",
       "      <td>2.079566</td>\n",
       "      <td>85.549970</td>\n",
       "      <td>21.499624</td>\n",
       "      <td>74.527647</td>\n",
       "      <td>19.923273</td>\n",
       "    </tr>\n",
       "    <tr>\n",
       "      <th>std</th>\n",
       "      <td>18.763978</td>\n",
       "      <td>1.464932</td>\n",
       "      <td>1.677450</td>\n",
       "      <td>3.523153</td>\n",
       "      <td>0.354850</td>\n",
       "      <td>0.201040</td>\n",
       "      <td>0.475444</td>\n",
       "      <td>0.321382</td>\n",
       "      <td>0.172194</td>\n",
       "      <td>0.191808</td>\n",
       "      <td>...</td>\n",
       "      <td>1.095572</td>\n",
       "      <td>9.731544</td>\n",
       "      <td>6.641724</td>\n",
       "      <td>3828.916153</td>\n",
       "      <td>1.791525</td>\n",
       "      <td>2.888430</td>\n",
       "      <td>13.008381</td>\n",
       "      <td>7.050169</td>\n",
       "      <td>12.771491</td>\n",
       "      <td>10.414624</td>\n",
       "    </tr>\n",
       "    <tr>\n",
       "      <th>min</th>\n",
       "      <td>18.000000</td>\n",
       "      <td>0.000000</td>\n",
       "      <td>1.000000</td>\n",
       "      <td>0.000000</td>\n",
       "      <td>0.000000</td>\n",
       "      <td>0.000000</td>\n",
       "      <td>0.000000</td>\n",
       "      <td>0.000000</td>\n",
       "      <td>0.000000</td>\n",
       "      <td>0.000000</td>\n",
       "      <td>...</td>\n",
       "      <td>0.000000</td>\n",
       "      <td>0.000000</td>\n",
       "      <td>0.000000</td>\n",
       "      <td>0.000000</td>\n",
       "      <td>0.000000</td>\n",
       "      <td>0.000000</td>\n",
       "      <td>0.000000</td>\n",
       "      <td>0.000000</td>\n",
       "      <td>0.000000</td>\n",
       "      <td>0.000000</td>\n",
       "    </tr>\n",
       "    <tr>\n",
       "      <th>25%</th>\n",
       "      <td>31.000000</td>\n",
       "      <td>2.000000</td>\n",
       "      <td>2.000000</td>\n",
       "      <td>4.000000</td>\n",
       "      <td>0.000000</td>\n",
       "      <td>0.000000</td>\n",
       "      <td>0.000000</td>\n",
       "      <td>0.000000</td>\n",
       "      <td>0.000000</td>\n",
       "      <td>0.000000</td>\n",
       "      <td>...</td>\n",
       "      <td>0.000000</td>\n",
       "      <td>0.000000</td>\n",
       "      <td>0.000000</td>\n",
       "      <td>0.000000</td>\n",
       "      <td>0.000000</td>\n",
       "      <td>0.000000</td>\n",
       "      <td>79.170000</td>\n",
       "      <td>19.270000</td>\n",
       "      <td>65.850000</td>\n",
       "      <td>12.610000</td>\n",
       "    </tr>\n",
       "    <tr>\n",
       "      <th>50%</th>\n",
       "      <td>47.000000</td>\n",
       "      <td>3.000000</td>\n",
       "      <td>3.000000</td>\n",
       "      <td>7.000000</td>\n",
       "      <td>0.000000</td>\n",
       "      <td>0.000000</td>\n",
       "      <td>0.000000</td>\n",
       "      <td>0.000000</td>\n",
       "      <td>0.000000</td>\n",
       "      <td>0.000000</td>\n",
       "      <td>...</td>\n",
       "      <td>0.000000</td>\n",
       "      <td>0.000000</td>\n",
       "      <td>0.000000</td>\n",
       "      <td>0.000000</td>\n",
       "      <td>3.000000</td>\n",
       "      <td>1.000000</td>\n",
       "      <td>89.580000</td>\n",
       "      <td>19.590000</td>\n",
       "      <td>76.830000</td>\n",
       "      <td>17.170000</td>\n",
       "    </tr>\n",
       "    <tr>\n",
       "      <th>75%</th>\n",
       "      <td>63.000000</td>\n",
       "      <td>4.000000</td>\n",
       "      <td>4.000000</td>\n",
       "      <td>10.000000</td>\n",
       "      <td>0.000000</td>\n",
       "      <td>0.000000</td>\n",
       "      <td>1.000000</td>\n",
       "      <td>0.000000</td>\n",
       "      <td>0.000000</td>\n",
       "      <td>0.000000</td>\n",
       "      <td>...</td>\n",
       "      <td>1.000000</td>\n",
       "      <td>0.000000</td>\n",
       "      <td>0.000000</td>\n",
       "      <td>0.000000</td>\n",
       "      <td>4.000000</td>\n",
       "      <td>3.000000</td>\n",
       "      <td>93.750000</td>\n",
       "      <td>21.310000</td>\n",
       "      <td>84.150000</td>\n",
       "      <td>24.340000</td>\n",
       "    </tr>\n",
       "    <tr>\n",
       "      <th>max</th>\n",
       "      <td>85.000000</td>\n",
       "      <td>5.000000</td>\n",
       "      <td>7.000000</td>\n",
       "      <td>12.000000</td>\n",
       "      <td>1.000000</td>\n",
       "      <td>1.000000</td>\n",
       "      <td>1.000000</td>\n",
       "      <td>1.000000</td>\n",
       "      <td>1.000000</td>\n",
       "      <td>1.000000</td>\n",
       "      <td>...</td>\n",
       "      <td>3.000000</td>\n",
       "      <td>95.000000</td>\n",
       "      <td>95.000000</td>\n",
       "      <td>26280.000000</td>\n",
       "      <td>4.000000</td>\n",
       "      <td>23.000000</td>\n",
       "      <td>100.000000</td>\n",
       "      <td>100.000000</td>\n",
       "      <td>100.000000</td>\n",
       "      <td>100.000000</td>\n",
       "    </tr>\n",
       "  </tbody>\n",
       "</table>\n",
       "<p>8 rows × 97 columns</p>\n",
       "</div>"
      ],
      "text/plain": [
       "                age  education_level  household_size  household_income  \\\n",
       "count  36259.000000     36259.000000    36259.000000      36259.000000   \n",
       "mean      47.786260         3.209107        3.206349          6.919358   \n",
       "std       18.763978         1.464932        1.677450          3.523153   \n",
       "min       18.000000         0.000000        1.000000          0.000000   \n",
       "25%       31.000000         2.000000        2.000000          4.000000   \n",
       "50%       47.000000         3.000000        3.000000          7.000000   \n",
       "75%       63.000000         4.000000        4.000000         10.000000   \n",
       "max       85.000000         5.000000        7.000000         12.000000   \n",
       "\n",
       "             asthma        anemia  ever_overweight  blood_transfusion  \\\n",
       "count  36259.000000  36259.000000     36259.000000       36259.000000   \n",
       "mean       0.147743      0.042196         0.345211           0.116964   \n",
       "std        0.354850      0.201040         0.475444           0.321382   \n",
       "min        0.000000      0.000000         0.000000           0.000000   \n",
       "25%        0.000000      0.000000         0.000000           0.000000   \n",
       "50%        0.000000      0.000000         0.000000           0.000000   \n",
       "75%        0.000000      0.000000         1.000000           0.000000   \n",
       "max        1.000000      1.000000         1.000000           1.000000   \n",
       "\n",
       "       heart_failure  heart_disease  ...  current_smoker  \\\n",
       "count   36259.000000   36259.000000  ...    36259.000000   \n",
       "mean        0.030586       0.038253  ...        0.782178   \n",
       "std         0.172194       0.191808  ...        1.095572   \n",
       "min         0.000000       0.000000  ...        0.000000   \n",
       "25%         0.000000       0.000000  ...        0.000000   \n",
       "50%         0.000000       0.000000  ...        0.000000   \n",
       "75%         0.000000       0.000000  ...        1.000000   \n",
       "max         1.000000       1.000000  ...        3.000000   \n",
       "\n",
       "       previous_cigarettes_per_day  current_cigarettes_per_day  \\\n",
       "count                 36259.000000                36259.000000   \n",
       "mean                      3.487934                    2.425770   \n",
       "std                       9.731544                    6.641724   \n",
       "min                       0.000000                    0.000000   \n",
       "25%                       0.000000                    0.000000   \n",
       "50%                       0.000000                    0.000000   \n",
       "75%                       0.000000                    0.000000   \n",
       "max                      95.000000                   95.000000   \n",
       "\n",
       "       days_quit_smoking  household_smokers  prescriptions_count  \\\n",
       "count       36259.000000       36259.000000         36259.000000   \n",
       "mean         1544.790838           2.265231             2.079566   \n",
       "std          3828.916153           1.791525             2.888430   \n",
       "min             0.000000           0.000000             0.000000   \n",
       "25%             0.000000           0.000000             0.000000   \n",
       "50%             0.000000           3.000000             1.000000   \n",
       "75%             0.000000           4.000000             3.000000   \n",
       "max         26280.000000           4.000000            23.000000   \n",
       "\n",
       "       Health Score (more is good)  Addiction Score(Lesser is good)  \\\n",
       "count                 36259.000000                     36259.000000   \n",
       "mean                     85.549970                        21.499624   \n",
       "std                      13.008381                         7.050169   \n",
       "min                       0.000000                         0.000000   \n",
       "25%                      79.170000                        19.270000   \n",
       "50%                      89.580000                        19.590000   \n",
       "75%                      93.750000                        21.310000   \n",
       "max                     100.000000                       100.000000   \n",
       "\n",
       "       Sleep & Work Score (more is good)  depression percentage  \n",
       "count                       36259.000000           36259.000000  \n",
       "mean                           74.527647              19.923273  \n",
       "std                            12.771491              10.414624  \n",
       "min                             0.000000               0.000000  \n",
       "25%                            65.850000              12.610000  \n",
       "50%                            76.830000              17.170000  \n",
       "75%                            84.150000              24.340000  \n",
       "max                           100.000000             100.000000  \n",
       "\n",
       "[8 rows x 97 columns]"
      ]
     },
     "execution_count": 3,
     "metadata": {},
     "output_type": "execute_result"
    }
   ],
   "source": [
    "# dropping the seqn feature beacuse it has no relation with depression\n",
    "df = df.drop('SEQN', 1)\n",
    "df.describe()"
   ]
  },
  {
   "cell_type": "code",
   "execution_count": 4,
   "metadata": {},
   "outputs": [
    {
     "data": {
      "text/plain": [
       "depression                           0\n",
       "gender                               0\n",
       "age                                  0\n",
       "race                                 0\n",
       "citizenship                          0\n",
       "                                    ..\n",
       "prescriptions_count                  0\n",
       "Health Score (more is good)          0\n",
       "Addiction Score(Lesser is good)      0\n",
       "Sleep & Work Score (more is good)    0\n",
       "depression percentage                0\n",
       "Length: 115, dtype: int64"
      ]
     },
     "execution_count": 4,
     "metadata": {},
     "output_type": "execute_result"
    }
   ],
   "source": [
    "# checking for null values\n",
    "df.isnull().sum()"
   ]
  },
  {
   "cell_type": "code",
   "execution_count": 5,
   "metadata": {},
   "outputs": [
    {
     "name": "stdout",
     "output_type": "stream",
     "text": [
      "<class 'pandas.core.frame.DataFrame'>\n",
      "RangeIndex: 36259 entries, 0 to 36258\n",
      "Columns: 115 entries, depression to depression percentage\n",
      "dtypes: float64(6), int64(91), object(18)\n",
      "memory usage: 31.8+ MB\n"
     ]
    }
   ],
   "source": [
    "# Checking datatypes of features\n",
    "df.info()"
   ]
  },
  {
   "cell_type": "markdown",
   "metadata": {},
   "source": [
    "So, 18 Objects need to be analysed"
   ]
  },
  {
   "cell_type": "code",
   "execution_count": 6,
   "metadata": {},
   "outputs": [
    {
     "data": {
      "text/plain": [
       "Index(['depression', 'gender', 'race', 'citizenship', 'marital_status',\n",
       "       'pregnant', 'birth_place', 'veteran', 'first_cancer_type',\n",
       "       'second_cancer_type', 'third_cancer_type', 'arthritis_type',\n",
       "       'full_time_work', 'work_type', 'out_of_work', 'vigorous_recreation',\n",
       "       'moderate_recreation', 'lifetime_alcohol_consumption'],\n",
       "      dtype='object')"
      ]
     },
     "execution_count": 6,
     "metadata": {},
     "output_type": "execute_result"
    }
   ],
   "source": [
    "## so, all this total 18 columns need to be adjusted\n",
    "\n",
    "df.select_dtypes(include ='object').columns"
   ]
  },
  {
   "cell_type": "code",
   "execution_count": 7,
   "metadata": {},
   "outputs": [
    {
     "data": {
      "text/plain": [
       "Index(['age', 'education_level', 'household_size', 'household_income',\n",
       "       'asthma', 'anemia', 'ever_overweight', 'blood_transfusion',\n",
       "       'heart_failure', 'heart_disease', 'angina', 'heart_attack', 'stroke',\n",
       "       'emphysema', 'bronchitis', 'liver_condition', 'thyroid_problem',\n",
       "       'bronchitis_currently', 'liver_condition_currently',\n",
       "       'thyroid_problem_currently', 'cancer', 'fourth_cancer_count',\n",
       "       'heart_attack_relative', 'asthma_relative', 'diabetes_relative',\n",
       "       'hay_fever', 'arthritis_onset', 'heart_failure_onset',\n",
       "       'heart_disease_onset', 'angina_onset', 'heart_attack_onset',\n",
       "       'stroke_onset', 'emphysema_onset', 'bronchitis_onset',\n",
       "       'liver_condition_onset', 'thyroid_problem_onset', 'cancer_onset',\n",
       "       'first_cancer_count', 'second_cancer_count', 'third_cancer_count',\n",
       "       'pulse', 'time_in_current_job', 'trouble_sleeping_history',\n",
       "       'sedentary_time', 'vigorous_work', 'moderate_work',\n",
       "       'drinks_per_occasion', 'drinks_past_year', 'cant_work', 'limited_work',\n",
       "       'walking_equipment', 'memory_problems', 'limitations',\n",
       "       'healthcare_equipment', 'health_problem_Other Impairment',\n",
       "       'health_problem_Bone or Joint', 'health_problem_Weight',\n",
       "       'health_problem_Back or Neck', 'health_problem_Arthritis',\n",
       "       'health_problem_Cancer', 'health_problem_Other Injury',\n",
       "       'health_problem_Breathing', 'health_problem_Stroke',\n",
       "       'health_problem_Blood Pressure', 'health_problem_Mental Retardation',\n",
       "       'health_problem_Hearing', 'health_problem_Heart',\n",
       "       'health_problem_Vision', 'health_problem_Diabetes',\n",
       "       'health_problem_Birth Defect', 'health_problem_Senility',\n",
       "       'health_problem_Other Developmental', 'marijuana_use',\n",
       "       'marijuana_per_month', 'cocaine_use', 'cocaine_number_uses',\n",
       "       'cocaine_per_month', 'heroine_use', 'heronine_per_month', 'meth_use',\n",
       "       'meth_number_uses', 'meth_per_month', 'inject_drugs', 'rehab_program',\n",
       "       'start_smoking_age', 'current_smoker', 'previous_cigarettes_per_day',\n",
       "       'current_cigarettes_per_day', 'days_quit_smoking', 'household_smokers',\n",
       "       'prescriptions_count'],\n",
       "      dtype='object')"
      ]
     },
     "execution_count": 7,
     "metadata": {},
     "output_type": "execute_result"
    }
   ],
   "source": [
    "## so, all this total 18 columns need to be adjusted\n",
    "\n",
    "df.select_dtypes(include ='int64').columns"
   ]
  },
  {
   "cell_type": "code",
   "execution_count": 8,
   "metadata": {},
   "outputs": [
    {
     "data": {
      "text/plain": [
       "Index(['BMI', 'sleep_hours', 'Health Score (more is good)',\n",
       "       'Addiction Score(Lesser is good)', 'Sleep & Work Score (more is good)',\n",
       "       'depression percentage'],\n",
       "      dtype='object')"
      ]
     },
     "execution_count": 8,
     "metadata": {},
     "output_type": "execute_result"
    }
   ],
   "source": [
    "## so, all this total 18 columns need to be adjusted\n",
    "\n",
    "df.select_dtypes(include ='float64').columns"
   ]
  },
  {
   "cell_type": "markdown",
   "metadata": {},
   "source": [
    "## Exploratory Data Analysis (EDA)"
   ]
  },
  {
   "cell_type": "code",
   "execution_count": 9,
   "metadata": {},
   "outputs": [
    {
     "name": "stdout",
     "output_type": "stream",
     "text": [
      "Not Depressed    33091\n",
      "Depressed         3168\n",
      "Name: depression, dtype: int64\n"
     ]
    },
    {
     "name": "stderr",
     "output_type": "stream",
     "text": [
      "C:\\Users\\krish\\pythonproj\\env\\lib\\site-packages\\seaborn\\_decorators.py:36: FutureWarning: Pass the following variable as a keyword arg: x. From version 0.12, the only valid positional argument will be `data`, and passing other arguments without an explicit keyword will result in an error or misinterpretation.\n",
      "  warnings.warn(\n"
     ]
    },
    {
     "data": {
      "image/png": "[encoded data removed]",
      "text/plain": [
       "<Figure size 432x288 with 1 Axes>"
      ]
     },
     "metadata": {
      "needs_background": "light"
     },
     "output_type": "display_data"
    }
   ],
   "source": [
    "y = df[\"depression\"]\n",
    "\n",
    "sns.countplot(y)\n",
    "\n",
    "\n",
    "target_temp = df.depression.value_counts()\n",
    "\n",
    "print(target_temp)"
   ]
  },
  {
   "cell_type": "markdown",
   "metadata": {},
   "source": [
    "#### This means data is bit on baised side because it is having more not depressed student's in comparison to depressed one"
   ]
  },
  {
   "cell_type": "code",
   "execution_count": 10,
   "metadata": {},
   "outputs": [
    {
     "data": {
      "text/plain": [
       "<matplotlib.collections.PathCollection at 0x11ba4691af0>"
      ]
     },
     "execution_count": 10,
     "metadata": {},
     "output_type": "execute_result"
    },
    {
     "data": {
      "image/png": "[encoded data removed]",
      "text/plain": [
       "<Figure size 432x288 with 1 Axes>"
      ]
     },
     "metadata": {
      "needs_background": "light"
     },
     "output_type": "display_data"
    }
   ],
   "source": [
    "plt.scatter(x=df['Health Score (more is good)'],y=df['depression percentage'], color='green')"
   ]
  },
  {
   "cell_type": "markdown",
   "metadata": {},
   "source": [
    "#### Health Score and Depression percentage almost having linear relation with slope as -1 so, Initally we will try Linear Regression Model"
   ]
  },
  {
   "cell_type": "code",
   "execution_count": 11,
   "metadata": {},
   "outputs": [
    {
     "name": "stdout",
     "output_type": "stream",
     "text": [
      "                                        age  education_level  household_size  \\\n",
      "age                                1.000000         0.126528       -0.379588   \n",
      "education_level                    0.126528         1.000000       -0.207495   \n",
      "household_size                    -0.379588        -0.207495        1.000000   \n",
      "household_income                  -0.058694         0.337183        0.103949   \n",
      "asthma                            -0.057311        -0.001601       -0.012668   \n",
      "...                                     ...              ...             ...   \n",
      "prescriptions_count                0.500400         0.027556       -0.255021   \n",
      "Health Score (more is good)       -0.516517        -0.015947        0.250182   \n",
      "Addiction Score(Lesser is good)   -0.199238        -0.077693        0.046763   \n",
      "Sleep & Work Score (more is good) -0.035662        -0.140686        0.115966   \n",
      "depression percentage              0.426626         0.025438       -0.241503   \n",
      "\n",
      "                                   household_income    asthma    anemia  \\\n",
      "age                                       -0.058694 -0.057311  0.048101   \n",
      "education_level                            0.337183 -0.001601 -0.006643   \n",
      "household_size                             0.103949 -0.012668 -0.015515   \n",
      "household_income                           1.000000 -0.032760 -0.041182   \n",
      "asthma                                    -0.032760  1.000000  0.051014   \n",
      "...                                             ...       ...       ...   \n",
      "prescriptions_count                       -0.092630  0.149713  0.145111   \n",
      "Health Score (more is good)                0.158343 -0.242299 -0.204681   \n",
      "Addiction Score(Lesser is good)           -0.112547  0.048833 -0.023255   \n",
      "Sleep & Work Score (more is good)         -0.084118 -0.064257 -0.038466   \n",
      "depression percentage                     -0.155030  0.247805  0.188991   \n",
      "\n",
      "                                   ever_overweight  blood_transfusion  \\\n",
      "age                                       0.109636           0.264255   \n",
      "education_level                           0.068490           0.015769   \n",
      "household_size                           -0.056883          -0.119515   \n",
      "household_income                          0.025610          -0.064549   \n",
      "asthma                                    0.096076           0.032993   \n",
      "...                                            ...                ...   \n",
      "prescriptions_count                       0.245239           0.256390   \n",
      "Health Score (more is good)              -0.377617          -0.341649   \n",
      "Addiction Score(Lesser is good)          -0.047768          -0.046186   \n",
      "Sleep & Work Score (more is good)        -0.106879          -0.050546   \n",
      "depression percentage                     0.355362           0.310504   \n",
      "\n",
      "                                   heart_failure  heart_disease  ...  \\\n",
      "age                                     0.177984       0.217022  ...   \n",
      "education_level                        -0.022075       0.000291  ...   \n",
      "household_size                         -0.071311      -0.094652  ...   \n",
      "household_income                       -0.069491      -0.037268  ...   \n",
      "asthma                                  0.049269       0.014621  ...   \n",
      "...                                          ...            ...  ...   \n",
      "prescriptions_count                     0.311349       0.299816  ...   \n",
      "Health Score (more is good)            -0.361479      -0.333677  ...   \n",
      "Addiction Score(Lesser is good)        -0.018465      -0.037942  ...   \n",
      "Sleep & Work Score (more is good)      -0.069038      -0.046928  ...   \n",
      "depression percentage                   0.339907       0.304587  ...   \n",
      "\n",
      "                                   current_smoker  \\\n",
      "age                                      0.035900   \n",
      "education_level                         -0.034910   \n",
      "household_size                          -0.050234   \n",
      "household_income                        -0.132253   \n",
      "asthma                                   0.046175   \n",
      "...                                           ...   \n",
      "prescriptions_count                      0.055504   \n",
      "Health Score (more is good)             -0.108563   \n",
      "Addiction Score(Lesser is good)          0.658079   \n",
      "Sleep & Work Score (more is good)       -0.001607   \n",
      "depression percentage                    0.271028   \n",
      "\n",
      "                                   previous_cigarettes_per_day  \\\n",
      "age                                                   0.272815   \n",
      "education_level                                       0.031760   \n",
      "household_size                                       -0.130380   \n",
      "household_income                                      0.003259   \n",
      "asthma                                                0.008858   \n",
      "...                                                        ...   \n",
      "prescriptions_count                                   0.221243   \n",
      "Health Score (more is good)                          -0.228902   \n",
      "Addiction Score(Lesser is good)                      -0.223093   \n",
      "Sleep & Work Score (more is good)                    -0.045136   \n",
      "depression percentage                                 0.160375   \n",
      "\n",
      "                                   current_cigarettes_per_day  \\\n",
      "age                                                 -0.044294   \n",
      "education_level                                     -0.069948   \n",
      "household_size                                      -0.018964   \n",
      "household_income                                    -0.112496   \n",
      "asthma                                               0.044552   \n",
      "...                                                       ...   \n",
      "prescriptions_count                                  0.010768   \n",
      "Health Score (more is good)                         -0.055581   \n",
      "Addiction Score(Lesser is good)                      0.914648   \n",
      "Sleep & Work Score (more is good)                    0.000080   \n",
      "depression percentage                                0.289340   \n",
      "\n",
      "                                   days_quit_smoking  household_smokers  \\\n",
      "age                                         0.383092          -0.036709   \n",
      "education_level                             0.056494          -0.055865   \n",
      "household_size                             -0.170732           0.033897   \n",
      "household_income                            0.024758          -0.046010   \n",
      "asthma                                     -0.010781          -0.021295   \n",
      "...                                              ...                ...   \n",
      "prescriptions_count                         0.218823          -0.040065   \n",
      "Health Score (more is good)                -0.215087           0.063120   \n",
      "Addiction Score(Lesser is good)            -0.483496          -0.039042   \n",
      "Sleep & Work Score (more is good)          -0.032157           0.180891   \n",
      "depression percentage                       0.076945          -0.107808   \n",
      "\n",
      "                                   prescriptions_count  \\\n",
      "age                                           0.500400   \n",
      "education_level                               0.027556   \n",
      "household_size                               -0.255021   \n",
      "household_income                             -0.092630   \n",
      "asthma                                        0.149713   \n",
      "...                                                ...   \n",
      "prescriptions_count                           1.000000   \n",
      "Health Score (more is good)                  -0.872877   \n",
      "Addiction Score(Lesser is good)              -0.076206   \n",
      "Sleep & Work Score (more is good)            -0.149244   \n",
      "depression percentage                         0.808666   \n",
      "\n",
      "                                   Health Score (more is good)  \\\n",
      "age                                                  -0.516517   \n",
      "education_level                                      -0.015947   \n",
      "household_size                                        0.250182   \n",
      "household_income                                      0.158343   \n",
      "asthma                                               -0.242299   \n",
      "...                                                        ...   \n",
      "prescriptions_count                                  -0.872877   \n",
      "Health Score (more is good)                           1.000000   \n",
      "Addiction Score(Lesser is good)                       0.030421   \n",
      "Sleep & Work Score (more is good)                     0.168348   \n",
      "depression percentage                                -0.940700   \n",
      "\n",
      "                                   Addiction Score(Lesser is good)  \\\n",
      "age                                                      -0.199238   \n",
      "education_level                                          -0.077693   \n",
      "household_size                                            0.046763   \n",
      "household_income                                         -0.112547   \n",
      "asthma                                                    0.048833   \n",
      "...                                                            ...   \n",
      "prescriptions_count                                      -0.076206   \n",
      "Health Score (more is good)                               0.030421   \n",
      "Addiction Score(Lesser is good)                           1.000000   \n",
      "Sleep & Work Score (more is good)                         0.011131   \n",
      "depression percentage                                     0.230792   \n",
      "\n",
      "                                   Sleep & Work Score (more is good)  \\\n",
      "age                                                        -0.035662   \n",
      "education_level                                            -0.140686   \n",
      "household_size                                              0.115966   \n",
      "household_income                                           -0.084118   \n",
      "asthma                                                     -0.064257   \n",
      "...                                                              ...   \n",
      "prescriptions_count                                        -0.149244   \n",
      "Health Score (more is good)                                 0.168348   \n",
      "Addiction Score(Lesser is good)                             0.011131   \n",
      "Sleep & Work Score (more is good)                           1.000000   \n",
      "depression percentage                                      -0.372151   \n",
      "\n",
      "                                   depression percentage  \n",
      "age                                             0.426626  \n",
      "education_level                                 0.025438  \n",
      "household_size                                 -0.241503  \n",
      "household_income                               -0.155030  \n",
      "asthma                                          0.247805  \n",
      "...                                                  ...  \n",
      "prescriptions_count                             0.808666  \n",
      "Health Score (more is good)                    -0.940700  \n",
      "Addiction Score(Lesser is good)                 0.230792  \n",
      "Sleep & Work Score (more is good)              -0.372151  \n",
      "depression percentage                           1.000000  \n",
      "\n",
      "[97 rows x 97 columns]\n"
     ]
    }
   ],
   "source": [
    "correlations = df.corr()\n",
    "print(correlations)"
   ]
  },
  {
   "cell_type": "code",
   "execution_count": 12,
   "metadata": {},
   "outputs": [
    {
     "name": "stdout",
     "output_type": "stream",
     "text": [
      "age                                 -0.199238\n",
      "education_level                     -0.077693\n",
      "household_size                       0.046763\n",
      "household_income                    -0.112547\n",
      "asthma                               0.048833\n",
      "                                       ...   \n",
      "prescriptions_count                 -0.076206\n",
      "Health Score (more is good)          0.030421\n",
      "Addiction Score(Lesser is good)      1.000000\n",
      "Sleep & Work Score (more is good)    0.011131\n",
      "depression percentage                0.230792\n",
      "Name: Addiction Score(Lesser is good), Length: 97, dtype: float64\n"
     ]
    }
   ],
   "source": [
    "print(correlations[\"Addiction Score(Lesser is good)\"])"
   ]
  },
  {
   "cell_type": "markdown",
   "metadata": {},
   "source": []
  },
  {
   "cell_type": "code",
   "execution_count": 13,
   "metadata": {},
   "outputs": [
    {
     "data": {
      "text/html": [
       "<div>\n",
       "<style scoped>\n",
       "    .dataframe tbody tr th:only-of-type {\n",
       "        vertical-align: middle;\n",
       "    }\n",
       "\n",
       "    .dataframe tbody tr th {\n",
       "        vertical-align: top;\n",
       "    }\n",
       "\n",
       "    .dataframe thead th {\n",
       "        text-align: right;\n",
       "    }\n",
       "</style>\n",
       "<table border=\"1\" class=\"dataframe\">\n",
       "  <thead>\n",
       "    <tr style=\"text-align: right;\">\n",
       "      <th></th>\n",
       "      <th>age</th>\n",
       "      <th>education_level</th>\n",
       "      <th>household_size</th>\n",
       "      <th>household_income</th>\n",
       "      <th>asthma</th>\n",
       "      <th>anemia</th>\n",
       "      <th>ever_overweight</th>\n",
       "      <th>blood_transfusion</th>\n",
       "      <th>heart_failure</th>\n",
       "      <th>heart_disease</th>\n",
       "      <th>...</th>\n",
       "      <th>current_smoker</th>\n",
       "      <th>previous_cigarettes_per_day</th>\n",
       "      <th>current_cigarettes_per_day</th>\n",
       "      <th>days_quit_smoking</th>\n",
       "      <th>household_smokers</th>\n",
       "      <th>prescriptions_count</th>\n",
       "      <th>Health Score (more is good)</th>\n",
       "      <th>Addiction Score(Lesser is good)</th>\n",
       "      <th>Sleep &amp; Work Score (more is good)</th>\n",
       "      <th>depression percentage</th>\n",
       "    </tr>\n",
       "  </thead>\n",
       "  <tbody>\n",
       "    <tr>\n",
       "      <th>age</th>\n",
       "      <td>1.000000</td>\n",
       "      <td>0.126528</td>\n",
       "      <td>-0.379588</td>\n",
       "      <td>-0.058694</td>\n",
       "      <td>-0.057311</td>\n",
       "      <td>0.048101</td>\n",
       "      <td>0.109636</td>\n",
       "      <td>0.264255</td>\n",
       "      <td>0.177984</td>\n",
       "      <td>0.217022</td>\n",
       "      <td>...</td>\n",
       "      <td>0.035900</td>\n",
       "      <td>0.272815</td>\n",
       "      <td>-0.044294</td>\n",
       "      <td>0.383092</td>\n",
       "      <td>-0.036709</td>\n",
       "      <td>0.500400</td>\n",
       "      <td>-0.516517</td>\n",
       "      <td>-0.199238</td>\n",
       "      <td>-0.035662</td>\n",
       "      <td>0.426626</td>\n",
       "    </tr>\n",
       "    <tr>\n",
       "      <th>education_level</th>\n",
       "      <td>0.126528</td>\n",
       "      <td>1.000000</td>\n",
       "      <td>-0.207495</td>\n",
       "      <td>0.337183</td>\n",
       "      <td>-0.001601</td>\n",
       "      <td>-0.006643</td>\n",
       "      <td>0.068490</td>\n",
       "      <td>0.015769</td>\n",
       "      <td>-0.022075</td>\n",
       "      <td>0.000291</td>\n",
       "      <td>...</td>\n",
       "      <td>-0.034910</td>\n",
       "      <td>0.031760</td>\n",
       "      <td>-0.069948</td>\n",
       "      <td>0.056494</td>\n",
       "      <td>-0.055865</td>\n",
       "      <td>0.027556</td>\n",
       "      <td>-0.015947</td>\n",
       "      <td>-0.077693</td>\n",
       "      <td>-0.140686</td>\n",
       "      <td>0.025438</td>\n",
       "    </tr>\n",
       "    <tr>\n",
       "      <th>household_size</th>\n",
       "      <td>-0.379588</td>\n",
       "      <td>-0.207495</td>\n",
       "      <td>1.000000</td>\n",
       "      <td>0.103949</td>\n",
       "      <td>-0.012668</td>\n",
       "      <td>-0.015515</td>\n",
       "      <td>-0.056883</td>\n",
       "      <td>-0.119515</td>\n",
       "      <td>-0.071311</td>\n",
       "      <td>-0.094652</td>\n",
       "      <td>...</td>\n",
       "      <td>-0.050234</td>\n",
       "      <td>-0.130380</td>\n",
       "      <td>-0.018964</td>\n",
       "      <td>-0.170732</td>\n",
       "      <td>0.033897</td>\n",
       "      <td>-0.255021</td>\n",
       "      <td>0.250182</td>\n",
       "      <td>0.046763</td>\n",
       "      <td>0.115966</td>\n",
       "      <td>-0.241503</td>\n",
       "    </tr>\n",
       "    <tr>\n",
       "      <th>household_income</th>\n",
       "      <td>-0.058694</td>\n",
       "      <td>0.337183</td>\n",
       "      <td>0.103949</td>\n",
       "      <td>1.000000</td>\n",
       "      <td>-0.032760</td>\n",
       "      <td>-0.041182</td>\n",
       "      <td>0.025610</td>\n",
       "      <td>-0.064549</td>\n",
       "      <td>-0.069491</td>\n",
       "      <td>-0.037268</td>\n",
       "      <td>...</td>\n",
       "      <td>-0.132253</td>\n",
       "      <td>0.003259</td>\n",
       "      <td>-0.112496</td>\n",
       "      <td>0.024758</td>\n",
       "      <td>-0.046010</td>\n",
       "      <td>-0.092630</td>\n",
       "      <td>0.158343</td>\n",
       "      <td>-0.112547</td>\n",
       "      <td>-0.084118</td>\n",
       "      <td>-0.155030</td>\n",
       "    </tr>\n",
       "    <tr>\n",
       "      <th>asthma</th>\n",
       "      <td>-0.057311</td>\n",
       "      <td>-0.001601</td>\n",
       "      <td>-0.012668</td>\n",
       "      <td>-0.032760</td>\n",
       "      <td>1.000000</td>\n",
       "      <td>0.051014</td>\n",
       "      <td>0.096076</td>\n",
       "      <td>0.032993</td>\n",
       "      <td>0.049269</td>\n",
       "      <td>0.014621</td>\n",
       "      <td>...</td>\n",
       "      <td>0.046175</td>\n",
       "      <td>0.008858</td>\n",
       "      <td>0.044552</td>\n",
       "      <td>-0.010781</td>\n",
       "      <td>-0.021295</td>\n",
       "      <td>0.149713</td>\n",
       "      <td>-0.242299</td>\n",
       "      <td>0.048833</td>\n",
       "      <td>-0.064257</td>\n",
       "      <td>0.247805</td>\n",
       "    </tr>\n",
       "    <tr>\n",
       "      <th>...</th>\n",
       "      <td>...</td>\n",
       "      <td>...</td>\n",
       "      <td>...</td>\n",
       "      <td>...</td>\n",
       "      <td>...</td>\n",
       "      <td>...</td>\n",
       "      <td>...</td>\n",
       "      <td>...</td>\n",
       "      <td>...</td>\n",
       "      <td>...</td>\n",
       "      <td>...</td>\n",
       "      <td>...</td>\n",
       "      <td>...</td>\n",
       "      <td>...</td>\n",
       "      <td>...</td>\n",
       "      <td>...</td>\n",
       "      <td>...</td>\n",
       "      <td>...</td>\n",
       "      <td>...</td>\n",
       "      <td>...</td>\n",
       "      <td>...</td>\n",
       "    </tr>\n",
       "    <tr>\n",
       "      <th>prescriptions_count</th>\n",
       "      <td>0.500400</td>\n",
       "      <td>0.027556</td>\n",
       "      <td>-0.255021</td>\n",
       "      <td>-0.092630</td>\n",
       "      <td>0.149713</td>\n",
       "      <td>0.145111</td>\n",
       "      <td>0.245239</td>\n",
       "      <td>0.256390</td>\n",
       "      <td>0.311349</td>\n",
       "      <td>0.299816</td>\n",
       "      <td>...</td>\n",
       "      <td>0.055504</td>\n",
       "      <td>0.221243</td>\n",
       "      <td>0.010768</td>\n",
       "      <td>0.218823</td>\n",
       "      <td>-0.040065</td>\n",
       "      <td>1.000000</td>\n",
       "      <td>-0.872877</td>\n",
       "      <td>-0.076206</td>\n",
       "      <td>-0.149244</td>\n",
       "      <td>0.808666</td>\n",
       "    </tr>\n",
       "    <tr>\n",
       "      <th>Health Score (more is good)</th>\n",
       "      <td>-0.516517</td>\n",
       "      <td>-0.015947</td>\n",
       "      <td>0.250182</td>\n",
       "      <td>0.158343</td>\n",
       "      <td>-0.242299</td>\n",
       "      <td>-0.204681</td>\n",
       "      <td>-0.377617</td>\n",
       "      <td>-0.341649</td>\n",
       "      <td>-0.361479</td>\n",
       "      <td>-0.333677</td>\n",
       "      <td>...</td>\n",
       "      <td>-0.108563</td>\n",
       "      <td>-0.228902</td>\n",
       "      <td>-0.055581</td>\n",
       "      <td>-0.215087</td>\n",
       "      <td>0.063120</td>\n",
       "      <td>-0.872877</td>\n",
       "      <td>1.000000</td>\n",
       "      <td>0.030421</td>\n",
       "      <td>0.168348</td>\n",
       "      <td>-0.940700</td>\n",
       "    </tr>\n",
       "    <tr>\n",
       "      <th>Addiction Score(Lesser is good)</th>\n",
       "      <td>-0.199238</td>\n",
       "      <td>-0.077693</td>\n",
       "      <td>0.046763</td>\n",
       "      <td>-0.112547</td>\n",
       "      <td>0.048833</td>\n",
       "      <td>-0.023255</td>\n",
       "      <td>-0.047768</td>\n",
       "      <td>-0.046186</td>\n",
       "      <td>-0.018465</td>\n",
       "      <td>-0.037942</td>\n",
       "      <td>...</td>\n",
       "      <td>0.658079</td>\n",
       "      <td>-0.223093</td>\n",
       "      <td>0.914648</td>\n",
       "      <td>-0.483496</td>\n",
       "      <td>-0.039042</td>\n",
       "      <td>-0.076206</td>\n",
       "      <td>0.030421</td>\n",
       "      <td>1.000000</td>\n",
       "      <td>0.011131</td>\n",
       "      <td>0.230792</td>\n",
       "    </tr>\n",
       "    <tr>\n",
       "      <th>Sleep &amp; Work Score (more is good)</th>\n",
       "      <td>-0.035662</td>\n",
       "      <td>-0.140686</td>\n",
       "      <td>0.115966</td>\n",
       "      <td>-0.084118</td>\n",
       "      <td>-0.064257</td>\n",
       "      <td>-0.038466</td>\n",
       "      <td>-0.106879</td>\n",
       "      <td>-0.050546</td>\n",
       "      <td>-0.069038</td>\n",
       "      <td>-0.046928</td>\n",
       "      <td>...</td>\n",
       "      <td>-0.001607</td>\n",
       "      <td>-0.045136</td>\n",
       "      <td>0.000080</td>\n",
       "      <td>-0.032157</td>\n",
       "      <td>0.180891</td>\n",
       "      <td>-0.149244</td>\n",
       "      <td>0.168348</td>\n",
       "      <td>0.011131</td>\n",
       "      <td>1.000000</td>\n",
       "      <td>-0.372151</td>\n",
       "    </tr>\n",
       "    <tr>\n",
       "      <th>depression percentage</th>\n",
       "      <td>0.426626</td>\n",
       "      <td>0.025438</td>\n",
       "      <td>-0.241503</td>\n",
       "      <td>-0.155030</td>\n",
       "      <td>0.247805</td>\n",
       "      <td>0.188991</td>\n",
       "      <td>0.355362</td>\n",
       "      <td>0.310504</td>\n",
       "      <td>0.339907</td>\n",
       "      <td>0.304587</td>\n",
       "      <td>...</td>\n",
       "      <td>0.271028</td>\n",
       "      <td>0.160375</td>\n",
       "      <td>0.289340</td>\n",
       "      <td>0.076945</td>\n",
       "      <td>-0.107808</td>\n",
       "      <td>0.808666</td>\n",
       "      <td>-0.940700</td>\n",
       "      <td>0.230792</td>\n",
       "      <td>-0.372151</td>\n",
       "      <td>1.000000</td>\n",
       "    </tr>\n",
       "  </tbody>\n",
       "</table>\n",
       "<p>97 rows × 97 columns</p>\n",
       "</div>"
      ],
      "text/plain": [
       "                                        age  education_level  household_size  \\\n",
       "age                                1.000000         0.126528       -0.379588   \n",
       "education_level                    0.126528         1.000000       -0.207495   \n",
       "household_size                    -0.379588        -0.207495        1.000000   \n",
       "household_income                  -0.058694         0.337183        0.103949   \n",
       "asthma                            -0.057311        -0.001601       -0.012668   \n",
       "...                                     ...              ...             ...   \n",
       "prescriptions_count                0.500400         0.027556       -0.255021   \n",
       "Health Score (more is good)       -0.516517        -0.015947        0.250182   \n",
       "Addiction Score(Lesser is good)   -0.199238        -0.077693        0.046763   \n",
       "Sleep & Work Score (more is good) -0.035662        -0.140686        0.115966   \n",
       "depression percentage              0.426626         0.025438       -0.241503   \n",
       "\n",
       "                                   household_income    asthma    anemia  \\\n",
       "age                                       -0.058694 -0.057311  0.048101   \n",
       "education_level                            0.337183 -0.001601 -0.006643   \n",
       "household_size                             0.103949 -0.012668 -0.015515   \n",
       "household_income                           1.000000 -0.032760 -0.041182   \n",
       "asthma                                    -0.032760  1.000000  0.051014   \n",
       "...                                             ...       ...       ...   \n",
       "prescriptions_count                       -0.092630  0.149713  0.145111   \n",
       "Health Score (more is good)                0.158343 -0.242299 -0.204681   \n",
       "Addiction Score(Lesser is good)           -0.112547  0.048833 -0.023255   \n",
       "Sleep & Work Score (more is good)         -0.084118 -0.064257 -0.038466   \n",
       "depression percentage                     -0.155030  0.247805  0.188991   \n",
       "\n",
       "                                   ever_overweight  blood_transfusion  \\\n",
       "age                                       0.109636           0.264255   \n",
       "education_level                           0.068490           0.015769   \n",
       "household_size                           -0.056883          -0.119515   \n",
       "household_income                          0.025610          -0.064549   \n",
       "asthma                                    0.096076           0.032993   \n",
       "...                                            ...                ...   \n",
       "prescriptions_count                       0.245239           0.256390   \n",
       "Health Score (more is good)              -0.377617          -0.341649   \n",
       "Addiction Score(Lesser is good)          -0.047768          -0.046186   \n",
       "Sleep & Work Score (more is good)        -0.106879          -0.050546   \n",
       "depression percentage                     0.355362           0.310504   \n",
       "\n",
       "                                   heart_failure  heart_disease  ...  \\\n",
       "age                                     0.177984       0.217022  ...   \n",
       "education_level                        -0.022075       0.000291  ...   \n",
       "household_size                         -0.071311      -0.094652  ...   \n",
       "household_income                       -0.069491      -0.037268  ...   \n",
       "asthma                                  0.049269       0.014621  ...   \n",
       "...                                          ...            ...  ...   \n",
       "prescriptions_count                     0.311349       0.299816  ...   \n",
       "Health Score (more is good)            -0.361479      -0.333677  ...   \n",
       "Addiction Score(Lesser is good)        -0.018465      -0.037942  ...   \n",
       "Sleep & Work Score (more is good)      -0.069038      -0.046928  ...   \n",
       "depression percentage                   0.339907       0.304587  ...   \n",
       "\n",
       "                                   current_smoker  \\\n",
       "age                                      0.035900   \n",
       "education_level                         -0.034910   \n",
       "household_size                          -0.050234   \n",
       "household_income                        -0.132253   \n",
       "asthma                                   0.046175   \n",
       "...                                           ...   \n",
       "prescriptions_count                      0.055504   \n",
       "Health Score (more is good)             -0.108563   \n",
       "Addiction Score(Lesser is good)          0.658079   \n",
       "Sleep & Work Score (more is good)       -0.001607   \n",
       "depression percentage                    0.271028   \n",
       "\n",
       "                                   previous_cigarettes_per_day  \\\n",
       "age                                                   0.272815   \n",
       "education_level                                       0.031760   \n",
       "household_size                                       -0.130380   \n",
       "household_income                                      0.003259   \n",
       "asthma                                                0.008858   \n",
       "...                                                        ...   \n",
       "prescriptions_count                                   0.221243   \n",
       "Health Score (more is good)                          -0.228902   \n",
       "Addiction Score(Lesser is good)                      -0.223093   \n",
       "Sleep & Work Score (more is good)                    -0.045136   \n",
       "depression percentage                                 0.160375   \n",
       "\n",
       "                                   current_cigarettes_per_day  \\\n",
       "age                                                 -0.044294   \n",
       "education_level                                     -0.069948   \n",
       "household_size                                      -0.018964   \n",
       "household_income                                    -0.112496   \n",
       "asthma                                               0.044552   \n",
       "...                                                       ...   \n",
       "prescriptions_count                                  0.010768   \n",
       "Health Score (more is good)                         -0.055581   \n",
       "Addiction Score(Lesser is good)                      0.914648   \n",
       "Sleep & Work Score (more is good)                    0.000080   \n",
       "depression percentage                                0.289340   \n",
       "\n",
       "                                   days_quit_smoking  household_smokers  \\\n",
       "age                                         0.383092          -0.036709   \n",
       "education_level                             0.056494          -0.055865   \n",
       "household_size                             -0.170732           0.033897   \n",
       "household_income                            0.024758          -0.046010   \n",
       "asthma                                     -0.010781          -0.021295   \n",
       "...                                              ...                ...   \n",
       "prescriptions_count                         0.218823          -0.040065   \n",
       "Health Score (more is good)                -0.215087           0.063120   \n",
       "Addiction Score(Lesser is good)            -0.483496          -0.039042   \n",
       "Sleep & Work Score (more is good)          -0.032157           0.180891   \n",
       "depression percentage                       0.076945          -0.107808   \n",
       "\n",
       "                                   prescriptions_count  \\\n",
       "age                                           0.500400   \n",
       "education_level                               0.027556   \n",
       "household_size                               -0.255021   \n",
       "household_income                             -0.092630   \n",
       "asthma                                        0.149713   \n",
       "...                                                ...   \n",
       "prescriptions_count                           1.000000   \n",
       "Health Score (more is good)                  -0.872877   \n",
       "Addiction Score(Lesser is good)              -0.076206   \n",
       "Sleep & Work Score (more is good)            -0.149244   \n",
       "depression percentage                         0.808666   \n",
       "\n",
       "                                   Health Score (more is good)  \\\n",
       "age                                                  -0.516517   \n",
       "education_level                                      -0.015947   \n",
       "household_size                                        0.250182   \n",
       "household_income                                      0.158343   \n",
       "asthma                                               -0.242299   \n",
       "...                                                        ...   \n",
       "prescriptions_count                                  -0.872877   \n",
       "Health Score (more is good)                           1.000000   \n",
       "Addiction Score(Lesser is good)                       0.030421   \n",
       "Sleep & Work Score (more is good)                     0.168348   \n",
       "depression percentage                                -0.940700   \n",
       "\n",
       "                                   Addiction Score(Lesser is good)  \\\n",
       "age                                                      -0.199238   \n",
       "education_level                                          -0.077693   \n",
       "household_size                                            0.046763   \n",
       "household_income                                         -0.112547   \n",
       "asthma                                                    0.048833   \n",
       "...                                                            ...   \n",
       "prescriptions_count                                      -0.076206   \n",
       "Health Score (more is good)                               0.030421   \n",
       "Addiction Score(Lesser is good)                           1.000000   \n",
       "Sleep & Work Score (more is good)                         0.011131   \n",
       "depression percentage                                     0.230792   \n",
       "\n",
       "                                   Sleep & Work Score (more is good)  \\\n",
       "age                                                        -0.035662   \n",
       "education_level                                            -0.140686   \n",
       "household_size                                              0.115966   \n",
       "household_income                                           -0.084118   \n",
       "asthma                                                     -0.064257   \n",
       "...                                                              ...   \n",
       "prescriptions_count                                        -0.149244   \n",
       "Health Score (more is good)                                 0.168348   \n",
       "Addiction Score(Lesser is good)                             0.011131   \n",
       "Sleep & Work Score (more is good)                           1.000000   \n",
       "depression percentage                                      -0.372151   \n",
       "\n",
       "                                   depression percentage  \n",
       "age                                             0.426626  \n",
       "education_level                                 0.025438  \n",
       "household_size                                 -0.241503  \n",
       "household_income                               -0.155030  \n",
       "asthma                                          0.247805  \n",
       "...                                                  ...  \n",
       "prescriptions_count                             0.808666  \n",
       "Health Score (more is good)                    -0.940700  \n",
       "Addiction Score(Lesser is good)                 0.230792  \n",
       "Sleep & Work Score (more is good)              -0.372151  \n",
       "depression percentage                           1.000000  \n",
       "\n",
       "[97 rows x 97 columns]"
      ]
     },
     "execution_count": 13,
     "metadata": {},
     "output_type": "execute_result"
    }
   ],
   "source": [
    "df.corr()"
   ]
  },
  {
   "cell_type": "markdown",
   "metadata": {},
   "source": [
    "## Data Cleaning"
   ]
  },
  {
   "cell_type": "code",
   "execution_count": 9,
   "metadata": {},
   "outputs": [
    {
     "name": "stdout",
     "output_type": "stream",
     "text": [
      "<class 'pandas.core.frame.DataFrame'>\n",
      "RangeIndex: 36259 entries, 0 to 36258\n",
      "Data columns (total 85 columns):\n",
      " #   Column                              Non-Null Count  Dtype  \n",
      "---  ------                              --------------  -----  \n",
      " 0   SEQN                                36259 non-null  int64  \n",
      " 1   depression                          36259 non-null  object \n",
      " 2   gender                              36259 non-null  object \n",
      " 3   age                                 36259 non-null  int64  \n",
      " 4   education_level                     36259 non-null  int64  \n",
      " 5   household_size                      36259 non-null  int64  \n",
      " 6   household_income                    36259 non-null  int64  \n",
      " 7   asthma                              36259 non-null  int64  \n",
      " 8   anemia                              36259 non-null  int64  \n",
      " 9   ever_overweight                     36259 non-null  int64  \n",
      " 10  blood_transfusion                   36259 non-null  int64  \n",
      " 11  heart_failure                       36259 non-null  int64  \n",
      " 12  heart_disease                       36259 non-null  int64  \n",
      " 13  angina                              36259 non-null  int64  \n",
      " 14  heart_attack                        36259 non-null  int64  \n",
      " 15  stroke                              36259 non-null  int64  \n",
      " 16  emphysema                           36259 non-null  int64  \n",
      " 17  bronchitis                          36259 non-null  int64  \n",
      " 18  liver_condition                     36259 non-null  int64  \n",
      " 19  thyroid_problem                     36259 non-null  int64  \n",
      " 20  bronchitis_currently                36259 non-null  int64  \n",
      " 21  liver_condition_currently           36259 non-null  int64  \n",
      " 22  thyroid_problem_currently           36259 non-null  int64  \n",
      " 23  cancer                              36259 non-null  int64  \n",
      " 24  first_cancer_type                   36259 non-null  object \n",
      " 25  second_cancer_type                  36259 non-null  object \n",
      " 26  third_cancer_type                   36259 non-null  object \n",
      " 27  hay_fever                           36259 non-null  int64  \n",
      " 28  arthritis_type                      36259 non-null  object \n",
      " 29  BMI                                 36259 non-null  float64\n",
      " 30  pulse                               36259 non-null  int64  \n",
      " 31  trouble_sleeping_history            36259 non-null  int64  \n",
      " 32  sleep_hours                         36259 non-null  float64\n",
      " 33  vigorous_recreation                 36259 non-null  object \n",
      " 34  moderate_recreation                 36259 non-null  object \n",
      " 35  sedentary_time                      36259 non-null  int64  \n",
      " 36  vigorous_work                       36259 non-null  int64  \n",
      " 37  moderate_work                       36259 non-null  int64  \n",
      " 38  drinks_per_occasion                 36259 non-null  int64  \n",
      " 39  lifetime_alcohol_consumption        36259 non-null  object \n",
      " 40  drinks_past_year                    36259 non-null  int64  \n",
      " 41  cant_work                           36259 non-null  int64  \n",
      " 42  limited_work                        36259 non-null  int64  \n",
      " 43  memory_problems                     36259 non-null  int64  \n",
      " 44  health_problem_Other_Impairment     36259 non-null  int64  \n",
      " 45  health_problem_Bone_or_Joint        36259 non-null  int64  \n",
      " 46  health_problem_Weight               36259 non-null  int64  \n",
      " 47  health_problem_Back_or_Neck         36259 non-null  int64  \n",
      " 48  health_problem_Arthritis            36259 non-null  int64  \n",
      " 49  health_problem_Cancer               36259 non-null  int64  \n",
      " 50  health_problem_Other_Injury         36259 non-null  int64  \n",
      " 51  health_problem_Breathing            36259 non-null  int64  \n",
      " 52  health_problem_Stroke               36259 non-null  int64  \n",
      " 53  health_problem_Blood_Pressure       36259 non-null  int64  \n",
      " 54  health_problem_Mental_Retardation   36259 non-null  int64  \n",
      " 55  health_problem_Hearing              36259 non-null  int64  \n",
      " 56  health_problem_Heart                36259 non-null  int64  \n",
      " 57  health_problem_Vision               36259 non-null  int64  \n",
      " 58  health_problem_Diabetes             36259 non-null  int64  \n",
      " 59  health_problem_Birth_Defect         36259 non-null  int64  \n",
      " 60  health_problem_Senility             36259 non-null  int64  \n",
      " 61  health_problem_Other_Developmental  36259 non-null  int64  \n",
      " 62  marijuana_use                       36259 non-null  int64  \n",
      " 63  marijuana_per_month                 36259 non-null  int64  \n",
      " 64  cocaine_use                         36259 non-null  int64  \n",
      " 65  cocaine_number_uses                 36259 non-null  int64  \n",
      " 66  cocaine_per_month                   36259 non-null  int64  \n",
      " 67  heroine_use                         36259 non-null  int64  \n",
      " 68  heronine_per_month                  36259 non-null  int64  \n",
      " 69  meth_use                            36259 non-null  int64  \n",
      " 70  meth_number_uses                    36259 non-null  int64  \n",
      " 71  meth_per_month                      36259 non-null  int64  \n",
      " 72  inject_drugs                        36259 non-null  int64  \n",
      " 73  rehab_program                       36259 non-null  int64  \n",
      " 74  start_smoking_age                   36259 non-null  int64  \n",
      " 75  current_smoker                      36259 non-null  int64  \n",
      " 76  previous_cigarettes_per_day         36259 non-null  int64  \n",
      " 77  current_cigarettes_per_day          36259 non-null  int64  \n",
      " 78  days_quit_smoking                   36259 non-null  int64  \n",
      " 79  household_smokers                   36259 non-null  int64  \n",
      " 80  prescriptions_count                 36259 non-null  int64  \n",
      " 81  hs                                  36259 non-null  float64\n",
      " 82  as                                  36259 non-null  float64\n",
      " 83  ss                                  36259 non-null  float64\n",
      " 84  ds                                  36259 non-null  float64\n",
      "dtypes: float64(6), int64(70), object(9)\n",
      "memory usage: 23.5+ MB\n"
     ]
    }
   ],
   "source": [
    "df = pd.read_csv(\"data5.csv\")\n",
    "df.info()"
   ]
  },
  {
   "cell_type": "code",
   "execution_count": 10,
   "metadata": {},
   "outputs": [
    {
     "data": {
      "text/plain": [
       "Index(['depression', 'gender', 'first_cancer_type', 'second_cancer_type',\n",
       "       'third_cancer_type', 'arthritis_type', 'vigorous_recreation',\n",
       "       'moderate_recreation', 'lifetime_alcohol_consumption'],\n",
       "      dtype='object')"
      ]
     },
     "execution_count": 10,
     "metadata": {},
     "output_type": "execute_result"
    }
   ],
   "source": [
    "## so, all this total 9 columns need to be adjusted\n",
    "\n",
    "df.select_dtypes(include ='object').columns"
   ]
  },
  {
   "cell_type": "code",
   "execution_count": 11,
   "metadata": {},
   "outputs": [
    {
     "data": {
      "text/plain": [
       "array(['Not Depressed', 'Depressed'], dtype=object)"
      ]
     },
     "execution_count": 11,
     "metadata": {},
     "output_type": "execute_result"
    }
   ],
   "source": [
    "df['depression'].unique()"
   ]
  },
  {
   "cell_type": "code",
   "execution_count": 12,
   "metadata": {},
   "outputs": [
    {
     "data": {
      "text/plain": [
       "array(['Female', 'Male'], dtype=object)"
      ]
     },
     "execution_count": 12,
     "metadata": {},
     "output_type": "execute_result"
    }
   ],
   "source": [
    "df['gender'].unique()"
   ]
  },
  {
   "cell_type": "code",
   "execution_count": 13,
   "metadata": {},
   "outputs": [],
   "source": [
    "df['gender'].replace('Male', 0,inplace=True)\n",
    "df['gender'].replace('Female', 1,inplace=True)\n",
    "\n",
    "df['depression'].replace('Depressed', 1,inplace=True)\n",
    "df['depression'].replace('Not Depressed', 0,inplace=True)"
   ]
  },
  {
   "cell_type": "code",
   "execution_count": 14,
   "metadata": {},
   "outputs": [
    {
     "data": {
      "text/plain": [
       "Index(['first_cancer_type', 'second_cancer_type', 'third_cancer_type',\n",
       "       'arthritis_type', 'vigorous_recreation', 'moderate_recreation',\n",
       "       'lifetime_alcohol_consumption'],\n",
       "      dtype='object')"
      ]
     },
     "execution_count": 14,
     "metadata": {},
     "output_type": "execute_result"
    }
   ],
   "source": [
    "df.select_dtypes(include ='object').columns"
   ]
  },
  {
   "cell_type": "code",
   "execution_count": 15,
   "metadata": {},
   "outputs": [
    {
     "data": {
      "text/plain": [
       "array(['None', 'Colon', 'Other', 'Breast', 'Liver', 'Bladder', 'Lung',\n",
       "       'Melanoma', 'Skin Other', 'Mouth', 'Skin Non Melanoma', 'Prostate',\n",
       "       'Cervical', 'Thyroid', 'Lymphoma', 'Uterine', 'Brain', 'Stomach',\n",
       "       'Rectal', 'Testicular', 'Kidney', 'Esophageal', 'Larynx',\n",
       "       'Ovarian', 'Blood', 'Bone', 'Leukemia', 'Gallbladder',\n",
       "       'Pancreatic', 'Soft Tissue', 'Nervous System'], dtype=object)"
      ]
     },
     "execution_count": 15,
     "metadata": {},
     "output_type": "execute_result"
    }
   ],
   "source": [
    "df['first_cancer_type'].unique()\n"
   ]
  },
  {
   "cell_type": "code",
   "execution_count": 16,
   "metadata": {},
   "outputs": [],
   "source": [
    "# Preparing Make Column to some Denoting values\n",
    "df['first_cancer_type'].replace('None', 0,inplace=True)\n",
    "df['first_cancer_type'].replace('Colon', 1,inplace=True)\n",
    "df['first_cancer_type'].replace('Other', 2,inplace=True)\n",
    "df['first_cancer_type'].replace('Breast', 3,inplace=True)\n",
    "df['first_cancer_type'].replace('Liver', 4,inplace=True)\n",
    "df['first_cancer_type'].replace('Bladder', 5,inplace=True)\n",
    "df['first_cancer_type'].replace('Lung', 6,inplace=True)\n",
    "df['first_cancer_type'].replace('Melanoma', 7,inplace=True)\n",
    "df['first_cancer_type'].replace('Skin Other', 8,inplace=True)\n",
    "df['first_cancer_type'].replace('Mouth', 9,inplace=True)\n",
    "df['first_cancer_type'].replace('Skin Non Melanoma', 10,inplace=True)\n",
    "df['first_cancer_type'].replace('Prostate', 11,inplace=True)\n",
    "df['first_cancer_type'].replace('Cervical', 12,inplace=True)\n",
    "df['first_cancer_type'].replace('Thyroid', 13,inplace=True)\n",
    "df['first_cancer_type'].replace('Lymphoma', 14,inplace=True)\n",
    "df['first_cancer_type'].replace('Uterine', 15,inplace=True)\n",
    "df['first_cancer_type'].replace('Brain', 16,inplace=True)\n",
    "df['first_cancer_type'].replace('Stomach', 17,inplace=True)\n",
    "df['first_cancer_type'].replace('Rectal', 18,inplace=True)\n",
    "df['first_cancer_type'].replace('Testicular', 19,inplace=True)\n",
    "df['first_cancer_type'].replace('Kidney', 20,inplace=True)\n",
    "df['first_cancer_type'].replace('Esophageal', 21,inplace=True)\n",
    "df['first_cancer_type'].replace('Larynx', 22,inplace=True)\n",
    "df['first_cancer_type'].replace('Ovarian', 23,inplace=True)\n",
    "df['first_cancer_type'].replace('Blood', 24,inplace=True)\n",
    "df['first_cancer_type'].replace('Bone', 25,inplace=True)\n",
    "df['first_cancer_type'].replace('Leukemia', 26,inplace=True)\n",
    "df['first_cancer_type'].replace('Gallbladder', 27,inplace=True)\n",
    "df['first_cancer_type'].replace('Pancreatic', 28,inplace=True)\n",
    "df['first_cancer_type'].replace('Soft Tissue', 29,inplace=True)\n",
    "df['first_cancer_type'].replace('Nervous System', 30,inplace=True)"
   ]
  },
  {
   "cell_type": "code",
   "execution_count": 17,
   "metadata": {},
   "outputs": [
    {
     "data": {
      "text/plain": [
       "array(['None', 'Bone', 'Ovarian', 'Kidney', 'Melanoma', 'Prostate',\n",
       "       'Liver', 'Uterine', 'Other', 'Bladder', 'Skin Non Melanoma',\n",
       "       'Cervical', 'Breast', 'Skin Other', 'Esophageal', 'Rectal',\n",
       "       'Leukemia', 'Colon', 'Blood', 'Lymphoma', 'Stomach', 'Thyroid',\n",
       "       'Mouth', 'Lung', 'Larynx', 'Brain', 'Pancreatic'], dtype=object)"
      ]
     },
     "execution_count": 17,
     "metadata": {},
     "output_type": "execute_result"
    }
   ],
   "source": [
    "df['second_cancer_type'].unique()"
   ]
  },
  {
   "cell_type": "code",
   "execution_count": 18,
   "metadata": {},
   "outputs": [],
   "source": [
    "# Preparing Make Column to some Denoting values\n",
    "df['second_cancer_type'].replace('None', 0,inplace=True)\n",
    "df['second_cancer_type'].replace('Colon', 1,inplace=True)\n",
    "df['second_cancer_type'].replace('Other', 2,inplace=True)\n",
    "df['second_cancer_type'].replace('Breast', 3,inplace=True)\n",
    "df['second_cancer_type'].replace('Liver', 4,inplace=True)\n",
    "df['second_cancer_type'].replace('Bladder', 5,inplace=True)\n",
    "df['second_cancer_type'].replace('Lung', 6,inplace=True)\n",
    "df['second_cancer_type'].replace('Melanoma', 7,inplace=True)\n",
    "df['second_cancer_type'].replace('Skin Other', 8,inplace=True)\n",
    "df['second_cancer_type'].replace('Mouth', 9,inplace=True)\n",
    "df['second_cancer_type'].replace('Skin Non Melanoma', 10,inplace=True)\n",
    "df['second_cancer_type'].replace('Prostate', 11,inplace=True)\n",
    "df['second_cancer_type'].replace('Cervical', 12,inplace=True)\n",
    "df['second_cancer_type'].replace('Thyroid', 13,inplace=True)\n",
    "df['second_cancer_type'].replace('Lymphoma', 14,inplace=True)\n",
    "df['second_cancer_type'].replace('Uterine', 15,inplace=True)\n",
    "df['second_cancer_type'].replace('Brain', 16,inplace=True)\n",
    "df['second_cancer_type'].replace('Stomach', 17,inplace=True)\n",
    "df['second_cancer_type'].replace('Rectal', 18,inplace=True)\n",
    "df['second_cancer_type'].replace('Testicular', 19,inplace=True)\n",
    "df['second_cancer_type'].replace('Kidney', 20,inplace=True)\n",
    "df['second_cancer_type'].replace('Esophageal', 21,inplace=True)\n",
    "df['second_cancer_type'].replace('Larynx', 22,inplace=True)\n",
    "df['second_cancer_type'].replace('Ovarian', 23,inplace=True)\n",
    "df['second_cancer_type'].replace('Blood', 24,inplace=True)\n",
    "df['second_cancer_type'].replace('Bone', 25,inplace=True)\n",
    "df['second_cancer_type'].replace('Leukemia', 26,inplace=True)\n",
    "df['second_cancer_type'].replace('Gallbladder', 27,inplace=True)\n",
    "df['second_cancer_type'].replace('Pancreatic', 28,inplace=True)\n",
    "df['second_cancer_type'].replace('Soft Tissue', 29,inplace=True)\n",
    "df['second_cancer_type'].replace('Nervous System', 30,inplace=True)"
   ]
  },
  {
   "cell_type": "code",
   "execution_count": 19,
   "metadata": {},
   "outputs": [],
   "source": [
    "# Preparing Make Column to some Denoting values\n",
    "df['third_cancer_type'].replace('None', 0,inplace=True)\n",
    "df['third_cancer_type'].replace('Colon', 1,inplace=True)\n",
    "df['third_cancer_type'].replace('Other', 2,inplace=True)\n",
    "df['third_cancer_type'].replace('Breast', 3,inplace=True)\n",
    "df['third_cancer_type'].replace('Liver', 4,inplace=True)\n",
    "df['third_cancer_type'].replace('Bladder', 5,inplace=True)\n",
    "df['third_cancer_type'].replace('Lung', 6,inplace=True)\n",
    "df['third_cancer_type'].replace('Melanoma', 7,inplace=True)\n",
    "df['third_cancer_type'].replace('Skin Other', 8,inplace=True)\n",
    "df['third_cancer_type'].replace('Mouth', 9,inplace=True)\n",
    "df['third_cancer_type'].replace('Skin Non Melanoma', 10,inplace=True)\n",
    "df['third_cancer_type'].replace('Prostate', 11,inplace=True)\n",
    "df['third_cancer_type'].replace('Cervical', 12,inplace=True)\n",
    "df['third_cancer_type'].replace('Thyroid', 13,inplace=True)\n",
    "df['third_cancer_type'].replace('Lymphoma', 14,inplace=True)\n",
    "df['third_cancer_type'].replace('Uterine', 15,inplace=True)\n",
    "df['third_cancer_type'].replace('Brain', 16,inplace=True)\n",
    "df['third_cancer_type'].replace('Stomach', 17,inplace=True)\n",
    "df['third_cancer_type'].replace('Rectal', 18,inplace=True)\n",
    "df['third_cancer_type'].replace('Testicular', 19,inplace=True)\n",
    "df['third_cancer_type'].replace('Kidney', 20,inplace=True)\n",
    "df['third_cancer_type'].replace('Esophageal', 21,inplace=True)\n",
    "df['third_cancer_type'].replace('Larynx', 22,inplace=True)\n",
    "df['third_cancer_type'].replace('Ovarian', 23,inplace=True)\n",
    "df['third_cancer_type'].replace('Blood', 24,inplace=True)\n",
    "df['third_cancer_type'].replace('Bone', 25,inplace=True)\n",
    "df['third_cancer_type'].replace('Leukemia', 26,inplace=True)\n",
    "df['third_cancer_type'].replace('Gallbladder', 27,inplace=True)\n",
    "df['third_cancer_type'].replace('Pancreatic', 28,inplace=True)\n",
    "df['third_cancer_type'].replace('Soft Tissue', 29,inplace=True)\n",
    "df['third_cancer_type'].replace('Nervous System', 30,inplace=True)\n"
   ]
  },
  {
   "cell_type": "code",
   "execution_count": 20,
   "metadata": {},
   "outputs": [
    {
     "data": {
      "text/plain": [
       "array(['Missing', 'Osteoarthritis', 'Other', 'Rheumatoid', 'Psoriatic'],\n",
       "      dtype=object)"
      ]
     },
     "execution_count": 20,
     "metadata": {},
     "output_type": "execute_result"
    }
   ],
   "source": [
    "df['arthritis_type'].unique()\n"
   ]
  },
  {
   "cell_type": "code",
   "execution_count": 21,
   "metadata": {},
   "outputs": [],
   "source": [
    "df['arthritis_type'].replace('Missing', 0,inplace=True)\n",
    "df['arthritis_type'].replace('Osteoarthritis', 1,inplace=True)\n",
    "df['arthritis_type'].replace('Other', 2,inplace=True)\n",
    "df['arthritis_type'].replace('Rheumatoid', 3,inplace=True)\n",
    "df['arthritis_type'].replace('Psoriatic', 4,inplace=True)"
   ]
  },
  {
   "cell_type": "code",
   "execution_count": 22,
   "metadata": {},
   "outputs": [
    {
     "data": {
      "text/plain": [
       "array(['No', 'Yes', 'Missing'], dtype=object)"
      ]
     },
     "execution_count": 22,
     "metadata": {},
     "output_type": "execute_result"
    }
   ],
   "source": [
    "df['vigorous_recreation'].unique()"
   ]
  },
  {
   "cell_type": "code",
   "execution_count": 23,
   "metadata": {},
   "outputs": [],
   "source": [
    "df['vigorous_recreation'].replace('Yes', 1,inplace=True)\n",
    "df['vigorous_recreation'].replace('No', -1,inplace=True)\n",
    "df['vigorous_recreation'].replace('Missing', 0,inplace=True)"
   ]
  },
  {
   "cell_type": "code",
   "execution_count": 24,
   "metadata": {},
   "outputs": [
    {
     "data": {
      "text/plain": [
       "array(['No', 'Yes', 'Missing'], dtype=object)"
      ]
     },
     "execution_count": 24,
     "metadata": {},
     "output_type": "execute_result"
    }
   ],
   "source": [
    "df['moderate_recreation'].unique()"
   ]
  },
  {
   "cell_type": "code",
   "execution_count": 25,
   "metadata": {},
   "outputs": [],
   "source": [
    "df['moderate_recreation'].replace('Yes', 1,inplace=True)\n",
    "df['moderate_recreation'].replace('No', -1,inplace=True)\n",
    "df['moderate_recreation'].replace('Missing', 0,inplace=True)"
   ]
  },
  {
   "cell_type": "code",
   "execution_count": 26,
   "metadata": {},
   "outputs": [
    {
     "data": {
      "text/plain": [
       "array(['Yes', 'Missing', 'No'], dtype=object)"
      ]
     },
     "execution_count": 26,
     "metadata": {},
     "output_type": "execute_result"
    }
   ],
   "source": [
    "df['lifetime_alcohol_consumption'].unique()"
   ]
  },
  {
   "cell_type": "code",
   "execution_count": 27,
   "metadata": {},
   "outputs": [],
   "source": [
    "df['lifetime_alcohol_consumption'].replace('Yes', 1,inplace=True)\n",
    "df['lifetime_alcohol_consumption'].replace('No', -1,inplace=True)\n",
    "df['lifetime_alcohol_consumption'].replace('Missing', 0,inplace=True)"
   ]
  },
  {
   "cell_type": "code",
   "execution_count": 28,
   "metadata": {},
   "outputs": [],
   "source": [
    "df.isnull().sum()\n",
    "df = df.dropna()"
   ]
  },
  {
   "cell_type": "markdown",
   "metadata": {},
   "source": [
    "#### removing all NA values from dataset, which might affect our model in upcoming stages"
   ]
  },
  {
   "cell_type": "code",
   "execution_count": 29,
   "metadata": {},
   "outputs": [
    {
     "data": {
      "text/plain": [
       "<matplotlib.collections.PathCollection at 0x1ce6e2e5760>"
      ]
     },
     "execution_count": 29,
     "metadata": {},
     "output_type": "execute_result"
    },
    {
     "data": {
      "image/png": "[encoded data removed]",
      "text/plain": [
       "<Figure size 432x288 with 1 Axes>"
      ]
     },
     "metadata": {
      "needs_background": "light"
     },
     "output_type": "display_data"
    }
   ],
   "source": [
    "plt.scatter(x=df['BMI'],y=df['depression'], color='green')"
   ]
  },
  {
   "cell_type": "markdown",
   "metadata": {},
   "source": [
    "#### No Signnificant relation between BMI and Depression"
   ]
  },
  {
   "cell_type": "code",
   "execution_count": 35,
   "metadata": {},
   "outputs": [
    {
     "name": "stdout",
     "output_type": "stream",
     "text": [
      "0    33091\n",
      "1     3168\n",
      "Name: depression, dtype: int64\n"
     ]
    },
    {
     "name": "stderr",
     "output_type": "stream",
     "text": [
      "C:\\Users\\krish\\pythonproj\\env\\lib\\site-packages\\seaborn\\_decorators.py:36: FutureWarning: Pass the following variable as a keyword arg: x. From version 0.12, the only valid positional argument will be `data`, and passing other arguments without an explicit keyword will result in an error or misinterpretation.\n",
      "  warnings.warn(\n"
     ]
    },
    {
     "data": {
      "image/png": "[encoded data removed]",
      "text/plain": [
       "<Figure size 432x288 with 1 Axes>"
      ]
     },
     "metadata": {
      "needs_background": "light"
     },
     "output_type": "display_data"
    }
   ],
   "source": [
    "y = df[\"trouble_sleeping_history\"]\n",
    "\n",
    "sns.countplot(y)\n",
    "\n",
    "\n",
    "target_temp = df.depression.value_counts()\n",
    "\n",
    "print(target_temp)"
   ]
  },
  {
   "cell_type": "code",
   "execution_count": 39,
   "metadata": {},
   "outputs": [],
   "source": [
    "y = df['depression']\n",
    "X = df.drop(['depression'], axis = 1)\n",
    "X = X.drop(['hs'], axis = 1)\n",
    "X = X.drop(['as'], axis = 1)\n",
    "X = X.drop(['ss'], axis = 1)\n",
    "X = X.drop(['ds'], axis = 1)\n",
    "\n",
    "\n",
    "from sklearn.model_selection import train_test_split\n",
    "X_train, X_test, y_train, y_test = train_test_split(X, y, test_size = 0.3, random_state = 0)"
   ]
  },
  {
   "cell_type": "code",
   "execution_count": 40,
   "metadata": {},
   "outputs": [],
   "source": [
    "from sklearn.ensemble import RandomForestClassifier\n",
    "from sklearn.metrics import accuracy_score\n",
    "\n",
    "max_accuracy = 0\n",
    "#selecting random state providing the highest accuracy\n",
    "for x in range(10):\n",
    "    rfc = RandomForestClassifier(random_state = x)\n",
    "    rfc.fit(X_train,y_train)\n",
    "    rfc_pred = rfc.predict(X_test)\n",
    "    current_accuracy = round(accuracy_score(y_test, rfc_pred)*100,2)\n",
    "    if(current_accuracy > max_accuracy):\n",
    "        max_accuracy = current_accuracy\n",
    "        rfc_best_x = x"
   ]
  },
  {
   "cell_type": "code",
   "execution_count": 42,
   "metadata": {},
   "outputs": [],
   "source": [
    "rfc = RandomForestClassifier(random_state = rfc_best_x)\n",
    "rfc.fit(X_train,y_train)\n",
    "rfc_pred = rfc.predict(X_test)\n",
    "rfc_score = accuracy_score(y_test, rfc_pred)"
   ]
  },
  {
   "cell_type": "code",
   "execution_count": 43,
   "metadata": {},
   "outputs": [
    {
     "data": {
      "text/plain": [
       "0.9214009928295642"
      ]
     },
     "execution_count": 43,
     "metadata": {},
     "output_type": "execute_result"
    }
   ],
   "source": [
    "rfc_score"
   ]
  },
  {
   "cell_type": "code",
   "execution_count": null,
   "metadata": {},
   "outputs": [],
   "source": []
  },
  {
   "cell_type": "markdown",
   "metadata": {},
   "source": [
    "## Statistical Analysis"
   ]
  },
  {
   "cell_type": "code",
   "execution_count": 36,
   "metadata": {},
   "outputs": [
    {
     "name": "stdout",
     "output_type": "stream",
     "text": [
      "SEQN                   0.012124\n",
      "depression             1.000000\n",
      "gender                 0.076830\n",
      "age                    0.000146\n",
      "education_level       -0.075036\n",
      "                         ...   \n",
      "prescriptions_count    0.177352\n",
      "hs                    -0.251533\n",
      "as                     0.132917\n",
      "ss                    -0.062309\n",
      "ds                     0.887550\n",
      "Name: depression, Length: 85, dtype: float64\n"
     ]
    }
   ],
   "source": [
    "correlations = df.corr()\n",
    "print(correlations[\"depression\"])"
   ]
  },
  {
   "cell_type": "code",
   "execution_count": 37,
   "metadata": {},
   "outputs": [
    {
     "data": {
      "text/plain": [
       "SEQN                   0.012124\n",
       "depression             1.000000\n",
       "gender                 0.076830\n",
       "age                    0.000146\n",
       "education_level       -0.075036\n",
       "                         ...   \n",
       "prescriptions_count    0.177352\n",
       "hs                    -0.251533\n",
       "as                     0.132917\n",
       "ss                    -0.062309\n",
       "ds                     0.887550\n",
       "Name: depression, Length: 85, dtype: float64"
      ]
     },
     "execution_count": 37,
     "metadata": {},
     "output_type": "execute_result"
    }
   ],
   "source": [
    "correlations[\"depression\"]"
   ]
  },
  {
   "cell_type": "code",
   "execution_count": 38,
   "metadata": {},
   "outputs": [
    {
     "data": {
      "text/plain": [
       "-0.25153309714747646"
      ]
     },
     "execution_count": 38,
     "metadata": {},
     "output_type": "execute_result"
    }
   ],
   "source": [
    "correlations[\"depression\"].min()"
   ]
  },
  {
   "cell_type": "code",
   "execution_count": 39,
   "metadata": {},
   "outputs": [
    {
     "data": {
      "text/html": [
       "<div>\n",
       "<style scoped>\n",
       "    .dataframe tbody tr th:only-of-type {\n",
       "        vertical-align: middle;\n",
       "    }\n",
       "\n",
       "    .dataframe tbody tr th {\n",
       "        vertical-align: top;\n",
       "    }\n",
       "\n",
       "    .dataframe thead th {\n",
       "        text-align: right;\n",
       "    }\n",
       "</style>\n",
       "<table border=\"1\" class=\"dataframe\">\n",
       "  <thead>\n",
       "    <tr style=\"text-align: right;\">\n",
       "      <th></th>\n",
       "      <th>SEQN</th>\n",
       "      <th>depression</th>\n",
       "      <th>gender</th>\n",
       "      <th>age</th>\n",
       "      <th>education_level</th>\n",
       "      <th>household_size</th>\n",
       "      <th>household_income</th>\n",
       "      <th>asthma</th>\n",
       "      <th>anemia</th>\n",
       "      <th>ever_overweight</th>\n",
       "      <th>...</th>\n",
       "      <th>current_smoker</th>\n",
       "      <th>previous_cigarettes_per_day</th>\n",
       "      <th>current_cigarettes_per_day</th>\n",
       "      <th>days_quit_smoking</th>\n",
       "      <th>household_smokers</th>\n",
       "      <th>prescriptions_count</th>\n",
       "      <th>hs</th>\n",
       "      <th>as</th>\n",
       "      <th>ss</th>\n",
       "      <th>ds</th>\n",
       "    </tr>\n",
       "  </thead>\n",
       "  <tbody>\n",
       "    <tr>\n",
       "      <th>0</th>\n",
       "      <td>31131</td>\n",
       "      <td>0</td>\n",
       "      <td>1</td>\n",
       "      <td>44</td>\n",
       "      <td>4</td>\n",
       "      <td>4</td>\n",
       "      <td>11</td>\n",
       "      <td>0</td>\n",
       "      <td>0</td>\n",
       "      <td>0</td>\n",
       "      <td>...</td>\n",
       "      <td>0</td>\n",
       "      <td>0</td>\n",
       "      <td>0</td>\n",
       "      <td>0</td>\n",
       "      <td>4</td>\n",
       "      <td>2</td>\n",
       "      <td>83.33</td>\n",
       "      <td>19.27</td>\n",
       "      <td>87.80</td>\n",
       "      <td>11.570175</td>\n",
       "    </tr>\n",
       "    <tr>\n",
       "      <th>1</th>\n",
       "      <td>31132</td>\n",
       "      <td>0</td>\n",
       "      <td>0</td>\n",
       "      <td>70</td>\n",
       "      <td>5</td>\n",
       "      <td>2</td>\n",
       "      <td>11</td>\n",
       "      <td>0</td>\n",
       "      <td>0</td>\n",
       "      <td>0</td>\n",
       "      <td>...</td>\n",
       "      <td>0</td>\n",
       "      <td>0</td>\n",
       "      <td>0</td>\n",
       "      <td>0</td>\n",
       "      <td>4</td>\n",
       "      <td>4</td>\n",
       "      <td>87.50</td>\n",
       "      <td>19.51</td>\n",
       "      <td>92.68</td>\n",
       "      <td>9.146421</td>\n",
       "    </tr>\n",
       "    <tr>\n",
       "      <th>2</th>\n",
       "      <td>31134</td>\n",
       "      <td>0</td>\n",
       "      <td>0</td>\n",
       "      <td>73</td>\n",
       "      <td>3</td>\n",
       "      <td>2</td>\n",
       "      <td>5</td>\n",
       "      <td>0</td>\n",
       "      <td>0</td>\n",
       "      <td>1</td>\n",
       "      <td>...</td>\n",
       "      <td>0</td>\n",
       "      <td>0</td>\n",
       "      <td>0</td>\n",
       "      <td>0</td>\n",
       "      <td>4</td>\n",
       "      <td>5</td>\n",
       "      <td>83.33</td>\n",
       "      <td>19.75</td>\n",
       "      <td>94.15</td>\n",
       "      <td>10.961075</td>\n",
       "    </tr>\n",
       "    <tr>\n",
       "      <th>3</th>\n",
       "      <td>31139</td>\n",
       "      <td>0</td>\n",
       "      <td>1</td>\n",
       "      <td>18</td>\n",
       "      <td>0</td>\n",
       "      <td>3</td>\n",
       "      <td>11</td>\n",
       "      <td>1</td>\n",
       "      <td>0</td>\n",
       "      <td>1</td>\n",
       "      <td>...</td>\n",
       "      <td>0</td>\n",
       "      <td>0</td>\n",
       "      <td>0</td>\n",
       "      <td>0</td>\n",
       "      <td>1</td>\n",
       "      <td>0</td>\n",
       "      <td>91.67</td>\n",
       "      <td>19.27</td>\n",
       "      <td>93.41</td>\n",
       "      <td>7.080699</td>\n",
       "    </tr>\n",
       "    <tr>\n",
       "      <th>4</th>\n",
       "      <td>31143</td>\n",
       "      <td>0</td>\n",
       "      <td>0</td>\n",
       "      <td>19</td>\n",
       "      <td>0</td>\n",
       "      <td>3</td>\n",
       "      <td>11</td>\n",
       "      <td>0</td>\n",
       "      <td>0</td>\n",
       "      <td>0</td>\n",
       "      <td>...</td>\n",
       "      <td>0</td>\n",
       "      <td>0</td>\n",
       "      <td>2</td>\n",
       "      <td>0</td>\n",
       "      <td>4</td>\n",
       "      <td>1</td>\n",
       "      <td>97.92</td>\n",
       "      <td>20.86</td>\n",
       "      <td>87.56</td>\n",
       "      <td>5.251669</td>\n",
       "    </tr>\n",
       "  </tbody>\n",
       "</table>\n",
       "<p>5 rows × 85 columns</p>\n",
       "</div>"
      ],
      "text/plain": [
       "    SEQN  depression  gender  age  education_level  household_size  \\\n",
       "0  31131           0       1   44                4               4   \n",
       "1  31132           0       0   70                5               2   \n",
       "2  31134           0       0   73                3               2   \n",
       "3  31139           0       1   18                0               3   \n",
       "4  31143           0       0   19                0               3   \n",
       "\n",
       "   household_income  asthma  anemia  ever_overweight  ...  current_smoker  \\\n",
       "0                11       0       0                0  ...               0   \n",
       "1                11       0       0                0  ...               0   \n",
       "2                 5       0       0                1  ...               0   \n",
       "3                11       1       0                1  ...               0   \n",
       "4                11       0       0                0  ...               0   \n",
       "\n",
       "   previous_cigarettes_per_day  current_cigarettes_per_day  days_quit_smoking  \\\n",
       "0                            0                           0                  0   \n",
       "1                            0                           0                  0   \n",
       "2                            0                           0                  0   \n",
       "3                            0                           0                  0   \n",
       "4                            0                           2                  0   \n",
       "\n",
       "   household_smokers  prescriptions_count     hs     as     ss         ds  \n",
       "0                  4                    2  83.33  19.27  87.80  11.570175  \n",
       "1                  4                    4  87.50  19.51  92.68   9.146421  \n",
       "2                  4                    5  83.33  19.75  94.15  10.961075  \n",
       "3                  1                    0  91.67  19.27  93.41   7.080699  \n",
       "4                  4                    1  97.92  20.86  87.56   5.251669  \n",
       "\n",
       "[5 rows x 85 columns]"
      ]
     },
     "execution_count": 39,
     "metadata": {},
     "output_type": "execute_result"
    }
   ],
   "source": [
    "df.head()"
   ]
  },
  {
   "cell_type": "markdown",
   "metadata": {},
   "source": [
    "## Correlations"
   ]
  },
  {
   "cell_type": "markdown",
   "metadata": {},
   "source": [
    "The Correlation of hs, as, ss with depression \n",
    "So, **depression percentage** is in relation with the 3 figures i.e **Health Score, Addiction Score and Sleep & Work Score** so, the **Multipliers** for calculating depression percentage, This is how relating with Depression, We are predicting Depression Percentage"
   ]
  },
  {
   "attachments": {
    "image.png": {
     "image/png": "[encoded data removed]"
    }
   },
   "cell_type": "markdown",
   "metadata": {},
   "source": [
    "![image.png](attachment:image.png)"
   ]
  },
  {
   "cell_type": "code",
   "execution_count": 40,
   "metadata": {},
   "outputs": [],
   "source": [
    "hs_correlation = -0.251533\n",
    "\n",
    "as_correlation = 0.132917\n",
    "ss_correlation = -0.062309"
   ]
  },
  {
   "cell_type": "code",
   "execution_count": 41,
   "metadata": {},
   "outputs": [
    {
     "data": {
      "text/html": [
       "<div>\n",
       "<style scoped>\n",
       "    .dataframe tbody tr th:only-of-type {\n",
       "        vertical-align: middle;\n",
       "    }\n",
       "\n",
       "    .dataframe tbody tr th {\n",
       "        vertical-align: top;\n",
       "    }\n",
       "\n",
       "    .dataframe thead th {\n",
       "        text-align: right;\n",
       "    }\n",
       "</style>\n",
       "<table border=\"1\" class=\"dataframe\">\n",
       "  <thead>\n",
       "    <tr style=\"text-align: right;\">\n",
       "      <th></th>\n",
       "      <th>SEQN</th>\n",
       "      <th>depression</th>\n",
       "      <th>gender</th>\n",
       "      <th>age</th>\n",
       "      <th>education_level</th>\n",
       "      <th>household_size</th>\n",
       "      <th>household_income</th>\n",
       "      <th>asthma</th>\n",
       "      <th>anemia</th>\n",
       "      <th>ever_overweight</th>\n",
       "      <th>...</th>\n",
       "      <th>previous_cigarettes_per_day</th>\n",
       "      <th>current_cigarettes_per_day</th>\n",
       "      <th>days_quit_smoking</th>\n",
       "      <th>household_smokers</th>\n",
       "      <th>prescriptions_count</th>\n",
       "      <th>hs</th>\n",
       "      <th>as</th>\n",
       "      <th>ss</th>\n",
       "      <th>ds</th>\n",
       "      <th>dep_field</th>\n",
       "    </tr>\n",
       "  </thead>\n",
       "  <tbody>\n",
       "    <tr>\n",
       "      <th>0</th>\n",
       "      <td>31131</td>\n",
       "      <td>0</td>\n",
       "      <td>1</td>\n",
       "      <td>44</td>\n",
       "      <td>4</td>\n",
       "      <td>4</td>\n",
       "      <td>11</td>\n",
       "      <td>0</td>\n",
       "      <td>0</td>\n",
       "      <td>0</td>\n",
       "      <td>...</td>\n",
       "      <td>0</td>\n",
       "      <td>0</td>\n",
       "      <td>0</td>\n",
       "      <td>4</td>\n",
       "      <td>2</td>\n",
       "      <td>83.33</td>\n",
       "      <td>19.27</td>\n",
       "      <td>87.80</td>\n",
       "      <td>11.570175</td>\n",
       "      <td>0</td>\n",
       "    </tr>\n",
       "    <tr>\n",
       "      <th>1</th>\n",
       "      <td>31132</td>\n",
       "      <td>0</td>\n",
       "      <td>0</td>\n",
       "      <td>70</td>\n",
       "      <td>5</td>\n",
       "      <td>2</td>\n",
       "      <td>11</td>\n",
       "      <td>0</td>\n",
       "      <td>0</td>\n",
       "      <td>0</td>\n",
       "      <td>...</td>\n",
       "      <td>0</td>\n",
       "      <td>0</td>\n",
       "      <td>0</td>\n",
       "      <td>4</td>\n",
       "      <td>4</td>\n",
       "      <td>87.50</td>\n",
       "      <td>19.51</td>\n",
       "      <td>92.68</td>\n",
       "      <td>9.146421</td>\n",
       "      <td>0</td>\n",
       "    </tr>\n",
       "    <tr>\n",
       "      <th>2</th>\n",
       "      <td>31134</td>\n",
       "      <td>0</td>\n",
       "      <td>0</td>\n",
       "      <td>73</td>\n",
       "      <td>3</td>\n",
       "      <td>2</td>\n",
       "      <td>5</td>\n",
       "      <td>0</td>\n",
       "      <td>0</td>\n",
       "      <td>1</td>\n",
       "      <td>...</td>\n",
       "      <td>0</td>\n",
       "      <td>0</td>\n",
       "      <td>0</td>\n",
       "      <td>4</td>\n",
       "      <td>5</td>\n",
       "      <td>83.33</td>\n",
       "      <td>19.75</td>\n",
       "      <td>94.15</td>\n",
       "      <td>10.961075</td>\n",
       "      <td>0</td>\n",
       "    </tr>\n",
       "    <tr>\n",
       "      <th>3</th>\n",
       "      <td>31139</td>\n",
       "      <td>0</td>\n",
       "      <td>1</td>\n",
       "      <td>18</td>\n",
       "      <td>0</td>\n",
       "      <td>3</td>\n",
       "      <td>11</td>\n",
       "      <td>1</td>\n",
       "      <td>0</td>\n",
       "      <td>1</td>\n",
       "      <td>...</td>\n",
       "      <td>0</td>\n",
       "      <td>0</td>\n",
       "      <td>0</td>\n",
       "      <td>1</td>\n",
       "      <td>0</td>\n",
       "      <td>91.67</td>\n",
       "      <td>19.27</td>\n",
       "      <td>93.41</td>\n",
       "      <td>7.080699</td>\n",
       "      <td>0</td>\n",
       "    </tr>\n",
       "    <tr>\n",
       "      <th>4</th>\n",
       "      <td>31143</td>\n",
       "      <td>0</td>\n",
       "      <td>0</td>\n",
       "      <td>19</td>\n",
       "      <td>0</td>\n",
       "      <td>3</td>\n",
       "      <td>11</td>\n",
       "      <td>0</td>\n",
       "      <td>0</td>\n",
       "      <td>0</td>\n",
       "      <td>...</td>\n",
       "      <td>0</td>\n",
       "      <td>2</td>\n",
       "      <td>0</td>\n",
       "      <td>4</td>\n",
       "      <td>1</td>\n",
       "      <td>97.92</td>\n",
       "      <td>20.86</td>\n",
       "      <td>87.56</td>\n",
       "      <td>5.251669</td>\n",
       "      <td>0</td>\n",
       "    </tr>\n",
       "  </tbody>\n",
       "</table>\n",
       "<p>5 rows × 86 columns</p>\n",
       "</div>"
      ],
      "text/plain": [
       "    SEQN  depression  gender  age  education_level  household_size  \\\n",
       "0  31131           0       1   44                4               4   \n",
       "1  31132           0       0   70                5               2   \n",
       "2  31134           0       0   73                3               2   \n",
       "3  31139           0       1   18                0               3   \n",
       "4  31143           0       0   19                0               3   \n",
       "\n",
       "   household_income  asthma  anemia  ever_overweight  ...  \\\n",
       "0                11       0       0                0  ...   \n",
       "1                11       0       0                0  ...   \n",
       "2                 5       0       0                1  ...   \n",
       "3                11       1       0                1  ...   \n",
       "4                11       0       0                0  ...   \n",
       "\n",
       "   previous_cigarettes_per_day  current_cigarettes_per_day  days_quit_smoking  \\\n",
       "0                            0                           0                  0   \n",
       "1                            0                           0                  0   \n",
       "2                            0                           0                  0   \n",
       "3                            0                           0                  0   \n",
       "4                            0                           2                  0   \n",
       "\n",
       "   household_smokers  prescriptions_count     hs     as     ss         ds  \\\n",
       "0                  4                    2  83.33  19.27  87.80  11.570175   \n",
       "1                  4                    4  87.50  19.51  92.68   9.146421   \n",
       "2                  4                    5  83.33  19.75  94.15  10.961075   \n",
       "3                  1                    0  91.67  19.27  93.41   7.080699   \n",
       "4                  4                    1  97.92  20.86  87.56   5.251669   \n",
       "\n",
       "   dep_field  \n",
       "0          0  \n",
       "1          0  \n",
       "2          0  \n",
       "3          0  \n",
       "4          0  \n",
       "\n",
       "[5 rows x 86 columns]"
      ]
     },
     "execution_count": 41,
     "metadata": {},
     "output_type": "execute_result"
    }
   ],
   "source": [
    "df['dep_field'] = 0\n",
    "\n",
    "df.head()"
   ]
  },
  {
   "cell_type": "code",
   "execution_count": 42,
   "metadata": {},
   "outputs": [
    {
     "name": "stderr",
     "output_type": "stream",
     "text": [
      "<ipython-input-42-08ccdd9a609a>:2: SettingWithCopyWarning: \n",
      "A value is trying to be set on a copy of a slice from a DataFrame\n",
      "\n",
      "See the caveats in the documentation: https://pandas.pydata.org/pandas-docs/stable/user_guide/indexing.html#returning-a-view-versus-a-copy\n",
      "  df[\"dep_field\"][ind] = ( (df[\"hs\"][ind]*hs_correlation)\n"
     ]
    },
    {
     "data": {
      "text/html": [
       "<div>\n",
       "<style scoped>\n",
       "    .dataframe tbody tr th:only-of-type {\n",
       "        vertical-align: middle;\n",
       "    }\n",
       "\n",
       "    .dataframe tbody tr th {\n",
       "        vertical-align: top;\n",
       "    }\n",
       "\n",
       "    .dataframe thead th {\n",
       "        text-align: right;\n",
       "    }\n",
       "</style>\n",
       "<table border=\"1\" class=\"dataframe\">\n",
       "  <thead>\n",
       "    <tr style=\"text-align: right;\">\n",
       "      <th></th>\n",
       "      <th>SEQN</th>\n",
       "      <th>depression</th>\n",
       "      <th>gender</th>\n",
       "      <th>age</th>\n",
       "      <th>education_level</th>\n",
       "      <th>household_size</th>\n",
       "      <th>household_income</th>\n",
       "      <th>asthma</th>\n",
       "      <th>anemia</th>\n",
       "      <th>ever_overweight</th>\n",
       "      <th>...</th>\n",
       "      <th>previous_cigarettes_per_day</th>\n",
       "      <th>current_cigarettes_per_day</th>\n",
       "      <th>days_quit_smoking</th>\n",
       "      <th>household_smokers</th>\n",
       "      <th>prescriptions_count</th>\n",
       "      <th>hs</th>\n",
       "      <th>as</th>\n",
       "      <th>ss</th>\n",
       "      <th>ds</th>\n",
       "      <th>dep_field</th>\n",
       "    </tr>\n",
       "  </thead>\n",
       "  <tbody>\n",
       "    <tr>\n",
       "      <th>0</th>\n",
       "      <td>31131</td>\n",
       "      <td>0</td>\n",
       "      <td>1</td>\n",
       "      <td>44</td>\n",
       "      <td>4</td>\n",
       "      <td>4</td>\n",
       "      <td>11</td>\n",
       "      <td>0</td>\n",
       "      <td>0</td>\n",
       "      <td>0</td>\n",
       "      <td>...</td>\n",
       "      <td>0</td>\n",
       "      <td>0</td>\n",
       "      <td>0</td>\n",
       "      <td>4</td>\n",
       "      <td>2</td>\n",
       "      <td>83.33</td>\n",
       "      <td>19.27</td>\n",
       "      <td>87.80</td>\n",
       "      <td>11.570175</td>\n",
       "      <td>-7</td>\n",
       "    </tr>\n",
       "    <tr>\n",
       "      <th>1</th>\n",
       "      <td>31132</td>\n",
       "      <td>0</td>\n",
       "      <td>0</td>\n",
       "      <td>70</td>\n",
       "      <td>5</td>\n",
       "      <td>2</td>\n",
       "      <td>11</td>\n",
       "      <td>0</td>\n",
       "      <td>0</td>\n",
       "      <td>0</td>\n",
       "      <td>...</td>\n",
       "      <td>0</td>\n",
       "      <td>0</td>\n",
       "      <td>0</td>\n",
       "      <td>4</td>\n",
       "      <td>4</td>\n",
       "      <td>87.50</td>\n",
       "      <td>19.51</td>\n",
       "      <td>92.68</td>\n",
       "      <td>9.146421</td>\n",
       "      <td>-8</td>\n",
       "    </tr>\n",
       "    <tr>\n",
       "      <th>2</th>\n",
       "      <td>31134</td>\n",
       "      <td>0</td>\n",
       "      <td>0</td>\n",
       "      <td>73</td>\n",
       "      <td>3</td>\n",
       "      <td>2</td>\n",
       "      <td>5</td>\n",
       "      <td>0</td>\n",
       "      <td>0</td>\n",
       "      <td>1</td>\n",
       "      <td>...</td>\n",
       "      <td>0</td>\n",
       "      <td>0</td>\n",
       "      <td>0</td>\n",
       "      <td>4</td>\n",
       "      <td>5</td>\n",
       "      <td>83.33</td>\n",
       "      <td>19.75</td>\n",
       "      <td>94.15</td>\n",
       "      <td>10.961075</td>\n",
       "      <td>-8</td>\n",
       "    </tr>\n",
       "    <tr>\n",
       "      <th>3</th>\n",
       "      <td>31139</td>\n",
       "      <td>0</td>\n",
       "      <td>1</td>\n",
       "      <td>18</td>\n",
       "      <td>0</td>\n",
       "      <td>3</td>\n",
       "      <td>11</td>\n",
       "      <td>1</td>\n",
       "      <td>0</td>\n",
       "      <td>1</td>\n",
       "      <td>...</td>\n",
       "      <td>0</td>\n",
       "      <td>0</td>\n",
       "      <td>0</td>\n",
       "      <td>1</td>\n",
       "      <td>0</td>\n",
       "      <td>91.67</td>\n",
       "      <td>19.27</td>\n",
       "      <td>93.41</td>\n",
       "      <td>7.080699</td>\n",
       "      <td>-8</td>\n",
       "    </tr>\n",
       "    <tr>\n",
       "      <th>4</th>\n",
       "      <td>31143</td>\n",
       "      <td>0</td>\n",
       "      <td>0</td>\n",
       "      <td>19</td>\n",
       "      <td>0</td>\n",
       "      <td>3</td>\n",
       "      <td>11</td>\n",
       "      <td>0</td>\n",
       "      <td>0</td>\n",
       "      <td>0</td>\n",
       "      <td>...</td>\n",
       "      <td>0</td>\n",
       "      <td>2</td>\n",
       "      <td>0</td>\n",
       "      <td>4</td>\n",
       "      <td>1</td>\n",
       "      <td>97.92</td>\n",
       "      <td>20.86</td>\n",
       "      <td>87.56</td>\n",
       "      <td>5.251669</td>\n",
       "      <td>-9</td>\n",
       "    </tr>\n",
       "  </tbody>\n",
       "</table>\n",
       "<p>5 rows × 86 columns</p>\n",
       "</div>"
      ],
      "text/plain": [
       "    SEQN  depression  gender  age  education_level  household_size  \\\n",
       "0  31131           0       1   44                4               4   \n",
       "1  31132           0       0   70                5               2   \n",
       "2  31134           0       0   73                3               2   \n",
       "3  31139           0       1   18                0               3   \n",
       "4  31143           0       0   19                0               3   \n",
       "\n",
       "   household_income  asthma  anemia  ever_overweight  ...  \\\n",
       "0                11       0       0                0  ...   \n",
       "1                11       0       0                0  ...   \n",
       "2                 5       0       0                1  ...   \n",
       "3                11       1       0                1  ...   \n",
       "4                11       0       0                0  ...   \n",
       "\n",
       "   previous_cigarettes_per_day  current_cigarettes_per_day  days_quit_smoking  \\\n",
       "0                            0                           0                  0   \n",
       "1                            0                           0                  0   \n",
       "2                            0                           0                  0   \n",
       "3                            0                           0                  0   \n",
       "4                            0                           2                  0   \n",
       "\n",
       "   household_smokers  prescriptions_count     hs     as     ss         ds  \\\n",
       "0                  4                    2  83.33  19.27  87.80  11.570175   \n",
       "1                  4                    4  87.50  19.51  92.68   9.146421   \n",
       "2                  4                    5  83.33  19.75  94.15  10.961075   \n",
       "3                  1                    0  91.67  19.27  93.41   7.080699   \n",
       "4                  4                    1  97.92  20.86  87.56   5.251669   \n",
       "\n",
       "   dep_field  \n",
       "0         -7  \n",
       "1         -8  \n",
       "2         -8  \n",
       "3         -8  \n",
       "4         -9  \n",
       "\n",
       "[5 rows x 86 columns]"
      ]
     },
     "execution_count": 42,
     "metadata": {},
     "output_type": "execute_result"
    }
   ],
   "source": [
    "for ind in df.index:\n",
    "    df[\"dep_field\"][ind] = ( (df[\"hs\"][ind]*hs_correlation)\n",
    "                            +(df[\"as\"][ind]*as_correlation)\n",
    "                            +(df[\"ss\"][ind]*ss_correlation) \n",
    "                            +(df[\"depression\"][ind]*20) )/3\n",
    "            \n",
    "df.head()"
   ]
  },
  {
   "cell_type": "code",
   "execution_count": 43,
   "metadata": {},
   "outputs": [
    {
     "data": {
      "text/plain": [
       "Index(['SEQN', 'depression', 'gender', 'age', 'education_level',\n",
       "       'household_size', 'household_income', 'asthma', 'anemia',\n",
       "       'ever_overweight', 'blood_transfusion', 'heart_failure',\n",
       "       'heart_disease', 'angina', 'heart_attack', 'stroke', 'emphysema',\n",
       "       'bronchitis', 'liver_condition', 'thyroid_problem',\n",
       "       'bronchitis_currently', 'liver_condition_currently',\n",
       "       'thyroid_problem_currently', 'cancer', 'first_cancer_type',\n",
       "       'second_cancer_type', 'third_cancer_type', 'hay_fever',\n",
       "       'arthritis_type', 'BMI', 'pulse', 'trouble_sleeping_history',\n",
       "       'sleep_hours', 'vigorous_recreation', 'moderate_recreation',\n",
       "       'sedentary_time', 'vigorous_work', 'moderate_work',\n",
       "       'drinks_per_occasion', 'lifetime_alcohol_consumption',\n",
       "       'drinks_past_year', 'cant_work', 'limited_work', 'memory_problems',\n",
       "       'health_problem_Other_Impairment', 'health_problem_Bone_or_Joint',\n",
       "       'health_problem_Weight', 'health_problem_Back_or_Neck',\n",
       "       'health_problem_Arthritis', 'health_problem_Cancer',\n",
       "       'health_problem_Other_Injury', 'health_problem_Breathing',\n",
       "       'health_problem_Stroke', 'health_problem_Blood_Pressure',\n",
       "       'health_problem_Mental_Retardation', 'health_problem_Hearing',\n",
       "       'health_problem_Heart', 'health_problem_Vision',\n",
       "       'health_problem_Diabetes', 'health_problem_Birth_Defect',\n",
       "       'health_problem_Senility', 'health_problem_Other_Developmental',\n",
       "       'marijuana_use', 'marijuana_per_month', 'cocaine_use',\n",
       "       'cocaine_number_uses', 'cocaine_per_month', 'heroine_use',\n",
       "       'heronine_per_month', 'meth_use', 'meth_number_uses', 'meth_per_month',\n",
       "       'inject_drugs', 'rehab_program', 'start_smoking_age', 'current_smoker',\n",
       "       'previous_cigarettes_per_day', 'current_cigarettes_per_day',\n",
       "       'days_quit_smoking', 'household_smokers', 'prescriptions_count', 'hs',\n",
       "       'as', 'ss', 'ds', 'dep_field'],\n",
       "      dtype='object')"
      ]
     },
     "execution_count": 43,
     "metadata": {},
     "output_type": "execute_result"
    }
   ],
   "source": [
    "df.columns"
   ]
  },
  {
   "cell_type": "code",
   "execution_count": 44,
   "metadata": {},
   "outputs": [
    {
     "name": "stderr",
     "output_type": "stream",
     "text": [
      "C:\\Users\\krish\\pythonproj\\env\\lib\\site-packages\\seaborn\\_decorators.py:36: FutureWarning: Pass the following variables as keyword args: x, y. From version 0.12, the only valid positional argument will be `data`, and passing other arguments without an explicit keyword will result in an error or misinterpretation.\n",
      "  warnings.warn(\n"
     ]
    },
    {
     "data": {
      "text/plain": [
       "<AxesSubplot:xlabel='sleep_hours', ylabel='depression'>"
      ]
     },
     "execution_count": 44,
     "metadata": {},
     "output_type": "execute_result"
    },
    {
     "data": {
      "image/png": "[encoded data removed]",
      "text/plain": [
       "<Figure size 432x288 with 1 Axes>"
      ]
     },
     "metadata": {
      "needs_background": "light"
     },
     "output_type": "display_data"
    }
   ],
   "source": [
    "sns.barplot(df[\"sleep_hours\"],df[\"depression\"])"
   ]
  },
  {
   "cell_type": "markdown",
   "metadata": {},
   "source": [
    "It's **Gaussian Distribution** for Sleep_hours so, We will set Sleep hour 7 as origin means 0 and **withrespect to it on both side** of number line, it will be increasing depression"
   ]
  },
  {
   "cell_type": "markdown",
   "metadata": {},
   "source": [
    "Means, Modulus of **|(sleep_hours - 7)|** will be correlating with depression so, we will include that in depression score"
   ]
  },
  {
   "cell_type": "code",
   "execution_count": 45,
   "metadata": {},
   "outputs": [
    {
     "name": "stderr",
     "output_type": "stream",
     "text": [
      "C:\\Users\\krish\\pythonproj\\env\\lib\\site-packages\\seaborn\\_decorators.py:36: FutureWarning: Pass the following variable as a keyword arg: x. From version 0.12, the only valid positional argument will be `data`, and passing other arguments without an explicit keyword will result in an error or misinterpretation.\n",
      "  warnings.warn(\n"
     ]
    },
    {
     "data": {
      "text/plain": [
       "<AxesSubplot:xlabel='prescriptions_count', ylabel='count'>"
      ]
     },
     "execution_count": 45,
     "metadata": {},
     "output_type": "execute_result"
    },
    {
     "data": {
      "image/png": "[encoded data removed]",
      "text/plain": [
       "<Figure size 432x288 with 1 Axes>"
      ]
     },
     "metadata": {
      "needs_background": "light"
     },
     "output_type": "display_data"
    }
   ],
   "source": [
    "sns.countplot(df[\"prescriptions_count\"])"
   ]
  },
  {
   "cell_type": "code",
   "execution_count": 46,
   "metadata": {},
   "outputs": [
    {
     "name": "stderr",
     "output_type": "stream",
     "text": [
      "C:\\Users\\krish\\pythonproj\\env\\lib\\site-packages\\seaborn\\_decorators.py:36: FutureWarning: Pass the following variables as keyword args: x, y. From version 0.12, the only valid positional argument will be `data`, and passing other arguments without an explicit keyword will result in an error or misinterpretation.\n",
      "  warnings.warn(\n"
     ]
    },
    {
     "data": {
      "text/plain": [
       "<AxesSubplot:xlabel='prescriptions_count', ylabel='depression'>"
      ]
     },
     "execution_count": 46,
     "metadata": {},
     "output_type": "execute_result"
    },
    {
     "data": {
      "image/png": "[encoded data removed]",
      "text/plain": [
       "<Figure size 432x288 with 1 Axes>"
      ]
     },
     "metadata": {
      "needs_background": "light"
     },
     "output_type": "display_data"
    }
   ],
   "source": [
    "sns.barplot(df[\"prescriptions_count\"],df[\"depression\"])"
   ]
  },
  {
   "cell_type": "markdown",
   "metadata": {},
   "source": [
    "**prescriptions_count** and **depression** are linearly related so, For Supervised Regression, we will try **Linear regression** first and if it overfit's data then Regularization"
   ]
  },
  {
   "cell_type": "code",
   "execution_count": 48,
   "metadata": {},
   "outputs": [
    {
     "name": "stderr",
     "output_type": "stream",
     "text": [
      "C:\\Users\\krish\\pythonproj\\env\\lib\\site-packages\\seaborn\\distributions.py:2619: FutureWarning: `distplot` is a deprecated function and will be removed in a future version. Please adapt your code to use either `displot` (a figure-level function with similar flexibility) or `histplot` (an axes-level function for histograms).\n",
      "  warnings.warn(msg, FutureWarning)\n"
     ]
    },
    {
     "data": {
      "text/plain": [
       "<AxesSubplot:xlabel='pulse', ylabel='Density'>"
      ]
     },
     "execution_count": 48,
     "metadata": {},
     "output_type": "execute_result"
    },
    {
     "data": {
      "image/png": "[encoded data removed]",
      "text/plain": [
       "<Figure size 432x288 with 1 Axes>"
      ]
     },
     "metadata": {
      "needs_background": "light"
     },
     "output_type": "display_data"
    }
   ],
   "source": [
    "sns.distplot(df[\"pulse\"])"
   ]
  },
  {
   "cell_type": "markdown",
   "metadata": {},
   "source": [
    "pulse is centralised and it's **gaussain curve** so, we will look into **outliers** and will remove those"
   ]
  },
  {
   "cell_type": "code",
   "execution_count": 49,
   "metadata": {},
   "outputs": [
    {
     "data": {
      "text/plain": [
       "count    36259.000000\n",
       "mean        71.286026\n",
       "std         15.748265\n",
       "min          0.000000\n",
       "25%         64.000000\n",
       "50%         72.000000\n",
       "75%         80.000000\n",
       "max        224.000000\n",
       "Name: pulse, dtype: float64"
      ]
     },
     "execution_count": 49,
     "metadata": {},
     "output_type": "execute_result"
    }
   ],
   "source": [
    "df['pulse'].describe()"
   ]
  },
  {
   "cell_type": "code",
   "execution_count": 50,
   "metadata": {},
   "outputs": [
    {
     "data": {
      "image/png": "[encoded data removed]",
      "text/plain": [
       "<Figure size 432x288 with 1 Axes>"
      ]
     },
     "metadata": {
      "needs_background": "light"
     },
     "output_type": "display_data"
    }
   ],
   "source": [
    "# Scatter plot\n",
    "plt.scatter(df[\"depression\"], df[\"stroke\"], color = 'green')\n",
    "\n",
    "# Title an labels\n",
    "plt.title('Fertility vs. Life Expectancy')\n",
    "plt.xlabel('Fertility')\n",
    "plt.ylabel('Life Expectancy')\n",
    "\n",
    "# Show the plot\n",
    "plt.show()"
   ]
  },
  {
   "cell_type": "code",
   "execution_count": 51,
   "metadata": {},
   "outputs": [
    {
     "data": {
      "text/html": [
       "<div>\n",
       "<style scoped>\n",
       "    .dataframe tbody tr th:only-of-type {\n",
       "        vertical-align: middle;\n",
       "    }\n",
       "\n",
       "    .dataframe tbody tr th {\n",
       "        vertical-align: top;\n",
       "    }\n",
       "\n",
       "    .dataframe thead th {\n",
       "        text-align: right;\n",
       "    }\n",
       "</style>\n",
       "<table border=\"1\" class=\"dataframe\">\n",
       "  <thead>\n",
       "    <tr style=\"text-align: right;\">\n",
       "      <th></th>\n",
       "      <th>SEQN</th>\n",
       "      <th>depression</th>\n",
       "      <th>gender</th>\n",
       "      <th>age</th>\n",
       "      <th>education_level</th>\n",
       "      <th>household_size</th>\n",
       "      <th>household_income</th>\n",
       "      <th>asthma</th>\n",
       "      <th>anemia</th>\n",
       "      <th>ever_overweight</th>\n",
       "      <th>...</th>\n",
       "      <th>previous_cigarettes_per_day</th>\n",
       "      <th>current_cigarettes_per_day</th>\n",
       "      <th>days_quit_smoking</th>\n",
       "      <th>household_smokers</th>\n",
       "      <th>prescriptions_count</th>\n",
       "      <th>hs</th>\n",
       "      <th>as</th>\n",
       "      <th>ss</th>\n",
       "      <th>ds</th>\n",
       "      <th>dep_field</th>\n",
       "    </tr>\n",
       "  </thead>\n",
       "  <tbody>\n",
       "    <tr>\n",
       "      <th>0</th>\n",
       "      <td>31131</td>\n",
       "      <td>0</td>\n",
       "      <td>1</td>\n",
       "      <td>44</td>\n",
       "      <td>4</td>\n",
       "      <td>4</td>\n",
       "      <td>11</td>\n",
       "      <td>0</td>\n",
       "      <td>0</td>\n",
       "      <td>0</td>\n",
       "      <td>...</td>\n",
       "      <td>0</td>\n",
       "      <td>0</td>\n",
       "      <td>0</td>\n",
       "      <td>4</td>\n",
       "      <td>2</td>\n",
       "      <td>83.33</td>\n",
       "      <td>19.27</td>\n",
       "      <td>87.80</td>\n",
       "      <td>11.570175</td>\n",
       "      <td>-7</td>\n",
       "    </tr>\n",
       "    <tr>\n",
       "      <th>1</th>\n",
       "      <td>31132</td>\n",
       "      <td>0</td>\n",
       "      <td>0</td>\n",
       "      <td>70</td>\n",
       "      <td>5</td>\n",
       "      <td>2</td>\n",
       "      <td>11</td>\n",
       "      <td>0</td>\n",
       "      <td>0</td>\n",
       "      <td>0</td>\n",
       "      <td>...</td>\n",
       "      <td>0</td>\n",
       "      <td>0</td>\n",
       "      <td>0</td>\n",
       "      <td>4</td>\n",
       "      <td>4</td>\n",
       "      <td>87.50</td>\n",
       "      <td>19.51</td>\n",
       "      <td>92.68</td>\n",
       "      <td>9.146421</td>\n",
       "      <td>-8</td>\n",
       "    </tr>\n",
       "    <tr>\n",
       "      <th>2</th>\n",
       "      <td>31134</td>\n",
       "      <td>0</td>\n",
       "      <td>0</td>\n",
       "      <td>73</td>\n",
       "      <td>3</td>\n",
       "      <td>2</td>\n",
       "      <td>5</td>\n",
       "      <td>0</td>\n",
       "      <td>0</td>\n",
       "      <td>1</td>\n",
       "      <td>...</td>\n",
       "      <td>0</td>\n",
       "      <td>0</td>\n",
       "      <td>0</td>\n",
       "      <td>4</td>\n",
       "      <td>5</td>\n",
       "      <td>83.33</td>\n",
       "      <td>19.75</td>\n",
       "      <td>94.15</td>\n",
       "      <td>10.961075</td>\n",
       "      <td>-8</td>\n",
       "    </tr>\n",
       "    <tr>\n",
       "      <th>3</th>\n",
       "      <td>31139</td>\n",
       "      <td>0</td>\n",
       "      <td>1</td>\n",
       "      <td>18</td>\n",
       "      <td>0</td>\n",
       "      <td>3</td>\n",
       "      <td>11</td>\n",
       "      <td>1</td>\n",
       "      <td>0</td>\n",
       "      <td>1</td>\n",
       "      <td>...</td>\n",
       "      <td>0</td>\n",
       "      <td>0</td>\n",
       "      <td>0</td>\n",
       "      <td>1</td>\n",
       "      <td>0</td>\n",
       "      <td>91.67</td>\n",
       "      <td>19.27</td>\n",
       "      <td>93.41</td>\n",
       "      <td>7.080699</td>\n",
       "      <td>-8</td>\n",
       "    </tr>\n",
       "    <tr>\n",
       "      <th>4</th>\n",
       "      <td>31143</td>\n",
       "      <td>0</td>\n",
       "      <td>0</td>\n",
       "      <td>19</td>\n",
       "      <td>0</td>\n",
       "      <td>3</td>\n",
       "      <td>11</td>\n",
       "      <td>0</td>\n",
       "      <td>0</td>\n",
       "      <td>0</td>\n",
       "      <td>...</td>\n",
       "      <td>0</td>\n",
       "      <td>2</td>\n",
       "      <td>0</td>\n",
       "      <td>4</td>\n",
       "      <td>1</td>\n",
       "      <td>97.92</td>\n",
       "      <td>20.86</td>\n",
       "      <td>87.56</td>\n",
       "      <td>5.251669</td>\n",
       "      <td>-9</td>\n",
       "    </tr>\n",
       "  </tbody>\n",
       "</table>\n",
       "<p>5 rows × 86 columns</p>\n",
       "</div>"
      ],
      "text/plain": [
       "    SEQN  depression  gender  age  education_level  household_size  \\\n",
       "0  31131           0       1   44                4               4   \n",
       "1  31132           0       0   70                5               2   \n",
       "2  31134           0       0   73                3               2   \n",
       "3  31139           0       1   18                0               3   \n",
       "4  31143           0       0   19                0               3   \n",
       "\n",
       "   household_income  asthma  anemia  ever_overweight  ...  \\\n",
       "0                11       0       0                0  ...   \n",
       "1                11       0       0                0  ...   \n",
       "2                 5       0       0                1  ...   \n",
       "3                11       1       0                1  ...   \n",
       "4                11       0       0                0  ...   \n",
       "\n",
       "   previous_cigarettes_per_day  current_cigarettes_per_day  days_quit_smoking  \\\n",
       "0                            0                           0                  0   \n",
       "1                            0                           0                  0   \n",
       "2                            0                           0                  0   \n",
       "3                            0                           0                  0   \n",
       "4                            0                           2                  0   \n",
       "\n",
       "   household_smokers  prescriptions_count     hs     as     ss         ds  \\\n",
       "0                  4                    2  83.33  19.27  87.80  11.570175   \n",
       "1                  4                    4  87.50  19.51  92.68   9.146421   \n",
       "2                  4                    5  83.33  19.75  94.15  10.961075   \n",
       "3                  1                    0  91.67  19.27  93.41   7.080699   \n",
       "4                  4                    1  97.92  20.86  87.56   5.251669   \n",
       "\n",
       "   dep_field  \n",
       "0         -7  \n",
       "1         -8  \n",
       "2         -8  \n",
       "3         -8  \n",
       "4         -9  \n",
       "\n",
       "[5 rows x 86 columns]"
      ]
     },
     "execution_count": 51,
     "metadata": {},
     "output_type": "execute_result"
    }
   ],
   "source": [
    "df.head()"
   ]
  },
  {
   "cell_type": "markdown",
   "metadata": {},
   "source": [
    "## Feature Engineering"
   ]
  },
  {
   "cell_type": "code",
   "execution_count": 52,
   "metadata": {},
   "outputs": [
    {
     "name": "stderr",
     "output_type": "stream",
     "text": [
      "C:\\Users\\krish\\pythonproj\\env\\lib\\site-packages\\seaborn\\_decorators.py:36: FutureWarning: Pass the following variable as a keyword arg: x. From version 0.12, the only valid positional argument will be `data`, and passing other arguments without an explicit keyword will result in an error or misinterpretation.\n",
      "  warnings.warn(\n"
     ]
    },
    {
     "data": {
      "text/plain": [
       "<AxesSubplot:xlabel='pulse'>"
      ]
     },
     "execution_count": 52,
     "metadata": {},
     "output_type": "execute_result"
    },
    {
     "data": {
      "image/png": "[encoded data removed]",
      "text/plain": [
       "<Figure size 432x288 with 1 Axes>"
      ]
     },
     "metadata": {
      "needs_background": "light"
     },
     "output_type": "display_data"
    }
   ],
   "source": [
    "sns.boxplot(df['pulse'])"
   ]
  },
  {
   "cell_type": "code",
   "execution_count": 53,
   "metadata": {},
   "outputs": [
    {
     "name": "stderr",
     "output_type": "stream",
     "text": [
      "C:\\Users\\krish\\pythonproj\\env\\lib\\site-packages\\seaborn\\_decorators.py:36: FutureWarning: Pass the following variable as a keyword arg: x. From version 0.12, the only valid positional argument will be `data`, and passing other arguments without an explicit keyword will result in an error or misinterpretation.\n",
      "  warnings.warn(\n"
     ]
    },
    {
     "data": {
      "text/plain": [
       "<AxesSubplot:xlabel='drinks_per_occasion'>"
      ]
     },
     "execution_count": 53,
     "metadata": {},
     "output_type": "execute_result"
    },
    {
     "data": {
      "image/png": "[encoded data removed]",
      "text/plain": [
       "<Figure size 432x288 with 1 Axes>"
      ]
     },
     "metadata": {
      "needs_background": "light"
     },
     "output_type": "display_data"
    }
   ],
   "source": [
    "sns.boxplot(df['drinks_per_occasion'])"
   ]
  },
  {
   "cell_type": "code",
   "execution_count": 54,
   "metadata": {},
   "outputs": [
    {
     "name": "stderr",
     "output_type": "stream",
     "text": [
      "C:\\Users\\krish\\pythonproj\\env\\lib\\site-packages\\seaborn\\_decorators.py:36: FutureWarning: Pass the following variable as a keyword arg: x. From version 0.12, the only valid positional argument will be `data`, and passing other arguments without an explicit keyword will result in an error or misinterpretation.\n",
      "  warnings.warn(\n"
     ]
    },
    {
     "data": {
      "text/plain": [
       "<AxesSubplot:xlabel='pulse'>"
      ]
     },
     "execution_count": 54,
     "metadata": {},
     "output_type": "execute_result"
    },
    {
     "data": {
      "image/png": "[encoded data removed]",
      "text/plain": [
       "<Figure size 432x288 with 1 Axes>"
      ]
     },
     "metadata": {
      "needs_background": "light"
     },
     "output_type": "display_data"
    }
   ],
   "source": [
    "sns.boxplot(df['pulse'])"
   ]
  },
  {
   "cell_type": "code",
   "execution_count": 55,
   "metadata": {},
   "outputs": [],
   "source": [
    "def plot_boxplot(df, ft):\n",
    "    df.boxplot(column=[ft])\n",
    "    plt.grid(False)\n",
    "    plt.show()"
   ]
  },
  {
   "cell_type": "code",
   "execution_count": 56,
   "metadata": {},
   "outputs": [
    {
     "data": {
      "image/png": "[encoded data removed]",
      "text/plain": [
       "<Figure size 432x288 with 1 Axes>"
      ]
     },
     "metadata": {
      "needs_background": "light"
     },
     "output_type": "display_data"
    }
   ],
   "source": [
    "plot_boxplot(df, \"pulse\")"
   ]
  },
  {
   "cell_type": "code",
   "execution_count": 57,
   "metadata": {},
   "outputs": [
    {
     "data": {
      "image/png": "[encoded data removed]",
      "text/plain": [
       "<Figure size 432x288 with 1 Axes>"
      ]
     },
     "metadata": {
      "needs_background": "light"
     },
     "output_type": "display_data"
    }
   ],
   "source": [
    "plot_boxplot(df, \"drinks_per_occasion\")"
   ]
  },
  {
   "cell_type": "code",
   "execution_count": 58,
   "metadata": {},
   "outputs": [],
   "source": [
    "def outliers(df, ft):\n",
    "    Q1 = df[ft].quantile(0.25)\n",
    "    Q3 = df[ft].quantile(0.75)\n",
    "    IQR = Q3 - Q1\n",
    "    \n",
    "    lower_bound = Q1 - 1.5 * IQR\n",
    "    upper_bound = Q3 + 1.5 * IQR\n",
    "    \n",
    "    ls = df.index[ (df[ft] < lower_bound) | (df[ft] < upper_bound) ]\n",
    "    return ls"
   ]
  },
  {
   "cell_type": "code",
   "execution_count": 59,
   "metadata": {},
   "outputs": [],
   "source": [
    "index_list = []\n",
    "for feature in ['drinks_per_occasion']:\n",
    "    index_list.extend(outliers(df, feature))"
   ]
  },
  {
   "cell_type": "code",
   "execution_count": null,
   "metadata": {},
   "outputs": [],
   "source": []
  },
  {
   "cell_type": "code",
   "execution_count": 61,
   "metadata": {},
   "outputs": [],
   "source": [
    "def remove(df, ls):\n",
    "    ls = sorted(set(ls))\n",
    "    df = df.drop(ls)\n",
    "    return df"
   ]
  },
  {
   "cell_type": "code",
   "execution_count": 62,
   "metadata": {},
   "outputs": [
    {
     "data": {
      "text/plain": [
       "(3646, 86)"
      ]
     },
     "execution_count": 62,
     "metadata": {},
     "output_type": "execute_result"
    }
   ],
   "source": [
    "df_cleaned = remove(df,index_list)\n",
    "df = df_cleaned\n",
    "df_cleaned.shape"
   ]
  },
  {
   "cell_type": "code",
   "execution_count": 63,
   "metadata": {},
   "outputs": [
    {
     "data": {
      "text/plain": [
       "Index(['SEQN', 'depression', 'gender', 'age', 'education_level',\n",
       "       'household_size', 'household_income', 'asthma', 'anemia',\n",
       "       'ever_overweight', 'blood_transfusion', 'heart_failure',\n",
       "       'heart_disease', 'angina', 'heart_attack', 'stroke', 'emphysema',\n",
       "       'bronchitis', 'liver_condition', 'thyroid_problem',\n",
       "       'bronchitis_currently', 'liver_condition_currently',\n",
       "       'thyroid_problem_currently', 'cancer', 'first_cancer_type',\n",
       "       'second_cancer_type', 'third_cancer_type', 'hay_fever',\n",
       "       'arthritis_type', 'BMI', 'pulse', 'trouble_sleeping_history',\n",
       "       'sleep_hours', 'vigorous_recreation', 'moderate_recreation',\n",
       "       'sedentary_time', 'vigorous_work', 'moderate_work',\n",
       "       'drinks_per_occasion', 'lifetime_alcohol_consumption',\n",
       "       'drinks_past_year', 'cant_work', 'limited_work', 'memory_problems',\n",
       "       'health_problem_Other_Impairment', 'health_problem_Bone_or_Joint',\n",
       "       'health_problem_Weight', 'health_problem_Back_or_Neck',\n",
       "       'health_problem_Arthritis', 'health_problem_Cancer',\n",
       "       'health_problem_Other_Injury', 'health_problem_Breathing',\n",
       "       'health_problem_Stroke', 'health_problem_Blood_Pressure',\n",
       "       'health_problem_Mental_Retardation', 'health_problem_Hearing',\n",
       "       'health_problem_Heart', 'health_problem_Vision',\n",
       "       'health_problem_Diabetes', 'health_problem_Birth_Defect',\n",
       "       'health_problem_Senility', 'health_problem_Other_Developmental',\n",
       "       'marijuana_use', 'marijuana_per_month', 'cocaine_use',\n",
       "       'cocaine_number_uses', 'cocaine_per_month', 'heroine_use',\n",
       "       'heronine_per_month', 'meth_use', 'meth_number_uses', 'meth_per_month',\n",
       "       'inject_drugs', 'rehab_program', 'start_smoking_age', 'current_smoker',\n",
       "       'previous_cigarettes_per_day', 'current_cigarettes_per_day',\n",
       "       'days_quit_smoking', 'household_smokers', 'prescriptions_count', 'hs',\n",
       "       'as', 'ss', 'ds', 'dep_field'],\n",
       "      dtype='object')"
      ]
     },
     "execution_count": 63,
     "metadata": {},
     "output_type": "execute_result"
    }
   ],
   "source": [
    "df.columns"
   ]
  },
  {
   "cell_type": "code",
   "execution_count": 64,
   "metadata": {},
   "outputs": [
    {
     "name": "stderr",
     "output_type": "stream",
     "text": [
      "C:\\Users\\krish\\pythonproj\\env\\lib\\site-packages\\seaborn\\_decorators.py:36: FutureWarning: Pass the following variables as keyword args: x, y. From version 0.12, the only valid positional argument will be `data`, and passing other arguments without an explicit keyword will result in an error or misinterpretation.\n",
      "  warnings.warn(\n"
     ]
    },
    {
     "data": {
      "text/plain": [
       "<AxesSubplot:xlabel='BMI', ylabel='depression'>"
      ]
     },
     "execution_count": 64,
     "metadata": {},
     "output_type": "execute_result"
    },
    {
     "data": {
      "image/png": "[encoded data removed]",
      "text/plain": [
       "<Figure size 432x288 with 1 Axes>"
      ]
     },
     "metadata": {
      "needs_background": "light"
     },
     "output_type": "display_data"
    }
   ],
   "source": [
    "sns.barplot(df[\"BMI\"],df[\"depression\"])"
   ]
  },
  {
   "cell_type": "code",
   "execution_count": 65,
   "metadata": {},
   "outputs": [
    {
     "name": "stderr",
     "output_type": "stream",
     "text": [
      "C:\\Users\\krish\\pythonproj\\env\\lib\\site-packages\\seaborn\\_decorators.py:36: FutureWarning: Pass the following variable as a keyword arg: x. From version 0.12, the only valid positional argument will be `data`, and passing other arguments without an explicit keyword will result in an error or misinterpretation.\n",
      "  warnings.warn(\n"
     ]
    },
    {
     "data": {
      "text/plain": [
       "<AxesSubplot:xlabel='BMI', ylabel='count'>"
      ]
     },
     "execution_count": 65,
     "metadata": {},
     "output_type": "execute_result"
    },
    {
     "data": {
      "image/png": "[encoded data removed]",
      "text/plain": [
       "<Figure size 432x288 with 1 Axes>"
      ]
     },
     "metadata": {
      "needs_background": "light"
     },
     "output_type": "display_data"
    }
   ],
   "source": [
    "sns.countplot(df[\"BMI\"])"
   ]
  },
  {
   "cell_type": "code",
   "execution_count": 66,
   "metadata": {},
   "outputs": [
    {
     "name": "stderr",
     "output_type": "stream",
     "text": [
      "C:\\Users\\krish\\pythonproj\\env\\lib\\site-packages\\seaborn\\_decorators.py:36: FutureWarning: Pass the following variables as keyword args: x, y. From version 0.12, the only valid positional argument will be `data`, and passing other arguments without an explicit keyword will result in an error or misinterpretation.\n",
      "  warnings.warn(\n"
     ]
    },
    {
     "data": {
      "text/plain": [
       "<AxesSubplot:xlabel='education_level', ylabel='depression'>"
      ]
     },
     "execution_count": 66,
     "metadata": {},
     "output_type": "execute_result"
    },
    {
     "data": {
      "image/png": "[encoded data removed]",
      "text/plain": [
       "<Figure size 432x288 with 1 Axes>"
      ]
     },
     "metadata": {
      "needs_background": "light"
     },
     "output_type": "display_data"
    }
   ],
   "source": [
    "sns.barplot(df[\"education_level\"],df[\"depression\"])"
   ]
  },
  {
   "cell_type": "code",
   "execution_count": 67,
   "metadata": {},
   "outputs": [
    {
     "name": "stderr",
     "output_type": "stream",
     "text": [
      "C:\\Users\\krish\\pythonproj\\env\\lib\\site-packages\\seaborn\\_decorators.py:36: FutureWarning: Pass the following variables as keyword args: x, y. From version 0.12, the only valid positional argument will be `data`, and passing other arguments without an explicit keyword will result in an error or misinterpretation.\n",
      "  warnings.warn(\n"
     ]
    },
    {
     "data": {
      "text/plain": [
       "<AxesSubplot:xlabel='drinks_per_occasion', ylabel='depression'>"
      ]
     },
     "execution_count": 67,
     "metadata": {},
     "output_type": "execute_result"
    },
    {
     "data": {
      "image/png": "[encoded data removed]",
      "text/plain": [
       "<Figure size 432x288 with 1 Axes>"
      ]
     },
     "metadata": {
      "needs_background": "light"
     },
     "output_type": "display_data"
    }
   ],
   "source": [
    "sns.barplot(df[\"drinks_per_occasion\"],df[\"depression\"])"
   ]
  },
  {
   "cell_type": "code",
   "execution_count": 68,
   "metadata": {},
   "outputs": [
    {
     "name": "stderr",
     "output_type": "stream",
     "text": [
      "C:\\Users\\krish\\pythonproj\\env\\lib\\site-packages\\seaborn\\_decorators.py:36: FutureWarning: Pass the following variables as keyword args: x, y. From version 0.12, the only valid positional argument will be `data`, and passing other arguments without an explicit keyword will result in an error or misinterpretation.\n",
      "  warnings.warn(\n"
     ]
    },
    {
     "data": {
      "text/plain": [
       "<AxesSubplot:xlabel='drinks_per_occasion', ylabel='depression'>"
      ]
     },
     "execution_count": 68,
     "metadata": {},
     "output_type": "execute_result"
    },
    {
     "data": {
      "image/png": "[encoded data removed]",
      "text/plain": [
       "<Figure size 432x288 with 1 Axes>"
      ]
     },
     "metadata": {
      "needs_background": "light"
     },
     "output_type": "display_data"
    }
   ],
   "source": [
    "sns.barplot(df_cleaned[\"drinks_per_occasion\"],df_cleaned[\"depression\"])"
   ]
  },
  {
   "cell_type": "code",
   "execution_count": 69,
   "metadata": {},
   "outputs": [
    {
     "data": {
      "image/png": "[encoded data removed]",
      "text/plain": [
       "<Figure size 432x288 with 1 Axes>"
      ]
     },
     "metadata": {
      "needs_background": "light"
     },
     "output_type": "display_data"
    }
   ],
   "source": [
    "plot_boxplot(df_cleaned, \"drinks_per_occasion\")"
   ]
  },
  {
   "cell_type": "markdown",
   "metadata": {},
   "source": [
    "### removing the features which are highly correlated"
   ]
  },
  {
   "cell_type": "code",
   "execution_count": 70,
   "metadata": {},
   "outputs": [],
   "source": [
    "y = df['depression']\n",
    "X = df.drop(['depression'], axis = 1)\n",
    "X = X.drop(['hs'], axis = 1)\n",
    "X = X.drop(['as'], axis = 1)\n",
    "X = X.drop(['ss'], axis = 1)\n",
    "X = X.drop(['ds'], axis = 1)\n",
    "\n",
    "\n",
    "from sklearn.model_selection import train_test_split\n",
    "X_train, X_test, y_train, y_test = train_test_split(X, y, test_size = 0.3, random_state = 0)\n",
    "\n",
    "# with the following function we can select highly correlated features\n",
    "# it will remove the first feature that is correlated with anything other feature\n",
    "\n",
    "def correlation(dataset, threshold):\n",
    "    col_corr = set()  # Set of all the names of correlated columns\n",
    "    corr_matrix = dataset.corr()\n",
    "    for i in range(len(corr_matrix.columns)):\n",
    "        for j in range(i):\n",
    "            if abs(corr_matrix.iloc[i, j]) > threshold: # we are interested in absolute coeff value\n",
    "                colname = corr_matrix.columns[i]  # getting the name of column\n",
    "                col_corr.add(colname)\n",
    "    return col_corr"
   ]
  },
  {
   "cell_type": "code",
   "execution_count": 71,
   "metadata": {},
   "outputs": [
    {
     "data": {
      "text/plain": [
       "8"
      ]
     },
     "execution_count": 71,
     "metadata": {},
     "output_type": "execute_result"
    }
   ],
   "source": [
    "corr_features = correlation(X_train, 0.7)\n",
    "len(set(corr_features))"
   ]
  },
  {
   "cell_type": "code",
   "execution_count": 72,
   "metadata": {},
   "outputs": [
    {
     "data": {
      "text/plain": [
       "{'cocaine_number_uses',\n",
       " 'current_smoker',\n",
       " 'first_cancer_type',\n",
       " 'limited_work',\n",
       " 'liver_condition_currently',\n",
       " 'meth_number_uses',\n",
       " 'third_cancer_type',\n",
       " 'thyroid_problem_currently'}"
      ]
     },
     "execution_count": 72,
     "metadata": {},
     "output_type": "execute_result"
    }
   ],
   "source": [
    "corr_features"
   ]
  },
  {
   "cell_type": "code",
   "execution_count": 73,
   "metadata": {},
   "outputs": [
    {
     "data": {
      "text/html": [
       "<div>\n",
       "<style scoped>\n",
       "    .dataframe tbody tr th:only-of-type {\n",
       "        vertical-align: middle;\n",
       "    }\n",
       "\n",
       "    .dataframe tbody tr th {\n",
       "        vertical-align: top;\n",
       "    }\n",
       "\n",
       "    .dataframe thead th {\n",
       "        text-align: right;\n",
       "    }\n",
       "</style>\n",
       "<table border=\"1\" class=\"dataframe\">\n",
       "  <thead>\n",
       "    <tr style=\"text-align: right;\">\n",
       "      <th></th>\n",
       "      <th>SEQN</th>\n",
       "      <th>depression</th>\n",
       "      <th>gender</th>\n",
       "      <th>age</th>\n",
       "      <th>education_level</th>\n",
       "      <th>household_size</th>\n",
       "      <th>household_income</th>\n",
       "      <th>asthma</th>\n",
       "      <th>anemia</th>\n",
       "      <th>ever_overweight</th>\n",
       "      <th>...</th>\n",
       "      <th>previous_cigarettes_per_day</th>\n",
       "      <th>current_cigarettes_per_day</th>\n",
       "      <th>days_quit_smoking</th>\n",
       "      <th>household_smokers</th>\n",
       "      <th>prescriptions_count</th>\n",
       "      <th>hs</th>\n",
       "      <th>as</th>\n",
       "      <th>ss</th>\n",
       "      <th>ds</th>\n",
       "      <th>dep_field</th>\n",
       "    </tr>\n",
       "  </thead>\n",
       "  <tbody>\n",
       "    <tr>\n",
       "      <th>24</th>\n",
       "      <td>31191</td>\n",
       "      <td>1</td>\n",
       "      <td>1</td>\n",
       "      <td>22</td>\n",
       "      <td>2</td>\n",
       "      <td>4</td>\n",
       "      <td>4</td>\n",
       "      <td>0</td>\n",
       "      <td>0</td>\n",
       "      <td>0</td>\n",
       "      <td>...</td>\n",
       "      <td>0</td>\n",
       "      <td>0</td>\n",
       "      <td>0</td>\n",
       "      <td>4</td>\n",
       "      <td>0</td>\n",
       "      <td>97.92</td>\n",
       "      <td>21.02</td>\n",
       "      <td>92.68</td>\n",
       "      <td>41.418520</td>\n",
       "      <td>-2</td>\n",
       "    </tr>\n",
       "    <tr>\n",
       "      <th>52</th>\n",
       "      <td>31248</td>\n",
       "      <td>0</td>\n",
       "      <td>0</td>\n",
       "      <td>21</td>\n",
       "      <td>1</td>\n",
       "      <td>7</td>\n",
       "      <td>5</td>\n",
       "      <td>0</td>\n",
       "      <td>0</td>\n",
       "      <td>0</td>\n",
       "      <td>...</td>\n",
       "      <td>0</td>\n",
       "      <td>0</td>\n",
       "      <td>0</td>\n",
       "      <td>4</td>\n",
       "      <td>0</td>\n",
       "      <td>93.75</td>\n",
       "      <td>21.18</td>\n",
       "      <td>93.90</td>\n",
       "      <td>6.527764</td>\n",
       "      <td>-8</td>\n",
       "    </tr>\n",
       "    <tr>\n",
       "      <th>60</th>\n",
       "      <td>31262</td>\n",
       "      <td>0</td>\n",
       "      <td>0</td>\n",
       "      <td>52</td>\n",
       "      <td>1</td>\n",
       "      <td>6</td>\n",
       "      <td>10</td>\n",
       "      <td>0</td>\n",
       "      <td>0</td>\n",
       "      <td>0</td>\n",
       "      <td>...</td>\n",
       "      <td>1</td>\n",
       "      <td>0</td>\n",
       "      <td>3650</td>\n",
       "      <td>2</td>\n",
       "      <td>0</td>\n",
       "      <td>95.83</td>\n",
       "      <td>20.11</td>\n",
       "      <td>92.68</td>\n",
       "      <td>5.443818</td>\n",
       "      <td>-9</td>\n",
       "    </tr>\n",
       "    <tr>\n",
       "      <th>65</th>\n",
       "      <td>31273</td>\n",
       "      <td>0</td>\n",
       "      <td>0</td>\n",
       "      <td>62</td>\n",
       "      <td>2</td>\n",
       "      <td>2</td>\n",
       "      <td>8</td>\n",
       "      <td>0</td>\n",
       "      <td>0</td>\n",
       "      <td>0</td>\n",
       "      <td>...</td>\n",
       "      <td>0</td>\n",
       "      <td>0</td>\n",
       "      <td>0</td>\n",
       "      <td>4</td>\n",
       "      <td>0</td>\n",
       "      <td>93.75</td>\n",
       "      <td>20.70</td>\n",
       "      <td>92.44</td>\n",
       "      <td>6.578936</td>\n",
       "      <td>-8</td>\n",
       "    </tr>\n",
       "    <tr>\n",
       "      <th>87</th>\n",
       "      <td>31309</td>\n",
       "      <td>0</td>\n",
       "      <td>0</td>\n",
       "      <td>60</td>\n",
       "      <td>1</td>\n",
       "      <td>3</td>\n",
       "      <td>3</td>\n",
       "      <td>0</td>\n",
       "      <td>0</td>\n",
       "      <td>0</td>\n",
       "      <td>...</td>\n",
       "      <td>0</td>\n",
       "      <td>0</td>\n",
       "      <td>10950</td>\n",
       "      <td>4</td>\n",
       "      <td>0</td>\n",
       "      <td>93.75</td>\n",
       "      <td>14.23</td>\n",
       "      <td>90.98</td>\n",
       "      <td>5.167854</td>\n",
       "      <td>-9</td>\n",
       "    </tr>\n",
       "    <tr>\n",
       "      <th>...</th>\n",
       "      <td>...</td>\n",
       "      <td>...</td>\n",
       "      <td>...</td>\n",
       "      <td>...</td>\n",
       "      <td>...</td>\n",
       "      <td>...</td>\n",
       "      <td>...</td>\n",
       "      <td>...</td>\n",
       "      <td>...</td>\n",
       "      <td>...</td>\n",
       "      <td>...</td>\n",
       "      <td>...</td>\n",
       "      <td>...</td>\n",
       "      <td>...</td>\n",
       "      <td>...</td>\n",
       "      <td>...</td>\n",
       "      <td>...</td>\n",
       "      <td>...</td>\n",
       "      <td>...</td>\n",
       "      <td>...</td>\n",
       "      <td>...</td>\n",
       "    </tr>\n",
       "    <tr>\n",
       "      <th>36217</th>\n",
       "      <td>102878</td>\n",
       "      <td>1</td>\n",
       "      <td>0</td>\n",
       "      <td>61</td>\n",
       "      <td>2</td>\n",
       "      <td>2</td>\n",
       "      <td>10</td>\n",
       "      <td>0</td>\n",
       "      <td>0</td>\n",
       "      <td>0</td>\n",
       "      <td>...</td>\n",
       "      <td>5</td>\n",
       "      <td>0</td>\n",
       "      <td>90</td>\n",
       "      <td>0</td>\n",
       "      <td>9</td>\n",
       "      <td>72.92</td>\n",
       "      <td>23.25</td>\n",
       "      <td>71.95</td>\n",
       "      <td>55.877522</td>\n",
       "      <td>0</td>\n",
       "    </tr>\n",
       "    <tr>\n",
       "      <th>36229</th>\n",
       "      <td>102895</td>\n",
       "      <td>0</td>\n",
       "      <td>0</td>\n",
       "      <td>43</td>\n",
       "      <td>4</td>\n",
       "      <td>3</td>\n",
       "      <td>0</td>\n",
       "      <td>0</td>\n",
       "      <td>0</td>\n",
       "      <td>1</td>\n",
       "      <td>...</td>\n",
       "      <td>0</td>\n",
       "      <td>15</td>\n",
       "      <td>0</td>\n",
       "      <td>0</td>\n",
       "      <td>3</td>\n",
       "      <td>85.42</td>\n",
       "      <td>34.83</td>\n",
       "      <td>79.88</td>\n",
       "      <td>15.310895</td>\n",
       "      <td>-7</td>\n",
       "    </tr>\n",
       "    <tr>\n",
       "      <th>36242</th>\n",
       "      <td>102918</td>\n",
       "      <td>0</td>\n",
       "      <td>0</td>\n",
       "      <td>33</td>\n",
       "      <td>3</td>\n",
       "      <td>5</td>\n",
       "      <td>9</td>\n",
       "      <td>0</td>\n",
       "      <td>0</td>\n",
       "      <td>0</td>\n",
       "      <td>...</td>\n",
       "      <td>0</td>\n",
       "      <td>10</td>\n",
       "      <td>0</td>\n",
       "      <td>2</td>\n",
       "      <td>0</td>\n",
       "      <td>100.00</td>\n",
       "      <td>31.89</td>\n",
       "      <td>82.93</td>\n",
       "      <td>7.511834</td>\n",
       "      <td>-8</td>\n",
       "    </tr>\n",
       "    <tr>\n",
       "      <th>36248</th>\n",
       "      <td>102933</td>\n",
       "      <td>0</td>\n",
       "      <td>1</td>\n",
       "      <td>24</td>\n",
       "      <td>4</td>\n",
       "      <td>2</td>\n",
       "      <td>5</td>\n",
       "      <td>0</td>\n",
       "      <td>0</td>\n",
       "      <td>0</td>\n",
       "      <td>...</td>\n",
       "      <td>0</td>\n",
       "      <td>0</td>\n",
       "      <td>0</td>\n",
       "      <td>0</td>\n",
       "      <td>0</td>\n",
       "      <td>93.75</td>\n",
       "      <td>20.46</td>\n",
       "      <td>70.73</td>\n",
       "      <td>9.003611</td>\n",
       "      <td>-8</td>\n",
       "    </tr>\n",
       "    <tr>\n",
       "      <th>36256</th>\n",
       "      <td>102953</td>\n",
       "      <td>0</td>\n",
       "      <td>0</td>\n",
       "      <td>42</td>\n",
       "      <td>3</td>\n",
       "      <td>1</td>\n",
       "      <td>5</td>\n",
       "      <td>1</td>\n",
       "      <td>0</td>\n",
       "      <td>1</td>\n",
       "      <td>...</td>\n",
       "      <td>1</td>\n",
       "      <td>0</td>\n",
       "      <td>270</td>\n",
       "      <td>0</td>\n",
       "      <td>2</td>\n",
       "      <td>81.25</td>\n",
       "      <td>22.79</td>\n",
       "      <td>75.61</td>\n",
       "      <td>14.784945</td>\n",
       "      <td>-7</td>\n",
       "    </tr>\n",
       "  </tbody>\n",
       "</table>\n",
       "<p>3646 rows × 78 columns</p>\n",
       "</div>"
      ],
      "text/plain": [
       "         SEQN  depression  gender  age  education_level  household_size  \\\n",
       "24      31191           1       1   22                2               4   \n",
       "52      31248           0       0   21                1               7   \n",
       "60      31262           0       0   52                1               6   \n",
       "65      31273           0       0   62                2               2   \n",
       "87      31309           0       0   60                1               3   \n",
       "...       ...         ...     ...  ...              ...             ...   \n",
       "36217  102878           1       0   61                2               2   \n",
       "36229  102895           0       0   43                4               3   \n",
       "36242  102918           0       0   33                3               5   \n",
       "36248  102933           0       1   24                4               2   \n",
       "36256  102953           0       0   42                3               1   \n",
       "\n",
       "       household_income  asthma  anemia  ever_overweight  ...  \\\n",
       "24                    4       0       0                0  ...   \n",
       "52                    5       0       0                0  ...   \n",
       "60                   10       0       0                0  ...   \n",
       "65                    8       0       0                0  ...   \n",
       "87                    3       0       0                0  ...   \n",
       "...                 ...     ...     ...              ...  ...   \n",
       "36217                10       0       0                0  ...   \n",
       "36229                 0       0       0                1  ...   \n",
       "36242                 9       0       0                0  ...   \n",
       "36248                 5       0       0                0  ...   \n",
       "36256                 5       1       0                1  ...   \n",
       "\n",
       "       previous_cigarettes_per_day  current_cigarettes_per_day  \\\n",
       "24                               0                           0   \n",
       "52                               0                           0   \n",
       "60                               1                           0   \n",
       "65                               0                           0   \n",
       "87                               0                           0   \n",
       "...                            ...                         ...   \n",
       "36217                            5                           0   \n",
       "36229                            0                          15   \n",
       "36242                            0                          10   \n",
       "36248                            0                           0   \n",
       "36256                            1                           0   \n",
       "\n",
       "       days_quit_smoking  household_smokers  prescriptions_count      hs  \\\n",
       "24                     0                  4                    0   97.92   \n",
       "52                     0                  4                    0   93.75   \n",
       "60                  3650                  2                    0   95.83   \n",
       "65                     0                  4                    0   93.75   \n",
       "87                 10950                  4                    0   93.75   \n",
       "...                  ...                ...                  ...     ...   \n",
       "36217                 90                  0                    9   72.92   \n",
       "36229                  0                  0                    3   85.42   \n",
       "36242                  0                  2                    0  100.00   \n",
       "36248                  0                  0                    0   93.75   \n",
       "36256                270                  0                    2   81.25   \n",
       "\n",
       "          as     ss         ds  dep_field  \n",
       "24     21.02  92.68  41.418520         -2  \n",
       "52     21.18  93.90   6.527764         -8  \n",
       "60     20.11  92.68   5.443818         -9  \n",
       "65     20.70  92.44   6.578936         -8  \n",
       "87     14.23  90.98   5.167854         -9  \n",
       "...      ...    ...        ...        ...  \n",
       "36217  23.25  71.95  55.877522          0  \n",
       "36229  34.83  79.88  15.310895         -7  \n",
       "36242  31.89  82.93   7.511834         -8  \n",
       "36248  20.46  70.73   9.003611         -8  \n",
       "36256  22.79  75.61  14.784945         -7  \n",
       "\n",
       "[3646 rows x 78 columns]"
      ]
     },
     "execution_count": 73,
     "metadata": {},
     "output_type": "execute_result"
    }
   ],
   "source": [
    "df.drop(corr_features,axis=1)"
   ]
  },
  {
   "cell_type": "markdown",
   "metadata": {},
   "source": [
    "## Predict 1 : Depression Status [ Classification Model ]"
   ]
  },
  {
   "cell_type": "markdown",
   "metadata": {},
   "source": [
    "Random Forest Classifier"
   ]
  },
  {
   "cell_type": "code",
   "execution_count": 38,
   "metadata": {},
   "outputs": [],
   "source": [
    "y = df['depression']\n",
    "X = df.drop(['depression'], axis = 1)\n",
    "X = X.drop(['hs'], axis = 1)\n",
    "X = X.drop(['as'], axis = 1)\n",
    "X = X.drop(['ss'], axis = 1)\n",
    "X = X.drop(['ds'], axis = 1)\n",
    "\n",
    "\n",
    "from sklearn.model_selection import train_test_split\n",
    "X_train, X_test, y_train, y_test = train_test_split(X, y, test_size = 0.3, random_state = 0)"
   ]
  },
  {
   "cell_type": "code",
   "execution_count": 32,
   "metadata": {},
   "outputs": [],
   "source": [
    "from sklearn.ensemble import RandomForestClassifier\n",
    "from sklearn.metrics import accuracy_score\n",
    "\n",
    "max_accuracy = 0\n",
    "#selecting random state providing the highest accuracy\n",
    "for x in range(10):\n",
    "    rfc = RandomForestClassifier(random_state = x)\n",
    "    rfc.fit(X_train,y_train)\n",
    "    rfc_pred = rfc.predict(X_test)\n",
    "    current_accuracy = round(accuracy_score(y_test, rfc_pred)*100,2)\n",
    "    if(current_accuracy > max_accuracy):\n",
    "        max_accuracy = current_accuracy\n",
    "        rfc_best_x = x"
   ]
  },
  {
   "cell_type": "code",
   "execution_count": 33,
   "metadata": {},
   "outputs": [],
   "source": [
    "rfc = RandomForestClassifier(random_state = rfc_best_x)\n",
    "rfc.fit(X_train,y_train)\n",
    "rfc_pred = rfc.predict(X_test)\n",
    "rfc_score = accuracy_score(y_test, rfc_pred)"
   ]
  },
  {
   "cell_type": "code",
   "execution_count": 34,
   "metadata": {},
   "outputs": [
    {
     "data": {
      "text/plain": [
       "0.9214009928295642"
      ]
     },
     "execution_count": 34,
     "metadata": {},
     "output_type": "execute_result"
    }
   ],
   "source": [
    "rfc_score"
   ]
  },
  {
   "cell_type": "code",
   "execution_count": 35,
   "metadata": {},
   "outputs": [
    {
     "data": {
      "text/plain": [
       "123"
      ]
     },
     "execution_count": 35,
     "metadata": {},
     "output_type": "execute_result"
    }
   ],
   "source": [
    "rfc_pred.sum()"
   ]
  },
  {
   "cell_type": "code",
   "execution_count": 36,
   "metadata": {},
   "outputs": [
    {
     "data": {
      "text/plain": [
       "array([0, 0, 0, ..., 0, 0, 0], dtype=int64)"
      ]
     },
     "execution_count": 36,
     "metadata": {},
     "output_type": "execute_result"
    }
   ],
   "source": [
    "rfc_pred"
   ]
  },
  {
   "cell_type": "code",
   "execution_count": 37,
   "metadata": {},
   "outputs": [
    {
     "data": {
      "image/png": "[encoded data removed]",
      "text/plain": [
       "<Figure size 432x288 with 2 Axes>"
      ]
     },
     "metadata": {
      "needs_background": "light"
     },
     "output_type": "display_data"
    }
   ],
   "source": [
    "from sklearn.metrics import plot_confusion_matrix\n",
    "\n",
    "disp = plot_confusion_matrix(rfc, X_test, y_test, cmap = 'Blues', values_format = '.3g')"
   ]
  },
  {
   "cell_type": "code",
   "execution_count": 112,
   "metadata": {},
   "outputs": [],
   "source": [
    "import pickle\n",
    "pickle.dump(rfc,open('m1_depression01.pkl','wb'))"
   ]
  },
  {
   "cell_type": "markdown",
   "metadata": {},
   "source": [
    "## Predict 2 : Health Score (more is good)"
   ]
  },
  {
   "cell_type": "markdown",
   "metadata": {},
   "source": [
    "Linear Regression"
   ]
  },
  {
   "cell_type": "code",
   "execution_count": 131,
   "metadata": {},
   "outputs": [],
   "source": [
    "y = df['hs']\n",
    "X = df.drop(['hs'], axis = 1)\n",
    "X = X.drop(['depression'], axis = 1)\n",
    "X = X.drop(['as'], axis = 1)\n",
    "X = X.drop(['ss'], axis = 1)\n",
    "X = X.drop(['ds'], axis = 1)\n",
    "\n",
    "X_train, X_test, y_train, y_test = train_test_split(X, y, test_size = 0.3, random_state = 0)"
   ]
  },
  {
   "cell_type": "code",
   "execution_count": 132,
   "metadata": {},
   "outputs": [
    {
     "name": "stdout",
     "output_type": "stream",
     "text": [
      "[0.92548497 0.93767048 0.9409867  0.94088296 0.95695988]\n",
      "Train score: 0.9483651167471976\n",
      "Test score: 0.9392928749360963\n"
     ]
    }
   ],
   "source": [
    "from sklearn.linear_model import LinearRegression\n",
    "lrm2 = LinearRegression()\n",
    "from sklearn.model_selection import cross_val_score\n",
    "\n",
    "# Perform 5-fold cross-validation\n",
    "cv2_scores = cross_val_score(lrm2, X, y, cv=5)\n",
    "\n",
    "# Print the cross-validated scores\n",
    "print(cv2_scores)\n",
    "\n",
    "lrm2.fit(X_train, y_train)\n",
    "print('Train score: {}'.format(lrm2.score(X_train, y_train)))\n",
    "print('Test score: {}'.format(lrm2.score(X_test,y_test)))"
   ]
  },
  {
   "cell_type": "code",
   "execution_count": 133,
   "metadata": {},
   "outputs": [
    {
     "data": {
      "text/plain": [
       "array([91.06974223, 78.2543715 , 90.93798754, ..., 91.2498911 ,\n",
       "       93.02998589, 91.18902538])"
      ]
     },
     "execution_count": 133,
     "metadata": {},
     "output_type": "execute_result"
    }
   ],
   "source": [
    "lrm2.predict(X_test)"
   ]
  },
  {
   "cell_type": "code",
   "execution_count": 134,
   "metadata": {},
   "outputs": [
    {
     "data": {
      "text/plain": [
       "98129.71677876053"
      ]
     },
     "execution_count": 134,
     "metadata": {},
     "output_type": "execute_result"
    }
   ],
   "source": [
    "lrm2.predict(X_test).sum()"
   ]
  },
  {
   "cell_type": "code",
   "execution_count": 135,
   "metadata": {},
   "outputs": [],
   "source": [
    "import pickle\n",
    "pickle.dump(lrm2,open('m2_Health_score.pkl','wb'))"
   ]
  },
  {
   "cell_type": "markdown",
   "metadata": {},
   "source": [
    "## Linear Regression but Overfitting"
   ]
  },
  {
   "cell_type": "markdown",
   "metadata": {},
   "source": [
    "we tried Linear Regression for Addiction Score but the train score was 0.8 but test score was 0.37, There we were facing **overfitting** problem so, we have 2 ways to solve it, one manually and another one by "
   ]
  },
  {
   "cell_type": "markdown",
   "metadata": {},
   "source": [
    "## Predict 3 : Addiction Score(Lesser is good)"
   ]
  },
  {
   "cell_type": "markdown",
   "metadata": {},
   "source": [
    "Ridge Regression"
   ]
  },
  {
   "cell_type": "code",
   "execution_count": 118,
   "metadata": {},
   "outputs": [],
   "source": [
    "y = df['as']\n",
    "X = df.drop(['as'], axis = 1)\n",
    "X = X.drop(['hs'], axis = 1)\n",
    "X = X.drop(['depression'], axis = 1)\n",
    "X = X.drop(['ss'], axis = 1)\n",
    "X = X.drop(['ds'], axis = 1)\n",
    "\n",
    "X_train, X_test, y_train, y_test = train_test_split(X, y, test_size = 0.3, random_state = 0)"
   ]
  },
  {
   "cell_type": "code",
   "execution_count": 119,
   "metadata": {},
   "outputs": [
    {
     "name": "stdout",
     "output_type": "stream",
     "text": [
      "Train score: 0.9999999001883769\n",
      "Test score: 0.9999999008735803\n"
     ]
    },
    {
     "data": {
      "text/plain": [
       "29345.82272981741"
      ]
     },
     "execution_count": 119,
     "metadata": {},
     "output_type": "execute_result"
    }
   ],
   "source": [
    "from sklearn.linear_model import Ridge\n",
    "ridge = Ridge()\n",
    "ridge.fit(X_train, y_train)\n",
    "print('Train score: {}'.format(ridge.score(X_train, y_train)))\n",
    "print('Test score: {}'.format(ridge.score(X_test,y_test)))\n",
    "\n",
    "ridge.predict(X_test).sum()"
   ]
  },
  {
   "cell_type": "code",
   "execution_count": 120,
   "metadata": {},
   "outputs": [
    {
     "data": {
      "text/plain": [
       "array([33.9574099 , 20.70186913, 21.09161317, ..., 20.70037489,\n",
       "       19.60657213, 40.70458868])"
      ]
     },
     "execution_count": 120,
     "metadata": {},
     "output_type": "execute_result"
    }
   ],
   "source": [
    "ridge.predict(X_test)"
   ]
  },
  {
   "cell_type": "code",
   "execution_count": 121,
   "metadata": {},
   "outputs": [],
   "source": [
    "import pickle\n",
    "pickle.dump(ridge,open('m3_addiction_score.pkl','wb'))"
   ]
  },
  {
   "cell_type": "code",
   "execution_count": null,
   "metadata": {},
   "outputs": [],
   "source": []
  },
  {
   "cell_type": "markdown",
   "metadata": {},
   "source": [
    "## Predict 4 : Sleep & Work Score (more is good)"
   ]
  },
  {
   "cell_type": "code",
   "execution_count": 122,
   "metadata": {},
   "outputs": [],
   "source": [
    "y = df['ss']\n",
    "X = df.drop(['ss'], axis = 1)\n",
    "X = X.drop(['hs'], axis = 1)\n",
    "X = X.drop(['as'], axis = 1)\n",
    "X = X.drop(['depression'], axis = 1)\n",
    "X = X.drop(['ds'], axis = 1)\n",
    "\n",
    "\n",
    "X_train, X_test, y_train, y_test = train_test_split(X, y, test_size = 0.3, random_state = 0)"
   ]
  },
  {
   "cell_type": "code",
   "execution_count": 123,
   "metadata": {},
   "outputs": [
    {
     "name": "stdout",
     "output_type": "stream",
     "text": [
      "Train score: 0.9670711941618517\n",
      "Test score: 0.9637604892839835\n"
     ]
    },
    {
     "data": {
      "text/plain": [
       "83840.9021386964"
      ]
     },
     "execution_count": 123,
     "metadata": {},
     "output_type": "execute_result"
    }
   ],
   "source": [
    "from sklearn.linear_model import Ridge\n",
    "ridgetest = Ridge()\n",
    "ridgetest.fit(X_train, y_train)\n",
    "print('Train score: {}'.format(ridgetest.score(X_train, y_train)))\n",
    "print('Test score: {}'.format(ridgetest.score(X_test,y_test)))\n",
    "\n",
    "ridgetest.predict(X_test).sum()"
   ]
  },
  {
   "cell_type": "code",
   "execution_count": 124,
   "metadata": {},
   "outputs": [
    {
     "data": {
      "text/plain": [
       "array([84.65335544, 89.88187918, 86.38432484, ..., 78.67535766,\n",
       "       66.56174689, 95.64656034])"
      ]
     },
     "execution_count": 124,
     "metadata": {},
     "output_type": "execute_result"
    }
   ],
   "source": [
    "ridgetest.predict(X_test)"
   ]
  },
  {
   "cell_type": "code",
   "execution_count": 125,
   "metadata": {},
   "outputs": [],
   "source": [
    "import pickle\n",
    "pickle.dump(ridgetest,open('m4_sleep_work_score.pkl','wb'))"
   ]
  },
  {
   "cell_type": "markdown",
   "metadata": {},
   "source": [
    "## Predict 5 : depression percentage [ Regression ]"
   ]
  },
  {
   "cell_type": "markdown",
   "metadata": {},
   "source": [
    "Ridge Regression"
   ]
  },
  {
   "cell_type": "code",
   "execution_count": 126,
   "metadata": {},
   "outputs": [],
   "source": [
    "y = df['ds']\n",
    "X = df.drop(['ds'], axis = 1)\n",
    "X = X.drop(['hs'], axis = 1)\n",
    "X = X.drop(['as'], axis = 1)\n",
    "X = X.drop(['ss'], axis = 1)\n",
    "X = X.drop(['depression'], axis = 1)\n",
    "\n",
    "X_train, X_test, y_train, y_test = train_test_split(X, y, test_size = 0.3, random_state = 0)"
   ]
  },
  {
   "cell_type": "code",
   "execution_count": 127,
   "metadata": {},
   "outputs": [
    {
     "name": "stdout",
     "output_type": "stream",
     "text": [
      "Train score: 0.9858916899715671\n",
      "Test score: 0.9837041566862884\n"
     ]
    },
    {
     "data": {
      "text/plain": [
       "17430.92220060561"
      ]
     },
     "execution_count": 127,
     "metadata": {},
     "output_type": "execute_result"
    }
   ],
   "source": [
    "from sklearn.linear_model import Ridge\n",
    "ridgetest = Ridge()\n",
    "ridgetest.fit(X_train, y_train)\n",
    "print('Train score: {}'.format(ridgetest.score(X_train, y_train)))\n",
    "print('Test score: {}'.format(ridgetest.score(X_test,y_test)))\n",
    "\n",
    "ridgetest.predict(X_test).sum()"
   ]
  },
  {
   "cell_type": "code",
   "execution_count": 128,
   "metadata": {},
   "outputs": [
    {
     "data": {
      "text/plain": [
       "array([14.43869292, 14.88696195,  8.53675233, ...,  8.4880682 ,\n",
       "        8.39728279, 14.44137415])"
      ]
     },
     "execution_count": 128,
     "metadata": {},
     "output_type": "execute_result"
    }
   ],
   "source": [
    "ridgetest.predict(X_test)"
   ]
  },
  {
   "cell_type": "code",
   "execution_count": 129,
   "metadata": {},
   "outputs": [],
   "source": [
    "import pickle\n",
    "pickle.dump(ridgetest,open('m5_depression_per.pkl','wb'))\n"
   ]
  },
  {
   "cell_type": "code",
   "execution_count": 130,
   "metadata": {},
   "outputs": [],
   "source": [
    "df.to_csv('eda_done.csv')"
   ]
  },
  {
   "cell_type": "code",
   "execution_count": null,
   "metadata": {},
   "outputs": [],
   "source": []
  },
  {
   "cell_type": "code",
   "execution_count": null,
   "metadata": {},
   "outputs": [],
   "source": []
  },
  {
   "cell_type": "code",
   "execution_count": null,
   "metadata": {},
   "outputs": [],
   "source": [
    "\n"
   ]
  }
 ],
 "metadata": {
  "kernelspec": {
   "display_name": "Python 3",
   "language": "python",
   "name": "python3"
  },
  "language_info": {
   "codemirror_mode": {
    "name": "ipython",
    "version": 3
   },
   "file_extension": ".py",
   "mimetype": "text/x-python",
   "name": "python",
   "nbconvert_exporter": "python",
   "pygments_lexer": "ipython3",
   "version": "3.8.5"
  }
 },
 "nbformat": 4,
 "nbformat_minor": 4
}
